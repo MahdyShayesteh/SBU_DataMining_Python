{
  "nbformat": 4,
  "nbformat_minor": 0,
  "metadata": {
    "colab": {
      "name": "exercise3_part3.ipynb",
      "provenance": [],
      "collapsed_sections": [],
      "toc_visible": true,
      "authorship_tag": "ABX9TyOjksGuCQpZB4MXUYkc6cPK",
      "include_colab_link": true
    },
    "kernelspec": {
      "display_name": "Python 3",
      "name": "python3"
    },
    "language_info": {
      "name": "python"
    }
  },
  "cells": [
    {
      "cell_type": "markdown",
      "metadata": {
        "id": "view-in-github",
        "colab_type": "text"
      },
      "source": [
        "<a href=\"https://colab.research.google.com/github/mahhhdy/SBU_DataMining_Python/blob/main/exercise3_part3.ipynb\" target=\"_parent\"><img src=\"https://colab.research.google.com/assets/colab-badge.svg\" alt=\"Open In Colab\"/></a>"
      ]
    },
    {
      "cell_type": "markdown",
      "metadata": {
        "id": "kX9qyv9ZpoQ4"
      },
      "source": [
        "\n",
        "\n",
        "*   initial libs and check for missing values\n",
        "*   Visualizing bitcoin data\n",
        "*   reverse ordering by date of dataFrame rows and reset index\n",
        "*   convert date column format\n",
        "*   split data set to train and test\n",
        "*   test models (linear regression, lasso, ridge,SVR)\n",
        "*   face book prophet\n",
        "\n"
      ]
    },
    {
      "cell_type": "markdown",
      "metadata": {
        "id": "UIP0zn8qeAUI"
      },
      "source": [
        "# initial libs and check for missing values"
      ]
    },
    {
      "cell_type": "code",
      "metadata": {
        "colab": {
          "base_uri": "https://localhost:8080/"
        },
        "id": "NWYfBtiAdaOI",
        "outputId": "3726aa70-63de-4b83-dd04-e99e79f66fd9"
      },
      "source": [
        "import pandas as pd\n",
        "import numpy as np\n",
        "from datetime import datetime\n",
        "from google.colab import drive\n",
        "import matplotlib.pyplot as plt\n",
        "from sklearn.linear_model import LinearRegression , Ridge , Lasso\n",
        "from sklearn.svm import SVR\n",
        "from sklearn.metrics import mean_squared_error\n",
        "import math\n",
        "from fbprophet import Prophet\n",
        "\n",
        "plt.style.use('seaborn-darkgrid')\n",
        "drive.mount('/content/drive')\n",
        "path='/content/drive/MyDrive/DataSets/BitcoinHistoricalDataInvesting.csv'\n",
        "\n",
        "df=pd.read_csv(path)\n",
        "print(df.head())"
      ],
      "execution_count": 113,
      "outputs": [
        {
          "output_type": "stream",
          "text": [
            "Drive already mounted at /content/drive; to attempt to forcibly remount, call drive.mount(\"/content/drive\", force_remount=True).\n",
            "           Date    Price     Open     High      Low     Vol. Change %\n",
            "0  May 01, 2021  57807.1  57719.1  58449.4  57029.5   63.41K    0.15%\n",
            "1  Apr 30, 2021  57720.3  53562.3  57925.6  53088.7  103.74K    7.77%\n",
            "2  Apr 29, 2021  53560.8  54838.6  55173.7  52400.0   83.90K   -2.34%\n",
            "3  Apr 28, 2021  54841.4  55036.0  56419.9  53876.4   86.96K   -0.35%\n",
            "4  Apr 27, 2021  55036.5  54011.1  55427.8  53345.0   84.08K    1.88%\n"
          ],
          "name": "stdout"
        }
      ]
    },
    {
      "cell_type": "code",
      "metadata": {
        "colab": {
          "base_uri": "https://localhost:8080/"
        },
        "id": "PRw2sLouFtRt",
        "outputId": "f88540bb-9092-4f26-ed5c-f1b17c35d8b4"
      },
      "source": [
        "df.info()"
      ],
      "execution_count": 114,
      "outputs": [
        {
          "output_type": "stream",
          "text": [
            "<class 'pandas.core.frame.DataFrame'>\n",
            "RangeIndex: 3941 entries, 0 to 3940\n",
            "Data columns (total 7 columns):\n",
            " #   Column    Non-Null Count  Dtype  \n",
            "---  ------    --------------  -----  \n",
            " 0   Date      3941 non-null   object \n",
            " 1   Price     3941 non-null   float64\n",
            " 2   Open      3941 non-null   float64\n",
            " 3   High      3941 non-null   float64\n",
            " 4   Low       3941 non-null   float64\n",
            " 5   Vol.      3941 non-null   object \n",
            " 6   Change %  3941 non-null   object \n",
            "dtypes: float64(4), object(3)\n",
            "memory usage: 215.6+ KB\n"
          ],
          "name": "stdout"
        }
      ]
    },
    {
      "cell_type": "markdown",
      "metadata": {
        "id": "2SAkG60uB6-9"
      },
      "source": [
        "Price feature is Close value of candel"
      ]
    },
    {
      "cell_type": "code",
      "metadata": {
        "colab": {
          "base_uri": "https://localhost:8080/"
        },
        "id": "SqGRmAV_Bf3M",
        "outputId": "98902dbb-733b-4901-cb5b-d57b98b72ae1"
      },
      "source": [
        "df.isnull().any()"
      ],
      "execution_count": 115,
      "outputs": [
        {
          "output_type": "execute_result",
          "data": {
            "text/plain": [
              "Date        False\n",
              "Price       False\n",
              "Open        False\n",
              "High        False\n",
              "Low         False\n",
              "Vol.        False\n",
              "Change %    False\n",
              "dtype: bool"
            ]
          },
          "metadata": {
            "tags": []
          },
          "execution_count": 115
        }
      ]
    },
    {
      "cell_type": "markdown",
      "metadata": {
        "id": "kpWKWGbUMAeA"
      },
      "source": [
        "# reverse ordering of dataFrame rows and reset index"
      ]
    },
    {
      "cell_type": "code",
      "metadata": {
        "id": "izTwMdlcLT9x"
      },
      "source": [
        "df = df[::-1].reset_index(drop = True) "
      ],
      "execution_count": 116,
      "outputs": []
    },
    {
      "cell_type": "markdown",
      "metadata": {
        "id": "oBadhRDBK-0C"
      },
      "source": [
        "# Visualizing bitcoin data"
      ]
    },
    {
      "cell_type": "code",
      "metadata": {
        "colab": {
          "base_uri": "https://localhost:8080/",
          "height": 471
        },
        "id": "JsqQU6gVKuiu",
        "outputId": "22515add-48b9-4da6-ed92-10964779edf3"
      },
      "source": [
        "df.set_index(\"Date\").Price.plot(figsize=(14,7), title=\"Bitcoin Weighted Price\")"
      ],
      "execution_count": 117,
      "outputs": [
        {
          "output_type": "execute_result",
          "data": {
            "text/plain": [
              "<matplotlib.axes._subplots.AxesSubplot at 0x7f64e69924d0>"
            ]
          },
          "metadata": {
            "tags": []
          },
          "execution_count": 117
        },
        {
          "output_type": "display_data",
          "data": {
            "image/png": "[encoded data removed]",
            "text/plain": [
              "<Figure size 1008x504 with 1 Axes>"
            ]
          },
          "metadata": {
            "tags": []
          }
        }
      ]
    },
    {
      "cell_type": "markdown",
      "metadata": {
        "id": "3utsEzMspbzR"
      },
      "source": [
        "# convert date column format"
      ]
    },
    {
      "cell_type": "code",
      "metadata": {
        "id": "WOcEP8L2fCGt"
      },
      "source": [
        "df['Date']= df['Date'].apply(lambda x: datetime.strptime(x, '%b %d, %Y').strftime('%Y-%m-%d'))"
      ],
      "execution_count": 118,
      "outputs": []
    },
    {
      "cell_type": "code",
      "metadata": {
        "colab": {
          "base_uri": "https://localhost:8080/",
          "height": 204
        },
        "id": "11_JbyQjgo_a",
        "outputId": "10c7fe65-a965-4ecc-e49e-3dad1387ec56"
      },
      "source": [
        "df.head()"
      ],
      "execution_count": 119,
      "outputs": [
        {
          "output_type": "execute_result",
          "data": {
            "text/html": [
              "<div>\n",
              "<style scoped>\n",
              "    .dataframe tbody tr th:only-of-type {\n",
              "        vertical-align: middle;\n",
              "    }\n",
              "\n",
              "    .dataframe tbody tr th {\n",
              "        vertical-align: top;\n",
              "    }\n",
              "\n",
              "    .dataframe thead th {\n",
              "        text-align: right;\n",
              "    }\n",
              "</style>\n",
              "<table border=\"1\" class=\"dataframe\">\n",
              "  <thead>\n",
              "    <tr style=\"text-align: right;\">\n",
              "      <th></th>\n",
              "      <th>Date</th>\n",
              "      <th>Price</th>\n",
              "      <th>Open</th>\n",
              "      <th>High</th>\n",
              "      <th>Low</th>\n",
              "      <th>Vol.</th>\n",
              "      <th>Change %</th>\n",
              "    </tr>\n",
              "  </thead>\n",
              "  <tbody>\n",
              "    <tr>\n",
              "      <th>0</th>\n",
              "      <td>2010-07-18</td>\n",
              "      <td>0.1</td>\n",
              "      <td>0.0</td>\n",
              "      <td>0.1</td>\n",
              "      <td>0.1</td>\n",
              "      <td>0.08K</td>\n",
              "      <td>0.00%</td>\n",
              "    </tr>\n",
              "    <tr>\n",
              "      <th>1</th>\n",
              "      <td>2010-07-19</td>\n",
              "      <td>0.1</td>\n",
              "      <td>0.1</td>\n",
              "      <td>0.1</td>\n",
              "      <td>0.1</td>\n",
              "      <td>0.57K</td>\n",
              "      <td>0.00%</td>\n",
              "    </tr>\n",
              "    <tr>\n",
              "      <th>2</th>\n",
              "      <td>2010-07-20</td>\n",
              "      <td>0.1</td>\n",
              "      <td>0.1</td>\n",
              "      <td>0.1</td>\n",
              "      <td>0.1</td>\n",
              "      <td>0.26K</td>\n",
              "      <td>0.00%</td>\n",
              "    </tr>\n",
              "    <tr>\n",
              "      <th>3</th>\n",
              "      <td>2010-07-21</td>\n",
              "      <td>0.1</td>\n",
              "      <td>0.1</td>\n",
              "      <td>0.1</td>\n",
              "      <td>0.1</td>\n",
              "      <td>0.58K</td>\n",
              "      <td>0.00%</td>\n",
              "    </tr>\n",
              "    <tr>\n",
              "      <th>4</th>\n",
              "      <td>2010-07-22</td>\n",
              "      <td>0.1</td>\n",
              "      <td>0.1</td>\n",
              "      <td>0.1</td>\n",
              "      <td>0.1</td>\n",
              "      <td>2.16K</td>\n",
              "      <td>0.00%</td>\n",
              "    </tr>\n",
              "  </tbody>\n",
              "</table>\n",
              "</div>"
            ],
            "text/plain": [
              "         Date  Price  Open  High  Low   Vol. Change %\n",
              "0  2010-07-18    0.1   0.0   0.1  0.1  0.08K    0.00%\n",
              "1  2010-07-19    0.1   0.1   0.1  0.1  0.57K    0.00%\n",
              "2  2010-07-20    0.1   0.1   0.1  0.1  0.26K    0.00%\n",
              "3  2010-07-21    0.1   0.1   0.1  0.1  0.58K    0.00%\n",
              "4  2010-07-22    0.1   0.1   0.1  0.1  2.16K    0.00%"
            ]
          },
          "metadata": {
            "tags": []
          },
          "execution_count": 119
        }
      ]
    },
    {
      "cell_type": "markdown",
      "metadata": {
        "id": "TNV2f3usPugl"
      },
      "source": [
        "nake copy from data fram"
      ]
    },
    {
      "cell_type": "code",
      "metadata": {
        "id": "w2siRlR9PRJ1"
      },
      "source": [
        "df_copy = df.copy()"
      ],
      "execution_count": 120,
      "outputs": []
    },
    {
      "cell_type": "markdown",
      "metadata": {
        "id": "bqFuA-I-0IQ2"
      },
      "source": [
        "# split data set to train and test"
      ]
    },
    {
      "cell_type": "code",
      "metadata": {
        "colab": {
          "base_uri": "https://localhost:8080/"
        },
        "id": "jZ58v9rrzRfO",
        "outputId": "1bcdc52d-936e-44fc-afba-66741c8cb01c"
      },
      "source": [
        "df.index[df['Date'] == '2020-01-01'].tolist()"
      ],
      "execution_count": 121,
      "outputs": [
        {
          "output_type": "execute_result",
          "data": {
            "text/plain": [
              "[3454]"
            ]
          },
          "metadata": {
            "tags": []
          },
          "execution_count": 121
        }
      ]
    },
    {
      "cell_type": "code",
      "metadata": {
        "colab": {
          "base_uri": "https://localhost:8080/"
        },
        "id": "C6uKdtOj8XKS",
        "outputId": "e285a9eb-8065-4cde-f2ee-3e2cd06b22f6"
      },
      "source": [
        "print(df.shape)\n",
        "n = df.shape[0] - 3454\n",
        "print(n)"
      ],
      "execution_count": 122,
      "outputs": [
        {
          "output_type": "stream",
          "text": [
            "(3941, 7)\n",
            "487\n"
          ],
          "name": "stdout"
        }
      ]
    },
    {
      "cell_type": "code",
      "metadata": {
        "id": "OqwRxUho0kYm"
      },
      "source": [
        "X = df.drop(['Date','Price','Vol.','Change %'],axis=1)\n",
        "Y = df['Price']\n",
        "\n",
        "\n",
        "X_train = X[0:3454]\n",
        "X_test = X[3454:]\n",
        "y_train = Y[0:3454]\n",
        "y_test = Y[3454:]"
      ],
      "execution_count": 123,
      "outputs": []
    },
    {
      "cell_type": "code",
      "metadata": {
        "colab": {
          "base_uri": "https://localhost:8080/"
        },
        "id": "SfN_czePOwGj",
        "outputId": "69f3404e-f661-4ca7-ab12-7556b506f73d"
      },
      "source": [
        "X_test.size"
      ],
      "execution_count": 124,
      "outputs": [
        {
          "output_type": "execute_result",
          "data": {
            "text/plain": [
              "1461"
            ]
          },
          "metadata": {
            "tags": []
          },
          "execution_count": 124
        }
      ]
    },
    {
      "cell_type": "markdown",
      "metadata": {
        "id": "gUdPK-V2zWXS"
      },
      "source": [
        "# Test Models"
      ]
    },
    {
      "cell_type": "code",
      "metadata": {
        "id": "DBy9C3EaWD4z"
      },
      "source": [
        "df_train = df[df.Date < \"2020\"]\n",
        "df_valid = df[df.Date >= \"2020\"]\n",
        "# print('train shape :', df_train.shape)\n",
        "# print('validation shape :', df_valid.shape)"
      ],
      "execution_count": 125,
      "outputs": []
    },
    {
      "cell_type": "code",
      "metadata": {
        "colab": {
          "base_uri": "https://localhost:8080/"
        },
        "id": "DYKsJkSFx1Gp",
        "outputId": "aadd4562-28d7-4e2a-eafa-0f0d63bebf5f"
      },
      "source": [
        "lin_regression = LinearRegression().fit(X_train, y_train)\n",
        "lin_pred = lin_regression.predict(X_test)\n",
        "lin_pred_score = math.sqrt(mean_squared_error(y_test, lin_pred))\n",
        "print('test score LinearRegression : %.2f RMSE' % (lin_pred_score))"
      ],
      "execution_count": 126,
      "outputs": [
        {
          "output_type": "stream",
          "text": [
            "test score LinearRegression : 488.26 RMSE\n"
          ],
          "name": "stdout"
        }
      ]
    },
    {
      "cell_type": "code",
      "metadata": {
        "colab": {
          "base_uri": "https://localhost:8080/"
        },
        "id": "eLmX55k1x2Y2",
        "outputId": "57f0ca00-6c6e-468f-fcc9-7acc41fffb2f"
      },
      "source": [
        "ridge = Ridge().fit(X_train, y_train)\n",
        "ridge_pred = ridge.predict(X_test)\n",
        "ridge_pred_score = math.sqrt(mean_squared_error(y_test, ridge_pred))\n",
        "print('test score Ridge : %.2f RMSE' % (ridge_pred_score))"
      ],
      "execution_count": 127,
      "outputs": [
        {
          "output_type": "stream",
          "text": [
            "test score Ridge : 488.26 RMSE\n"
          ],
          "name": "stdout"
        }
      ]
    },
    {
      "cell_type": "code",
      "metadata": {
        "colab": {
          "base_uri": "https://localhost:8080/"
        },
        "id": "e_OAeIthx3qe",
        "outputId": "cfd42fa8-32ef-4b4a-bc62-b223e818dadd"
      },
      "source": [
        "lasso = Lasso().fit(X_train, y_train)\n",
        "lasso_pred = lasso.predict(X_test)\n",
        "lasso_pred_score = math.sqrt(mean_squared_error(y_test, lasso_pred))\n",
        "print('test score Lasso : %.2f RMSE' % (lasso_pred_score))"
      ],
      "execution_count": 128,
      "outputs": [
        {
          "output_type": "stream",
          "text": [
            "test score Lasso : 499.84 RMSE\n"
          ],
          "name": "stdout"
        },
        {
          "output_type": "stream",
          "text": [
            "/usr/local/lib/python3.7/dist-packages/sklearn/linear_model/_coordinate_descent.py:476: ConvergenceWarning:\n",
            "\n",
            "Objective did not converge. You might want to increase the number of iterations. Duality gap: 12255688.553563481, tolerance: 4104365.0088528194\n",
            "\n"
          ],
          "name": "stderr"
        }
      ]
    },
    {
      "cell_type": "code",
      "metadata": {
        "colab": {
          "base_uri": "https://localhost:8080/"
        },
        "id": "2rJpiMzbx47j",
        "outputId": "05932d7e-03c7-47a4-cb42-5135628b4d27"
      },
      "source": [
        "svr_poly = SVR(kernel='poly').fit(X_train,y_train)\n",
        "svr_poly_pred = svr_poly.predict(X_test)\n",
        "svr_poly_pred_score = math.sqrt(mean_squared_error(y_test, svr_poly_pred))\n",
        "print('test score SVR with poly kernel: %.2f RMSE' % (svr_poly_pred_score))"
      ],
      "execution_count": 129,
      "outputs": [
        {
          "output_type": "stream",
          "text": [
            "test score SVR with poly kernel: 605529.92 RMSE\n"
          ],
          "name": "stdout"
        }
      ]
    },
    {
      "cell_type": "code",
      "metadata": {
        "colab": {
          "base_uri": "https://localhost:8080/"
        },
        "id": "eY23Ll_Kvk2i",
        "outputId": "ad7695e5-698d-4098-9c30-690cd3698262"
      },
      "source": [
        "svr_rbf = SVR(kernel='rbf', gamma=0.1).fit(X_train, y_train)\n",
        "svr_rbf_pred = svr_rbf.predict(X_test)\n",
        "svr_rbf_pred_score = math.sqrt(mean_squared_error(y_test, svr_rbf_pred))\n",
        "print('test score SVR with rbf kernel: %.2f RMSE' % (svr_rbf_pred_score))"
      ],
      "execution_count": 130,
      "outputs": [
        {
          "output_type": "stream",
          "text": [
            "test score SVR with rbf kernel: 26335.08 RMSE\n"
          ],
          "name": "stdout"
        }
      ]
    },
    {
      "cell_type": "code",
      "metadata": {
        "colab": {
          "base_uri": "https://localhost:8080/"
        },
        "id": "0DWwO69NyTlW",
        "outputId": "0ab501d3-bce9-4a43-bbe2-adc539f02559"
      },
      "source": [
        "print('%.2f ' % (lin_pred_score),'test score LinearRegression')\n",
        "print('%.2f ' % (ridge_pred_score),'test score Ridge')\n",
        "print('%.2f ' % (lasso_pred_score),'test score Lasso')\n",
        "print('%.2f ' % (svr_poly_pred_score),'test score SVR with poly kernel')\n",
        "print('%.2f ' % (svr_rbf_pred_score),'test score SVR with rbf kernel')"
      ],
      "execution_count": 131,
      "outputs": [
        {
          "output_type": "stream",
          "text": [
            "488.26  test score LinearRegression\n",
            "488.26  test score Ridge\n",
            "499.84  test score Lasso\n",
            "605529.92  test score SVR with poly kernel\n",
            "26335.08  test score SVR with rbf kernel\n"
          ],
          "name": "stdout"
        }
      ]
    },
    {
      "cell_type": "markdown",
      "metadata": {
        "id": "mwLAff3hOa9s"
      },
      "source": [
        "# Face Book Prophet"
      ]
    },
    {
      "cell_type": "code",
      "metadata": {
        "colab": {
          "base_uri": "https://localhost:8080/",
          "height": 204
        },
        "id": "vUUpbevKOUU7",
        "outputId": "f74036ba-888a-418a-a54a-9e2e34470831"
      },
      "source": [
        "daily_data_fb = df.reset_index()[['Date','Price']].rename({'Date':'ds','Price':'y'}, axis=1)\n",
        "daily_data_fb.head()"
      ],
      "execution_count": 132,
      "outputs": [
        {
          "output_type": "execute_result",
          "data": {
            "text/html": [
              "<div>\n",
              "<style scoped>\n",
              "    .dataframe tbody tr th:only-of-type {\n",
              "        vertical-align: middle;\n",
              "    }\n",
              "\n",
              "    .dataframe tbody tr th {\n",
              "        vertical-align: top;\n",
              "    }\n",
              "\n",
              "    .dataframe thead th {\n",
              "        text-align: right;\n",
              "    }\n",
              "</style>\n",
              "<table border=\"1\" class=\"dataframe\">\n",
              "  <thead>\n",
              "    <tr style=\"text-align: right;\">\n",
              "      <th></th>\n",
              "      <th>ds</th>\n",
              "      <th>y</th>\n",
              "    </tr>\n",
              "  </thead>\n",
              "  <tbody>\n",
              "    <tr>\n",
              "      <th>0</th>\n",
              "      <td>2010-07-18</td>\n",
              "      <td>0.1</td>\n",
              "    </tr>\n",
              "    <tr>\n",
              "      <th>1</th>\n",
              "      <td>2010-07-19</td>\n",
              "      <td>0.1</td>\n",
              "    </tr>\n",
              "    <tr>\n",
              "      <th>2</th>\n",
              "      <td>2010-07-20</td>\n",
              "      <td>0.1</td>\n",
              "    </tr>\n",
              "    <tr>\n",
              "      <th>3</th>\n",
              "      <td>2010-07-21</td>\n",
              "      <td>0.1</td>\n",
              "    </tr>\n",
              "    <tr>\n",
              "      <th>4</th>\n",
              "      <td>2010-07-22</td>\n",
              "      <td>0.1</td>\n",
              "    </tr>\n",
              "  </tbody>\n",
              "</table>\n",
              "</div>"
            ],
            "text/plain": [
              "           ds    y\n",
              "0  2010-07-18  0.1\n",
              "1  2010-07-19  0.1\n",
              "2  2010-07-20  0.1\n",
              "3  2010-07-21  0.1\n",
              "4  2010-07-22  0.1"
            ]
          },
          "metadata": {
            "tags": []
          },
          "execution_count": 132
        }
      ]
    },
    {
      "cell_type": "code",
      "metadata": {
        "id": "YSIHO1ddQLuM"
      },
      "source": [
        "split_date = \"2020-01-01\"\n",
        "train_filt = daily_data_fb['ds'] <= split_date\n",
        "test_filt = daily_data_fb['ds'] > split_date\n",
        "\n",
        "train_fb = daily_data_fb[train_filt]\n",
        "test_fb = daily_data_fb[test_filt]"
      ],
      "execution_count": 133,
      "outputs": []
    },
    {
      "cell_type": "code",
      "metadata": {
        "colab": {
          "base_uri": "https://localhost:8080/"
        },
        "id": "LSRoNuK5O-ua",
        "outputId": "7811f7a8-651c-4931-ed05-c029ef8ffb0c"
      },
      "source": [
        "print(\"train data shape :\", train_fb.shape)\n",
        "print(\"test data shape :\", test_fb.shape)"
      ],
      "execution_count": 134,
      "outputs": [
        {
          "output_type": "stream",
          "text": [
            "train data shape : (3455, 2)\n",
            "test data shape : (486, 2)\n"
          ],
          "name": "stdout"
        }
      ]
    },
    {
      "cell_type": "code",
      "metadata": {
        "id": "N0YjirtoTQmg"
      },
      "source": [
        "# exogenous_features = ['Open_mean_lag3',\n",
        "#        'Open_mean_lag7', 'Open_mean_lag30', 'Open_std_lag3', 'Open_std_lag7',\n",
        "#        'Open_std_lag30', 'High_mean_lag3', 'High_mean_lag7', 'High_mean_lag30',\n",
        "#        'High_std_lag3', 'High_std_lag7', 'High_std_lag30', 'Low_mean_lag3',\n",
        "#        'Low_mean_lag7', 'Low_mean_lag30', 'Low_std_lag3', 'Low_std_lag7',\n",
        "#        'Low_std_lag30', 'Close_mean_lag3', 'Close_mean_lag7',\n",
        "#        'Close_mean_lag30', 'Close_std_lag3', 'Close_std_lag7',\n",
        "#        'Close_std_lag30', 'Volume_(BTC)_mean_lag3', 'Volume_(BTC)_mean_lag7',\n",
        "#        'Volume_(BTC)_mean_lag30', 'Volume_(BTC)_std_lag3',\n",
        "#        'Volume_(BTC)_std_lag7', 'Volume_(BTC)_std_lag30', 'month', 'week',\n",
        "#        'day', 'day_of_week']\n",
        "\n",
        "exogenous_features = ['Open','High','Low']"
      ],
      "execution_count": 135,
      "outputs": []
    },
    {
      "cell_type": "code",
      "metadata": {
        "colab": {
          "base_uri": "https://localhost:8080/",
          "height": 326
        },
        "id": "bKRzY1KyRpbO",
        "outputId": "f9f210c2-91ce-4121-841d-36edef8dd371"
      },
      "source": [
        "model_fbp = Prophet()\n",
        "for feature in exogenous_features:\n",
        "    model_fbp.add_regressor(feature)\n",
        "\n",
        "model_fbp.fit(df_train[[\"Date\", \"Price\"] + exogenous_features].rename(columns={\"Date\": \"ds\", \"Price\": \"y\"}))\n",
        "\n",
        "forecast = model_fbp.predict(df_valid[[\"Date\", \"Price\"] + exogenous_features].rename(columns={\"Date\": \"ds\"}))\n",
        "forecast.head()"
      ],
      "execution_count": 136,
      "outputs": [
        {
          "output_type": "stream",
          "text": [
            "INFO:fbprophet:Disabling daily seasonality. Run prophet with daily_seasonality=True to override this.\n"
          ],
          "name": "stderr"
        },
        {
          "output_type": "execute_result",
          "data": {
            "text/html": [
              "<div>\n",
              "<style scoped>\n",
              "    .dataframe tbody tr th:only-of-type {\n",
              "        vertical-align: middle;\n",
              "    }\n",
              "\n",
              "    .dataframe tbody tr th {\n",
              "        vertical-align: top;\n",
              "    }\n",
              "\n",
              "    .dataframe thead th {\n",
              "        text-align: right;\n",
              "    }\n",
              "</style>\n",
              "<table border=\"1\" class=\"dataframe\">\n",
              "  <thead>\n",
              "    <tr style=\"text-align: right;\">\n",
              "      <th></th>\n",
              "      <th>ds</th>\n",
              "      <th>trend</th>\n",
              "      <th>yhat_lower</th>\n",
              "      <th>yhat_upper</th>\n",
              "      <th>trend_lower</th>\n",
              "      <th>trend_upper</th>\n",
              "      <th>High</th>\n",
              "      <th>High_lower</th>\n",
              "      <th>High_upper</th>\n",
              "      <th>Low</th>\n",
              "      <th>Low_lower</th>\n",
              "      <th>Low_upper</th>\n",
              "      <th>Open</th>\n",
              "      <th>Open_lower</th>\n",
              "      <th>Open_upper</th>\n",
              "      <th>additive_terms</th>\n",
              "      <th>additive_terms_lower</th>\n",
              "      <th>additive_terms_upper</th>\n",
              "      <th>extra_regressors_additive</th>\n",
              "      <th>extra_regressors_additive_lower</th>\n",
              "      <th>extra_regressors_additive_upper</th>\n",
              "      <th>weekly</th>\n",
              "      <th>weekly_lower</th>\n",
              "      <th>weekly_upper</th>\n",
              "      <th>yearly</th>\n",
              "      <th>yearly_lower</th>\n",
              "      <th>yearly_upper</th>\n",
              "      <th>multiplicative_terms</th>\n",
              "      <th>multiplicative_terms_lower</th>\n",
              "      <th>multiplicative_terms_upper</th>\n",
              "      <th>yhat</th>\n",
              "    </tr>\n",
              "  </thead>\n",
              "  <tbody>\n",
              "    <tr>\n",
              "      <th>0</th>\n",
              "      <td>2020-01-01</td>\n",
              "      <td>2145.219924</td>\n",
              "      <td>7096.601099</td>\n",
              "      <td>7301.417094</td>\n",
              "      <td>2145.219924</td>\n",
              "      <td>2145.219924</td>\n",
              "      <td>4296.462182</td>\n",
              "      <td>4296.462182</td>\n",
              "      <td>4296.462182</td>\n",
              "      <td>3056.578813</td>\n",
              "      <td>3056.578813</td>\n",
              "      <td>3056.578813</td>\n",
              "      <td>-2298.966607</td>\n",
              "      <td>-2298.966607</td>\n",
              "      <td>-2298.966607</td>\n",
              "      <td>5052.378178</td>\n",
              "      <td>5052.378178</td>\n",
              "      <td>5052.378178</td>\n",
              "      <td>5054.074389</td>\n",
              "      <td>5054.074389</td>\n",
              "      <td>5054.074389</td>\n",
              "      <td>-3.261208</td>\n",
              "      <td>-3.261208</td>\n",
              "      <td>-3.261208</td>\n",
              "      <td>1.564997</td>\n",
              "      <td>1.564997</td>\n",
              "      <td>1.564997</td>\n",
              "      <td>0.0</td>\n",
              "      <td>0.0</td>\n",
              "      <td>0.0</td>\n",
              "      <td>7197.598102</td>\n",
              "    </tr>\n",
              "    <tr>\n",
              "      <th>1</th>\n",
              "      <td>2020-01-02</td>\n",
              "      <td>2145.201457</td>\n",
              "      <td>6886.772407</td>\n",
              "      <td>7077.986821</td>\n",
              "      <td>2145.201457</td>\n",
              "      <td>2145.201457</td>\n",
              "      <td>4253.939461</td>\n",
              "      <td>4253.939461</td>\n",
              "      <td>4253.939461</td>\n",
              "      <td>2889.324554</td>\n",
              "      <td>2889.324554</td>\n",
              "      <td>2889.324554</td>\n",
              "      <td>-2300.473680</td>\n",
              "      <td>-2300.473680</td>\n",
              "      <td>-2300.473680</td>\n",
              "      <td>4840.396270</td>\n",
              "      <td>4840.396270</td>\n",
              "      <td>4840.396270</td>\n",
              "      <td>4842.790335</td>\n",
              "      <td>4842.790335</td>\n",
              "      <td>4842.790335</td>\n",
              "      <td>-4.150386</td>\n",
              "      <td>-4.150386</td>\n",
              "      <td>-4.150386</td>\n",
              "      <td>1.756320</td>\n",
              "      <td>1.756320</td>\n",
              "      <td>1.756320</td>\n",
              "      <td>0.0</td>\n",
              "      <td>0.0</td>\n",
              "      <td>0.0</td>\n",
              "      <td>6985.597727</td>\n",
              "    </tr>\n",
              "    <tr>\n",
              "      <th>2</th>\n",
              "      <td>2020-01-03</td>\n",
              "      <td>2145.182991</td>\n",
              "      <td>7165.454057</td>\n",
              "      <td>7355.888958</td>\n",
              "      <td>2145.182991</td>\n",
              "      <td>2145.182991</td>\n",
              "      <td>4418.992515</td>\n",
              "      <td>4418.992515</td>\n",
              "      <td>4418.992515</td>\n",
              "      <td>2878.938701</td>\n",
              "      <td>2878.938701</td>\n",
              "      <td>2878.938701</td>\n",
              "      <td>-2194.247897</td>\n",
              "      <td>-2194.247897</td>\n",
              "      <td>-2194.247897</td>\n",
              "      <td>5113.069932</td>\n",
              "      <td>5113.069932</td>\n",
              "      <td>5113.069932</td>\n",
              "      <td>5103.683319</td>\n",
              "      <td>5103.683319</td>\n",
              "      <td>5103.683319</td>\n",
              "      <td>7.419105</td>\n",
              "      <td>7.419105</td>\n",
              "      <td>7.419105</td>\n",
              "      <td>1.967508</td>\n",
              "      <td>1.967508</td>\n",
              "      <td>1.967508</td>\n",
              "      <td>0.0</td>\n",
              "      <td>0.0</td>\n",
              "      <td>0.0</td>\n",
              "      <td>7258.252923</td>\n",
              "    </tr>\n",
              "    <tr>\n",
              "      <th>3</th>\n",
              "      <td>2020-01-04</td>\n",
              "      <td>2145.164524</td>\n",
              "      <td>7255.916727</td>\n",
              "      <td>7442.694322</td>\n",
              "      <td>2145.164524</td>\n",
              "      <td>2145.164524</td>\n",
              "      <td>4444.779386</td>\n",
              "      <td>4444.779386</td>\n",
              "      <td>4444.779386</td>\n",
              "      <td>3123.456503</td>\n",
              "      <td>3123.456503</td>\n",
              "      <td>3123.456503</td>\n",
              "      <td>-2366.876211</td>\n",
              "      <td>-2366.876211</td>\n",
              "      <td>-2366.876211</td>\n",
              "      <td>5202.710093</td>\n",
              "      <td>5202.710093</td>\n",
              "      <td>5202.710093</td>\n",
              "      <td>5201.359679</td>\n",
              "      <td>5201.359679</td>\n",
              "      <td>5201.359679</td>\n",
              "      <td>-0.840997</td>\n",
              "      <td>-0.840997</td>\n",
              "      <td>-0.840997</td>\n",
              "      <td>2.191411</td>\n",
              "      <td>2.191411</td>\n",
              "      <td>2.191411</td>\n",
              "      <td>0.0</td>\n",
              "      <td>0.0</td>\n",
              "      <td>0.0</td>\n",
              "      <td>7347.874617</td>\n",
              "    </tr>\n",
              "    <tr>\n",
              "      <th>4</th>\n",
              "      <td>2020-01-05</td>\n",
              "      <td>2145.146057</td>\n",
              "      <td>7325.755252</td>\n",
              "      <td>7519.260597</td>\n",
              "      <td>2145.146057</td>\n",
              "      <td>2145.146057</td>\n",
              "      <td>4502.757153</td>\n",
              "      <td>4502.757153</td>\n",
              "      <td>4502.757153</td>\n",
              "      <td>3155.994841</td>\n",
              "      <td>3155.994841</td>\n",
              "      <td>3155.994841</td>\n",
              "      <td>-2381.353242</td>\n",
              "      <td>-2381.353242</td>\n",
              "      <td>-2381.353242</td>\n",
              "      <td>5281.322168</td>\n",
              "      <td>5281.322168</td>\n",
              "      <td>5281.322168</td>\n",
              "      <td>5277.398753</td>\n",
              "      <td>5277.398753</td>\n",
              "      <td>5277.398753</td>\n",
              "      <td>1.502822</td>\n",
              "      <td>1.502822</td>\n",
              "      <td>1.502822</td>\n",
              "      <td>2.420593</td>\n",
              "      <td>2.420593</td>\n",
              "      <td>2.420593</td>\n",
              "      <td>0.0</td>\n",
              "      <td>0.0</td>\n",
              "      <td>0.0</td>\n",
              "      <td>7426.468225</td>\n",
              "    </tr>\n",
              "  </tbody>\n",
              "</table>\n",
              "</div>"
            ],
            "text/plain": [
              "          ds        trend  ...  multiplicative_terms_upper         yhat\n",
              "0 2020-01-01  2145.219924  ...                         0.0  7197.598102\n",
              "1 2020-01-02  2145.201457  ...                         0.0  6985.597727\n",
              "2 2020-01-03  2145.182991  ...                         0.0  7258.252923\n",
              "3 2020-01-04  2145.164524  ...                         0.0  7347.874617\n",
              "4 2020-01-05  2145.146057  ...                         0.0  7426.468225\n",
              "\n",
              "[5 rows x 31 columns]"
            ]
          },
          "metadata": {
            "tags": []
          },
          "execution_count": 136
        }
      ]
    },
    {
      "cell_type": "markdown",
      "metadata": {
        "id": "4VZnMXVyWu9p"
      },
      "source": [
        "Narrative\n",
        "\n",
        "*   yhat : the predicted forecast\n",
        "*   yhat_lower : the lower border of the prediction\n",
        "*   yhat_upper: the upper border of the prediction"
      ]
    },
    {
      "cell_type": "code",
      "metadata": {
        "colab": {
          "base_uri": "https://localhost:8080/",
          "height": 597
        },
        "id": "2sjMRrThW0MN",
        "outputId": "e9a69915-5e4a-4fef-c826-b68497f86d9f"
      },
      "source": [
        "df_valid[\"Forecast_Prophet\"] = forecast.yhat.values\n",
        "fig1 = model_fbp.plot(forecast)\n"
      ],
      "execution_count": 137,
      "outputs": [
        {
          "output_type": "stream",
          "text": [
            "/usr/local/lib/python3.7/dist-packages/ipykernel_launcher.py:1: SettingWithCopyWarning:\n",
            "\n",
            "\n",
            "A value is trying to be set on a copy of a slice from a DataFrame.\n",
            "Try using .loc[row_indexer,col_indexer] = value instead\n",
            "\n",
            "See the caveats in the documentation: https://pandas.pydata.org/pandas-docs/stable/user_guide/indexing.html#returning-a-view-versus-a-copy\n",
            "\n"
          ],
          "name": "stderr"
        },
        {
          "output_type": "display_data",
          "data": {
            "image/png": "[encoded data removed]",
            "text/plain": [
              "<Figure size 720x432 with 1 Axes>"
            ]
          },
          "metadata": {
            "tags": []
          }
        }
      ]
    },
    {
      "cell_type": "markdown",
      "metadata": {
        "id": "Tj3XPr9tZaI2"
      },
      "source": [
        "Narrative\n",
        "\n",
        "*   Black dots : the actual data points in our dataset.\n",
        "*   Deep blue line : the predicted forecast/the predicted values\n",
        "*   Light blue line : the boundaries"
      ]
    },
    {
      "cell_type": "markdown",
      "metadata": {
        "id": "fIHVh4IiZ2X2"
      },
      "source": [
        "# XG Boost"
      ]
    },
    {
      "cell_type": "code",
      "metadata": {
        "id": "VU9aEtv7ZeRW"
      },
      "source": [
        "from sklearn import ensemble\n",
        "from sklearn import metrics\n",
        "from sklearn.model_selection import RandomizedSearchCV\n",
        "import xgboost as xgb\n",
        "from xgboost import plot_importance, plot_tree\n",
        "from sklearn.metrics import mean_squared_error, mean_absolute_error\n",
        "plt.style.use('fivethirtyeight')"
      ],
      "execution_count": 138,
      "outputs": []
    },
    {
      "cell_type": "code",
      "metadata": {
        "id": "6ZGyji6wZ1pY"
      },
      "source": [
        "X_train, y_train = df_train[exogenous_features], df_train.Price\n",
        "X_test, y_test = df_valid[exogenous_features], df_valid.Price"
      ],
      "execution_count": 139,
      "outputs": []
    },
    {
      "cell_type": "code",
      "metadata": {
        "id": "eXWisaKcaBuk"
      },
      "source": [
        "reg = xgb.XGBRegressor()"
      ],
      "execution_count": 140,
      "outputs": []
    },
    {
      "cell_type": "code",
      "metadata": {
        "id": "amiGySpOaCL4"
      },
      "source": [
        "params={\n",
        " \"learning_rate\"    : [0.05, 0.10, 0.15, 0.20, 0.25, 0.30],\n",
        " \"max_depth\"        : [1, 3, 4, 5, 6, 7],\n",
        " \"n_estimators\"     : [int(x) for x in np.linspace(start=100, stop=2000, num=10)],\n",
        " \"min_child_weight\" : [int(x) for x in np.arange(3, 15, 1)],\n",
        " \"gamma\"            : [ 0.0, 0.1, 0.2 , 0.3, 0.4, 0.5, 0.6, 0.7, 0.8, 0.9, 1],\n",
        " \"subsample\"        : [0.1, 0.2, 0.3, 0.4, 0.5, 0.6, 0.7, 0.8, 0.9, 1],\n",
        " \"colsample_bytree\" : [0.5, 0.6, 0.7, 0.8, 0.9, 1],\n",
        " \"colsample_bylevel\": [0.5, 0.6, 0.7, 0.8, 0.9, 1],  \n",
        " \n",
        "}"
      ],
      "execution_count": 141,
      "outputs": []
    },
    {
      "cell_type": "code",
      "metadata": {
        "id": "Ts4B3RxZaFtK"
      },
      "source": [
        "model  = RandomizedSearchCV(    \n",
        "                reg,\n",
        "                param_distributions=params,\n",
        "                n_iter=10,\n",
        "                n_jobs=-1,\n",
        "                cv=5,\n",
        "                verbose=3,\n",
        ")"
      ],
      "execution_count": 142,
      "outputs": []
    },
    {
      "cell_type": "code",
      "metadata": {
        "colab": {
          "base_uri": "https://localhost:8080/"
        },
        "id": "2Zpon00SaHAe",
        "outputId": "687faa89-0b39-43b1-94fc-c24d546d979a"
      },
      "source": [
        "model.fit(X_train, y_train)"
      ],
      "execution_count": 143,
      "outputs": [
        {
          "output_type": "stream",
          "text": [
            "Fitting 5 folds for each of 10 candidates, totalling 50 fits\n"
          ],
          "name": "stdout"
        },
        {
          "output_type": "stream",
          "text": [
            "[Parallel(n_jobs=-1)]: Using backend LokyBackend with 2 concurrent workers.\n",
            "[Parallel(n_jobs=-1)]: Done  28 tasks      | elapsed:   12.7s\n",
            "[Parallel(n_jobs=-1)]: Done  50 out of  50 | elapsed:   28.2s finished\n"
          ],
          "name": "stderr"
        },
        {
          "output_type": "stream",
          "text": [
            "[14:12:27] WARNING: /workspace/src/objective/regression_obj.cu:152: reg:linear is now deprecated in favor of reg:squarederror.\n"
          ],
          "name": "stdout"
        },
        {
          "output_type": "execute_result",
          "data": {
            "text/plain": [
              "RandomizedSearchCV(cv=5, error_score=nan,\n",
              "                   estimator=XGBRegressor(base_score=0.5, booster='gbtree',\n",
              "                                          colsample_bylevel=1,\n",
              "                                          colsample_bynode=1,\n",
              "                                          colsample_bytree=1, gamma=0,\n",
              "                                          importance_type='gain',\n",
              "                                          learning_rate=0.1, max_delta_step=0,\n",
              "                                          max_depth=3, min_child_weight=1,\n",
              "                                          missing=None, n_estimators=100,\n",
              "                                          n_jobs=1, nthread=None,\n",
              "                                          objective='reg:linear',\n",
              "                                          random_state=0, reg_alpha=...\n",
              "                                                  0.6, 0.7, 0.8, 0.9, 1],\n",
              "                                        'learning_rate': [0.05, 0.1, 0.15, 0.2,\n",
              "                                                          0.25, 0.3],\n",
              "                                        'max_depth': [1, 3, 4, 5, 6, 7],\n",
              "                                        'min_child_weight': [3, 4, 5, 6, 7, 8,\n",
              "                                                             9, 10, 11, 12, 13,\n",
              "                                                             14],\n",
              "                                        'n_estimators': [100, 311, 522, 733,\n",
              "                                                         944, 1155, 1366, 1577,\n",
              "                                                         1788, 2000],\n",
              "                                        'subsample': [0.1, 0.2, 0.3, 0.4, 0.5,\n",
              "                                                      0.6, 0.7, 0.8, 0.9, 1]},\n",
              "                   pre_dispatch='2*n_jobs', random_state=None, refit=True,\n",
              "                   return_train_score=False, scoring=None, verbose=3)"
            ]
          },
          "metadata": {
            "tags": []
          },
          "execution_count": 143
        }
      ]
    },
    {
      "cell_type": "code",
      "metadata": {
        "colab": {
          "base_uri": "https://localhost:8080/"
        },
        "id": "ER9Rt1wzaJGb",
        "outputId": "5d44c57f-9872-4466-825c-4f57812aa3fc"
      },
      "source": [
        "print(f\"Model Best Score : {model.best_score_}\")\n",
        "print(f\"Model Best Parameters : {model.best_estimator_.get_params()}\")"
      ],
      "execution_count": 144,
      "outputs": [
        {
          "output_type": "stream",
          "text": [
            "Model Best Score : 0.8217703306004905\n",
            "Model Best Parameters : {'base_score': 0.5, 'booster': 'gbtree', 'colsample_bylevel': 0.9, 'colsample_bynode': 1, 'colsample_bytree': 0.8, 'gamma': 0.9, 'importance_type': 'gain', 'learning_rate': 0.3, 'max_delta_step': 0, 'max_depth': 7, 'min_child_weight': 5, 'missing': None, 'n_estimators': 522, 'n_jobs': 1, 'nthread': None, 'objective': 'reg:linear', 'random_state': 0, 'reg_alpha': 0, 'reg_lambda': 1, 'scale_pos_weight': 1, 'seed': None, 'silent': None, 'subsample': 0.9, 'verbosity': 1}\n"
          ],
          "name": "stdout"
        }
      ]
    },
    {
      "cell_type": "code",
      "metadata": {
        "colab": {
          "base_uri": "https://localhost:8080/"
        },
        "id": "5JacY6PHaK2d",
        "outputId": "253b1bb5-fe39-4dc4-c7fb-60d6b1abc34d"
      },
      "source": [
        "model.best_estimator_"
      ],
      "execution_count": 145,
      "outputs": [
        {
          "output_type": "execute_result",
          "data": {
            "text/plain": [
              "XGBRegressor(base_score=0.5, booster='gbtree', colsample_bylevel=0.9,\n",
              "             colsample_bynode=1, colsample_bytree=0.8, gamma=0.9,\n",
              "             importance_type='gain', learning_rate=0.3, max_delta_step=0,\n",
              "             max_depth=7, min_child_weight=5, missing=None, n_estimators=522,\n",
              "             n_jobs=1, nthread=None, objective='reg:linear', random_state=0,\n",
              "             reg_alpha=0, reg_lambda=1, scale_pos_weight=1, seed=None,\n",
              "             silent=None, subsample=0.9, verbosity=1)"
            ]
          },
          "metadata": {
            "tags": []
          },
          "execution_count": 145
        }
      ]
    },
    {
      "cell_type": "code",
      "metadata": {
        "colab": {
          "base_uri": "https://localhost:8080/",
          "height": 505
        },
        "id": "1vX3Ai43aM69",
        "outputId": "0cccd4d8-0c70-428e-f8a0-ec400905b377"
      },
      "source": [
        "df_train['Predicted_Weighted_Price'] = model.predict(X_train)\n",
        "df_train[['Price','Predicted_Weighted_Price']].plot(figsize=(15, 5))"
      ],
      "execution_count": 146,
      "outputs": [
        {
          "output_type": "stream",
          "text": [
            "/usr/local/lib/python3.7/dist-packages/ipykernel_launcher.py:1: SettingWithCopyWarning:\n",
            "\n",
            "\n",
            "A value is trying to be set on a copy of a slice from a DataFrame.\n",
            "Try using .loc[row_indexer,col_indexer] = value instead\n",
            "\n",
            "See the caveats in the documentation: https://pandas.pydata.org/pandas-docs/stable/user_guide/indexing.html#returning-a-view-versus-a-copy\n",
            "\n"
          ],
          "name": "stderr"
        },
        {
          "output_type": "execute_result",
          "data": {
            "text/plain": [
              "<matplotlib.axes._subplots.AxesSubplot at 0x7f64e6830750>"
            ]
          },
          "metadata": {
            "tags": []
          },
          "execution_count": 146
        },
        {
          "output_type": "display_data",
          "data": {
            "image/png": "[encoded data removed]",
            "text/plain": [
              "<Figure size 1080x360 with 1 Axes>"
            ]
          },
          "metadata": {
            "tags": []
          }
        }
      ]
    },
    {
      "cell_type": "code",
      "metadata": {
        "colab": {
          "base_uri": "https://localhost:8080/"
        },
        "id": "3gSHj-kpaMza",
        "outputId": "8ec71054-208f-4cbe-a642-fa4d1b78c5b2"
      },
      "source": [
        "df_valid['Forecast_XGBoost'] = model.predict(X_test)\n",
        "\n",
        "overall_data = pd.concat([df_train, df_valid], sort=False)"
      ],
      "execution_count": 147,
      "outputs": [
        {
          "output_type": "stream",
          "text": [
            "/usr/local/lib/python3.7/dist-packages/ipykernel_launcher.py:1: SettingWithCopyWarning:\n",
            "\n",
            "\n",
            "A value is trying to be set on a copy of a slice from a DataFrame.\n",
            "Try using .loc[row_indexer,col_indexer] = value instead\n",
            "\n",
            "See the caveats in the documentation: https://pandas.pydata.org/pandas-docs/stable/user_guide/indexing.html#returning-a-view-versus-a-copy\n",
            "\n"
          ],
          "name": "stderr"
        }
      ]
    },
    {
      "cell_type": "code",
      "metadata": {
        "colab": {
          "base_uri": "https://localhost:8080/",
          "height": 377
        },
        "id": "TF2_fc8vaTtd",
        "outputId": "f224d5c3-2c79-430f-a6af-90fd87df8fd2"
      },
      "source": [
        "overall_data[['Price','Forecast_XGBoost']].plot(figsize=(15, 5))"
      ],
      "execution_count": 148,
      "outputs": [
        {
          "output_type": "execute_result",
          "data": {
            "text/plain": [
              "<matplotlib.axes._subplots.AxesSubplot at 0x7f64e6ab1650>"
            ]
          },
          "metadata": {
            "tags": []
          },
          "execution_count": 148
        },
        {
          "output_type": "display_data",
          "data": {
            "image/png": "[encoded data removed]",
            "text/plain": [
              "<Figure size 1080x360 with 1 Axes>"
            ]
          },
          "metadata": {
            "tags": []
          }
        }
      ]
    },
    {
      "cell_type": "markdown",
      "metadata": {
        "id": "vzJW1nR1a5ND"
      },
      "source": [
        "# LSTM"
      ]
    },
    {
      "cell_type": "code",
      "metadata": {
        "colab": {
          "base_uri": "https://localhost:8080/"
        },
        "id": "f9lhxaeSa4NB",
        "outputId": "07c3748c-e804-4a23-a7ba-befc2f953b97"
      },
      "source": [
        "price_series = df.reset_index().Price.values\n",
        "price_series"
      ],
      "execution_count": 150,
      "outputs": [
        {
          "output_type": "execute_result",
          "data": {
            "text/plain": [
              "array([1.00000e-01, 1.00000e-01, 1.00000e-01, ..., 5.35608e+04,\n",
              "       5.77203e+04, 5.78071e+04])"
            ]
          },
          "metadata": {
            "tags": []
          },
          "execution_count": 150
        }
      ]
    }
  ]
}
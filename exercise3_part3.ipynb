{
  "nbformat": 4,
  "nbformat_minor": 0,
  "metadata": {
    "colab": {
      "name": "exercise3_part3.ipynb",
      "provenance": [],
      "collapsed_sections": [],
      "authorship_tag": "ABX9TyMPfqEKVcH21XjEynJFq2ix",
      "include_colab_link": true
    },
    "kernelspec": {
      "name": "python3",
      "display_name": "Python 3"
    },
    "language_info": {
      "name": "python"
    }
  },
  "cells": [
    {
      "cell_type": "markdown",
      "metadata": {
        "id": "view-in-github",
        "colab_type": "text"
      },
      "source": [
        "<a href=\"https://colab.research.google.com/github/mahhhdy/SBU_DataMining_Python/blob/main/exercise3_part3.ipynb\" target=\"_parent\"><img src=\"https://colab.research.google.com/assets/colab-badge.svg\" alt=\"Open In Colab\"/></a>"
      ]
    },
    {
      "cell_type": "markdown",
      "metadata": {
        "id": "kX9qyv9ZpoQ4"
      },
      "source": [
        "\n",
        "\n",
        "*   initial libs and check for missing values\n",
        "*   Visualizing bitcoin data\n",
        "*   reverse ordering by date of dataFrame rows and reset index\n",
        "*   convert date column format\n",
        "*   split data set to train and test\n",
        "*   test models\n",
        "\n"
      ]
    },
    {
      "cell_type": "markdown",
      "metadata": {
        "id": "UIP0zn8qeAUI"
      },
      "source": [
        "# initial libs and check for missing values"
      ]
    },
    {
      "cell_type": "code",
      "metadata": {
        "colab": {
          "base_uri": "https://localhost:8080/"
        },
        "id": "NWYfBtiAdaOI",
        "outputId": "a105e9bc-b2c2-4add-c9ca-b17be7d383ef"
      },
      "source": [
        "import pandas as pd\n",
        "import numpy as np\n",
        "from datetime import datetime\n",
        "from google.colab import drive\n",
        "import matplotlib.pyplot as plt\n",
        "from sklearn.linear_model import LinearRegression , Ridge , Lasso\n",
        "from sklearn.svm import SVR\n",
        "from sklearn.metrics import mean_squared_error\n",
        "import math\n",
        "\n",
        "plt.style.use('seaborn-darkgrid')\n",
        "drive.mount('/content/drive')\n",
        "path='/content/drive/MyDrive/DataSets/BitcoinHistoricalDataInvesting.csv'\n",
        "\n",
        "df=pd.read_csv(path)\n",
        "print(df.head())"
      ],
      "execution_count": 163,
      "outputs": [
        {
          "output_type": "stream",
          "text": [
            "Drive already mounted at /content/drive; to attempt to forcibly remount, call drive.mount(\"/content/drive\", force_remount=True).\n",
            "           Date   Price    Open    High     Low     Vol. Change %\n",
            "0  Jan 01, 2020  7199.8  7196.4  7259.4  7180.0  420.28K    0.05%\n",
            "1  Dec 31, 2019  7196.4  7261.5  7331.0  7167.4  586.60K   -0.90%\n",
            "2  Dec 30, 2019  7261.8  7397.5  7420.9  7244.1  606.11K   -1.84%\n",
            "3  Dec 29, 2019  7397.5  7321.6  7518.9  7303.0  611.69K    1.04%\n",
            "4  Dec 28, 2019  7321.5  7261.9  7375.9  7256.5  610.96K    0.82%\n"
          ],
          "name": "stdout"
        }
      ]
    },
    {
      "cell_type": "code",
      "metadata": {
        "colab": {
          "base_uri": "https://localhost:8080/"
        },
        "id": "PRw2sLouFtRt",
        "outputId": "32293b9f-ebaa-4d0c-e245-6fed1bc4388f"
      },
      "source": [
        "df.info()"
      ],
      "execution_count": 164,
      "outputs": [
        {
          "output_type": "stream",
          "text": [
            "<class 'pandas.core.frame.DataFrame'>\n",
            "RangeIndex: 3455 entries, 0 to 3454\n",
            "Data columns (total 7 columns):\n",
            " #   Column    Non-Null Count  Dtype  \n",
            "---  ------    --------------  -----  \n",
            " 0   Date      3455 non-null   object \n",
            " 1   Price     3455 non-null   float64\n",
            " 2   Open      3455 non-null   float64\n",
            " 3   High      3455 non-null   float64\n",
            " 4   Low       3455 non-null   float64\n",
            " 5   Vol.      3455 non-null   object \n",
            " 6   Change %  3455 non-null   object \n",
            "dtypes: float64(4), object(3)\n",
            "memory usage: 189.1+ KB\n"
          ],
          "name": "stdout"
        }
      ]
    },
    {
      "cell_type": "markdown",
      "metadata": {
        "id": "2SAkG60uB6-9"
      },
      "source": [
        "Price feature is Close value of candel"
      ]
    },
    {
      "cell_type": "code",
      "metadata": {
        "colab": {
          "base_uri": "https://localhost:8080/"
        },
        "id": "SqGRmAV_Bf3M",
        "outputId": "07a34bf6-a2ce-44ff-d606-307c3b11c23c"
      },
      "source": [
        "df.isnull().any()"
      ],
      "execution_count": 165,
      "outputs": [
        {
          "output_type": "execute_result",
          "data": {
            "text/plain": [
              "Date        False\n",
              "Price       False\n",
              "Open        False\n",
              "High        False\n",
              "Low         False\n",
              "Vol.        False\n",
              "Change %    False\n",
              "dtype: bool"
            ]
          },
          "metadata": {
            "tags": []
          },
          "execution_count": 165
        }
      ]
    },
    {
      "cell_type": "markdown",
      "metadata": {
        "id": "kpWKWGbUMAeA"
      },
      "source": [
        "# reverse ordering of dataFrame rows and reset index"
      ]
    },
    {
      "cell_type": "code",
      "metadata": {
        "id": "izTwMdlcLT9x"
      },
      "source": [
        "df = df[::-1].reset_index(drop = True) "
      ],
      "execution_count": 166,
      "outputs": []
    },
    {
      "cell_type": "markdown",
      "metadata": {
        "id": "oBadhRDBK-0C"
      },
      "source": [
        "# Visualizing bitcoin data"
      ]
    },
    {
      "cell_type": "code",
      "metadata": {
        "colab": {
          "base_uri": "https://localhost:8080/",
          "height": 471
        },
        "id": "JsqQU6gVKuiu",
        "outputId": "d291fbd1-2506-4f5a-c31b-25edc26fb579"
      },
      "source": [
        "df.set_index(\"Date\").Price.plot(figsize=(14,7), title=\"Bitcoin Weighted Price\")"
      ],
      "execution_count": 167,
      "outputs": [
        {
          "output_type": "execute_result",
          "data": {
            "text/plain": [
              "<matplotlib.axes._subplots.AxesSubplot at 0x7fd12b0007d0>"
            ]
          },
          "metadata": {
            "tags": []
          },
          "execution_count": 167
        },
        {
          "output_type": "display_data",
          "data": {
            "image/png": "[encoded data removed]",
            "text/plain": [
              "<Figure size 1008x504 with 1 Axes>"
            ]
          },
          "metadata": {
            "tags": []
          }
        }
      ]
    },
    {
      "cell_type": "markdown",
      "metadata": {
        "id": "3utsEzMspbzR"
      },
      "source": [
        "# convert date column format"
      ]
    },
    {
      "cell_type": "code",
      "metadata": {
        "id": "WOcEP8L2fCGt"
      },
      "source": [
        "df['Date']= df['Date'].apply(lambda x: datetime.strptime(x, '%b %d, %Y').strftime('%Y-%m-%d'))"
      ],
      "execution_count": 168,
      "outputs": []
    },
    {
      "cell_type": "code",
      "metadata": {
        "colab": {
          "base_uri": "https://localhost:8080/",
          "height": 204
        },
        "id": "11_JbyQjgo_a",
        "outputId": "2ef120a4-6036-4d1b-97e2-3535aa9e27c7"
      },
      "source": [
        "df.head()"
      ],
      "execution_count": 169,
      "outputs": [
        {
          "output_type": "execute_result",
          "data": {
            "text/html": [
              "<div>\n",
              "<style scoped>\n",
              "    .dataframe tbody tr th:only-of-type {\n",
              "        vertical-align: middle;\n",
              "    }\n",
              "\n",
              "    .dataframe tbody tr th {\n",
              "        vertical-align: top;\n",
              "    }\n",
              "\n",
              "    .dataframe thead th {\n",
              "        text-align: right;\n",
              "    }\n",
              "</style>\n",
              "<table border=\"1\" class=\"dataframe\">\n",
              "  <thead>\n",
              "    <tr style=\"text-align: right;\">\n",
              "      <th></th>\n",
              "      <th>Date</th>\n",
              "      <th>Price</th>\n",
              "      <th>Open</th>\n",
              "      <th>High</th>\n",
              "      <th>Low</th>\n",
              "      <th>Vol.</th>\n",
              "      <th>Change %</th>\n",
              "    </tr>\n",
              "  </thead>\n",
              "  <tbody>\n",
              "    <tr>\n",
              "      <th>0</th>\n",
              "      <td>2010-07-18</td>\n",
              "      <td>0.1</td>\n",
              "      <td>0.0</td>\n",
              "      <td>0.1</td>\n",
              "      <td>0.1</td>\n",
              "      <td>0.08K</td>\n",
              "      <td>0.00%</td>\n",
              "    </tr>\n",
              "    <tr>\n",
              "      <th>1</th>\n",
              "      <td>2010-07-19</td>\n",
              "      <td>0.1</td>\n",
              "      <td>0.1</td>\n",
              "      <td>0.1</td>\n",
              "      <td>0.1</td>\n",
              "      <td>0.57K</td>\n",
              "      <td>0.00%</td>\n",
              "    </tr>\n",
              "    <tr>\n",
              "      <th>2</th>\n",
              "      <td>2010-07-20</td>\n",
              "      <td>0.1</td>\n",
              "      <td>0.1</td>\n",
              "      <td>0.1</td>\n",
              "      <td>0.1</td>\n",
              "      <td>0.26K</td>\n",
              "      <td>0.00%</td>\n",
              "    </tr>\n",
              "    <tr>\n",
              "      <th>3</th>\n",
              "      <td>2010-07-21</td>\n",
              "      <td>0.1</td>\n",
              "      <td>0.1</td>\n",
              "      <td>0.1</td>\n",
              "      <td>0.1</td>\n",
              "      <td>0.58K</td>\n",
              "      <td>0.00%</td>\n",
              "    </tr>\n",
              "    <tr>\n",
              "      <th>4</th>\n",
              "      <td>2010-07-22</td>\n",
              "      <td>0.1</td>\n",
              "      <td>0.1</td>\n",
              "      <td>0.1</td>\n",
              "      <td>0.1</td>\n",
              "      <td>2.16K</td>\n",
              "      <td>0.00%</td>\n",
              "    </tr>\n",
              "  </tbody>\n",
              "</table>\n",
              "</div>"
            ],
            "text/plain": [
              "         Date  Price  Open  High  Low   Vol. Change %\n",
              "0  2010-07-18    0.1   0.0   0.1  0.1  0.08K    0.00%\n",
              "1  2010-07-19    0.1   0.1   0.1  0.1  0.57K    0.00%\n",
              "2  2010-07-20    0.1   0.1   0.1  0.1  0.26K    0.00%\n",
              "3  2010-07-21    0.1   0.1   0.1  0.1  0.58K    0.00%\n",
              "4  2010-07-22    0.1   0.1   0.1  0.1  2.16K    0.00%"
            ]
          },
          "metadata": {
            "tags": []
          },
          "execution_count": 169
        }
      ]
    },
    {
      "cell_type": "markdown",
      "metadata": {
        "id": "TNV2f3usPugl"
      },
      "source": [
        "nake copy from data fram"
      ]
    },
    {
      "cell_type": "code",
      "metadata": {
        "id": "w2siRlR9PRJ1"
      },
      "source": [
        "df_copy = df.copy()"
      ],
      "execution_count": 170,
      "outputs": []
    },
    {
      "cell_type": "markdown",
      "metadata": {
        "id": "bqFuA-I-0IQ2"
      },
      "source": [
        "# split data set to train and test"
      ]
    },
    {
      "cell_type": "code",
      "metadata": {
        "colab": {
          "base_uri": "https://localhost:8080/"
        },
        "id": "jZ58v9rrzRfO",
        "outputId": "e17d141c-23c8-493d-fe60-6cea41b2e6a3"
      },
      "source": [
        "df.index[df['Date'] == '2020-01-01'].tolist()"
      ],
      "execution_count": 171,
      "outputs": [
        {
          "output_type": "execute_result",
          "data": {
            "text/plain": [
              "[3454]"
            ]
          },
          "metadata": {
            "tags": []
          },
          "execution_count": 171
        }
      ]
    },
    {
      "cell_type": "code",
      "metadata": {
        "colab": {
          "base_uri": "https://localhost:8080/"
        },
        "id": "C6uKdtOj8XKS",
        "outputId": "5adb5c49-4b1a-4674-8b51-efc29ddbe1a1"
      },
      "source": [
        "print(df.shape)\n",
        "n = df.shape[0] - 486\n",
        "print(n)"
      ],
      "execution_count": 172,
      "outputs": [
        {
          "output_type": "stream",
          "text": [
            "(3455, 7)\n",
            "2969\n"
          ],
          "name": "stdout"
        }
      ]
    },
    {
      "cell_type": "code",
      "metadata": {
        "id": "OqwRxUho0kYm"
      },
      "source": [
        "X = df.drop(['Date','Price','Vol.','Change %'],axis=1)\n",
        "Y = df['Price']\n",
        "\n",
        "\n",
        "X_train = X[0:2969]\n",
        "X_test = X[2969:]\n",
        "y_train = Y[0:2969]\n",
        "y_test = Y[2969:]"
      ],
      "execution_count": 173,
      "outputs": []
    },
    {
      "cell_type": "code",
      "metadata": {
        "colab": {
          "base_uri": "https://localhost:8080/"
        },
        "id": "SfN_czePOwGj",
        "outputId": "e6dd8266-d71b-4fab-b120-c05806844220"
      },
      "source": [
        "X_test.size"
      ],
      "execution_count": 174,
      "outputs": [
        {
          "output_type": "execute_result",
          "data": {
            "text/plain": [
              "1458"
            ]
          },
          "metadata": {
            "tags": []
          },
          "execution_count": 174
        }
      ]
    },
    {
      "cell_type": "markdown",
      "metadata": {
        "id": "gUdPK-V2zWXS"
      },
      "source": [
        "# Test Models"
      ]
    },
    {
      "cell_type": "code",
      "metadata": {
        "colab": {
          "base_uri": "https://localhost:8080/"
        },
        "id": "DYKsJkSFx1Gp",
        "outputId": "6e68913f-dc06-4309-d07b-5ddea115b38a"
      },
      "source": [
        "lin_regression = LinearRegression().fit(X_train, y_train)\n",
        "lin_pred = lin_regression.predict(X_test)\n",
        "lin_pred_score = math.sqrt(mean_squared_error(y_test, lin_pred))\n",
        "print('test score LinearRegression : %.2f RMSE' % (lin_pred_score))"
      ],
      "execution_count": 175,
      "outputs": [
        {
          "output_type": "stream",
          "text": [
            "test score LinearRegression : 125.81 RMSE\n"
          ],
          "name": "stdout"
        }
      ]
    },
    {
      "cell_type": "code",
      "metadata": {
        "colab": {
          "base_uri": "https://localhost:8080/"
        },
        "id": "eLmX55k1x2Y2",
        "outputId": "38f54a94-ba37-4946-fcc1-f9196eac9066"
      },
      "source": [
        "ridge = Ridge().fit(X_train, y_train)\n",
        "ridge_pred = ridge.predict(X_test)\n",
        "ridge_pred_score = math.sqrt(mean_squared_error(y_test, ridge_pred))\n",
        "print('test score Ridge : %.2f RMSE' % (ridge_pred_score))"
      ],
      "execution_count": 176,
      "outputs": [
        {
          "output_type": "stream",
          "text": [
            "test score Ridge : 125.81 RMSE\n"
          ],
          "name": "stdout"
        }
      ]
    },
    {
      "cell_type": "code",
      "metadata": {
        "colab": {
          "base_uri": "https://localhost:8080/"
        },
        "id": "e_OAeIthx3qe",
        "outputId": "a308887d-3084-485e-cc45-826adcacfedd"
      },
      "source": [
        "lasso = Lasso().fit(X_train, y_train)\n",
        "lasso_pred = lasso.predict(X_test)\n",
        "lasso_pred_score = math.sqrt(mean_squared_error(y_test, lasso_pred))\n",
        "print('test score Lasso : %.2f RMSE' % (lasso_pred_score))"
      ],
      "execution_count": 177,
      "outputs": [
        {
          "output_type": "stream",
          "text": [
            "test score Lasso : 134.77 RMSE\n"
          ],
          "name": "stdout"
        }
      ]
    },
    {
      "cell_type": "code",
      "metadata": {
        "colab": {
          "base_uri": "https://localhost:8080/"
        },
        "id": "2rJpiMzbx47j",
        "outputId": "e60159ff-ec35-456c-c3fc-d7f885739e8f"
      },
      "source": [
        "svr_poly = SVR(kernel='poly').fit(X_train,y_train)\n",
        "svr_poly_pred = svr_poly.predict(X_test)\n",
        "svr_poly_pred_score = math.sqrt(mean_squared_error(y_test, svr_poly_pred))\n",
        "print('test score SVR with poly kernel: %.2f RMSE' % (svr_poly_pred_score))"
      ],
      "execution_count": 178,
      "outputs": [
        {
          "output_type": "stream",
          "text": [
            "test score SVR with poly kernel: 3449.76 RMSE\n"
          ],
          "name": "stdout"
        }
      ]
    },
    {
      "cell_type": "code",
      "metadata": {
        "colab": {
          "base_uri": "https://localhost:8080/"
        },
        "id": "eY23Ll_Kvk2i",
        "outputId": "273d8d4a-c95e-4fdb-b3e8-55b5c2def3bf"
      },
      "source": [
        "svr_rbf = SVR(kernel='rbf', gamma=0.1).fit(X_train, y_train)\n",
        "svr_rbf_pred = svr_rbf.predict(X_test)\n",
        "svr_rbf_pred_score = math.sqrt(mean_squared_error(y_test, svr_rbf_pred))\n",
        "print('test score SVR with rbf kernel: %.2f RMSE' % (svr_rbf_pred_score))"
      ],
      "execution_count": 179,
      "outputs": [
        {
          "output_type": "stream",
          "text": [
            "test score SVR with rbf kernel: 7091.44 RMSE\n"
          ],
          "name": "stdout"
        }
      ]
    },
    {
      "cell_type": "code",
      "metadata": {
        "colab": {
          "base_uri": "https://localhost:8080/"
        },
        "id": "0DWwO69NyTlW",
        "outputId": "1a263a66-1e66-4110-a8f8-a6388ad58694"
      },
      "source": [
        "print('%.2f ' % (lin_pred_score),'test score LinearRegression')\n",
        "print('%.2f ' % (ridge_pred_score),'test score Ridge')\n",
        "print('%.2f ' % (lasso_pred_score),'test score Lasso')\n",
        "print('%.2f ' % (svr_poly_pred_score),'test score SVR with poly kernel')\n",
        "print('%.2f ' % (svr_rbf_pred_score),'test score SVR with rbf kernel')"
      ],
      "execution_count": 180,
      "outputs": [
        {
          "output_type": "stream",
          "text": [
            "125.81  test score LinearRegression\n",
            "125.81  test score Ridge\n",
            "134.77  test score Lasso\n",
            "3449.76  test score SVR with poly kernel\n",
            "7091.44  test score SVR with rbf kernel\n"
          ],
          "name": "stdout"
        }
      ]
    }
  ]
}
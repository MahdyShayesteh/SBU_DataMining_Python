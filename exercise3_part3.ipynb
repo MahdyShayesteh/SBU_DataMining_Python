{
  "nbformat": 4,
  "nbformat_minor": 0,
  "metadata": {
    "colab": {
      "name": "exercise3_part3.ipynb",
      "provenance": [],
      "collapsed_sections": [],
      "toc_visible": true,
      "authorship_tag": "ABX9TyOfTE4ZO0ThDUkkCwCRC7qO",
      "include_colab_link": true
    },
    "kernelspec": {
      "name": "python3",
      "display_name": "Python 3"
    },
    "language_info": {
      "name": "python"
    }
  },
  "cells": [
    {
      "cell_type": "markdown",
      "metadata": {
        "id": "view-in-github",
        "colab_type": "text"
      },
      "source": [
        "<a href=\"https://colab.research.google.com/github/mahhhdy/SBU_DataMining_Python/blob/main/exercise3_part3.ipynb\" target=\"_parent\"><img src=\"https://colab.research.google.com/assets/colab-badge.svg\" alt=\"Open In Colab\"/></a>"
      ]
    },
    {
      "cell_type": "markdown",
      "metadata": {
        "id": "kX9qyv9ZpoQ4"
      },
      "source": [
        "\n",
        "\n",
        "*   initial libs\n",
        "*   convert date column format\n",
        "*   split data set to train and test\n",
        "\n"
      ]
    },
    {
      "cell_type": "markdown",
      "metadata": {
        "id": "UIP0zn8qeAUI"
      },
      "source": [
        "# initial libs"
      ]
    },
    {
      "cell_type": "code",
      "metadata": {
        "colab": {
          "base_uri": "https://localhost:8080/"
        },
        "id": "NWYfBtiAdaOI",
        "outputId": "5eeb30bc-d904-41c7-ba49-9a6f60552f5b"
      },
      "source": [
        "import pandas as pd\n",
        "import numpy as np\n",
        "from datetime import datetime\n",
        "from google.colab import drive\n",
        "\n",
        "drive.mount('/content/drive')\n",
        "path='/content/drive/MyDrive/DataSets/BitcoinHistoricalData.csv'\n",
        "\n",
        "df=pd.read_csv(path)\n",
        "print(df.shape)\n",
        "print(df.head())"
      ],
      "execution_count": 185,
      "outputs": [
        {
          "output_type": "stream",
          "text": [
            "Drive already mounted at /content/drive; to attempt to forcibly remount, call drive.mount(\"/content/drive\", force_remount=True).\n",
            "(3941, 7)\n",
            "           Date     Price      Open      High       Low     Vol. Change %\n",
            "0  May 01, 2021  57,807.1  57,719.1  58,449.4  57,029.5   63.41K    0.15%\n",
            "1  Apr 30, 2021  57,720.3  53,562.3  57,925.6  53,088.7  103.74K    7.77%\n",
            "2  Apr 29, 2021  53,560.8  54,838.6  55,173.7  52,400.0   83.90K   -2.34%\n",
            "3  Apr 28, 2021  54,841.4  55,036.0  56,419.9  53,876.4   86.96K   -0.35%\n",
            "4  Apr 27, 2021  55,036.5  54,011.1  55,427.8  53,345.0   84.08K    1.88%\n"
          ],
          "name": "stdout"
        }
      ]
    },
    {
      "cell_type": "markdown",
      "metadata": {
        "id": "3utsEzMspbzR"
      },
      "source": [
        "# convert date column format"
      ]
    },
    {
      "cell_type": "code",
      "metadata": {
        "id": "WOcEP8L2fCGt"
      },
      "source": [
        "df['Date']= df['Date'].apply(lambda x: datetime.strptime(x, '%b %d, %Y').strftime('%Y-%m-%d'))"
      ],
      "execution_count": 186,
      "outputs": []
    },
    {
      "cell_type": "code",
      "metadata": {
        "colab": {
          "base_uri": "https://localhost:8080/",
          "height": 204
        },
        "id": "11_JbyQjgo_a",
        "outputId": "dd01979f-c1cd-41fc-bd33-5ca456f678c0"
      },
      "source": [
        "df.head()"
      ],
      "execution_count": 187,
      "outputs": [
        {
          "output_type": "execute_result",
          "data": {
            "text/html": [
              "<div>\n",
              "<style scoped>\n",
              "    .dataframe tbody tr th:only-of-type {\n",
              "        vertical-align: middle;\n",
              "    }\n",
              "\n",
              "    .dataframe tbody tr th {\n",
              "        vertical-align: top;\n",
              "    }\n",
              "\n",
              "    .dataframe thead th {\n",
              "        text-align: right;\n",
              "    }\n",
              "</style>\n",
              "<table border=\"1\" class=\"dataframe\">\n",
              "  <thead>\n",
              "    <tr style=\"text-align: right;\">\n",
              "      <th></th>\n",
              "      <th>Date</th>\n",
              "      <th>Price</th>\n",
              "      <th>Open</th>\n",
              "      <th>High</th>\n",
              "      <th>Low</th>\n",
              "      <th>Vol.</th>\n",
              "      <th>Change %</th>\n",
              "    </tr>\n",
              "  </thead>\n",
              "  <tbody>\n",
              "    <tr>\n",
              "      <th>0</th>\n",
              "      <td>2021-05-01</td>\n",
              "      <td>57,807.1</td>\n",
              "      <td>57,719.1</td>\n",
              "      <td>58,449.4</td>\n",
              "      <td>57,029.5</td>\n",
              "      <td>63.41K</td>\n",
              "      <td>0.15%</td>\n",
              "    </tr>\n",
              "    <tr>\n",
              "      <th>1</th>\n",
              "      <td>2021-04-30</td>\n",
              "      <td>57,720.3</td>\n",
              "      <td>53,562.3</td>\n",
              "      <td>57,925.6</td>\n",
              "      <td>53,088.7</td>\n",
              "      <td>103.74K</td>\n",
              "      <td>7.77%</td>\n",
              "    </tr>\n",
              "    <tr>\n",
              "      <th>2</th>\n",
              "      <td>2021-04-29</td>\n",
              "      <td>53,560.8</td>\n",
              "      <td>54,838.6</td>\n",
              "      <td>55,173.7</td>\n",
              "      <td>52,400.0</td>\n",
              "      <td>83.90K</td>\n",
              "      <td>-2.34%</td>\n",
              "    </tr>\n",
              "    <tr>\n",
              "      <th>3</th>\n",
              "      <td>2021-04-28</td>\n",
              "      <td>54,841.4</td>\n",
              "      <td>55,036.0</td>\n",
              "      <td>56,419.9</td>\n",
              "      <td>53,876.4</td>\n",
              "      <td>86.96K</td>\n",
              "      <td>-0.35%</td>\n",
              "    </tr>\n",
              "    <tr>\n",
              "      <th>4</th>\n",
              "      <td>2021-04-27</td>\n",
              "      <td>55,036.5</td>\n",
              "      <td>54,011.1</td>\n",
              "      <td>55,427.8</td>\n",
              "      <td>53,345.0</td>\n",
              "      <td>84.08K</td>\n",
              "      <td>1.88%</td>\n",
              "    </tr>\n",
              "  </tbody>\n",
              "</table>\n",
              "</div>"
            ],
            "text/plain": [
              "         Date     Price      Open      High       Low     Vol. Change %\n",
              "0  2021-05-01  57,807.1  57,719.1  58,449.4  57,029.5   63.41K    0.15%\n",
              "1  2021-04-30  57,720.3  53,562.3  57,925.6  53,088.7  103.74K    7.77%\n",
              "2  2021-04-29  53,560.8  54,838.6  55,173.7  52,400.0   83.90K   -2.34%\n",
              "3  2021-04-28  54,841.4  55,036.0  56,419.9  53,876.4   86.96K   -0.35%\n",
              "4  2021-04-27  55,036.5  54,011.1  55,427.8  53,345.0   84.08K    1.88%"
            ]
          },
          "metadata": {
            "tags": []
          },
          "execution_count": 187
        }
      ]
    },
    {
      "cell_type": "markdown",
      "metadata": {
        "id": "bqFuA-I-0IQ2"
      },
      "source": [
        "# split data set to train and test"
      ]
    },
    {
      "cell_type": "code",
      "metadata": {
        "colab": {
          "base_uri": "https://localhost:8080/"
        },
        "id": "jZ58v9rrzRfO",
        "outputId": "6b4fac58-42b7-4da8-9c8e-2d65956c434c"
      },
      "source": [
        "df.index[df['Date'] == '2020-01-01'].tolist()"
      ],
      "execution_count": 188,
      "outputs": [
        {
          "output_type": "execute_result",
          "data": {
            "text/plain": [
              "[486]"
            ]
          },
          "metadata": {
            "tags": []
          },
          "execution_count": 188
        }
      ]
    },
    {
      "cell_type": "code",
      "metadata": {
        "colab": {
          "base_uri": "https://localhost:8080/"
        },
        "id": "C6uKdtOj8XKS",
        "outputId": "62454c12-03a7-4950-9932-1808a1c0b222"
      },
      "source": [
        "print(df.shape)\n",
        "n = df.shape[0] - 486\n",
        "print(n)"
      ],
      "execution_count": 189,
      "outputs": [
        {
          "output_type": "stream",
          "text": [
            "(3941, 7)\n",
            "3455\n"
          ],
          "name": "stdout"
        }
      ]
    },
    {
      "cell_type": "code",
      "metadata": {
        "id": "OqwRxUho0kYm"
      },
      "source": [
        "Y=df['Price']\n",
        "df.drop(['Price'],axis=1)\n",
        "\n",
        "X_train = df[0:3455]\n",
        "X_test = df[3456:]\n",
        "y_train = Y[0:3455]\n",
        "y_test = Y[3456:]"
      ],
      "execution_count": 190,
      "outputs": []
    }
  ]
}
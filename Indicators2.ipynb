{
  "nbformat": 4,
  "nbformat_minor": 0,
  "metadata": {
    "colab": {
      "name": "Indicators2.ipynb",
      "provenance": [],
      "collapsed_sections": [],
      "toc_visible": true,
      "mount_file_id": "1m9vbRQRZJs6Fns-oP_DYUROw1W-KNRtE",
      "authorship_tag": "ABX9TyN+6ZwSE4UdujHnUUoommVI",
      "include_colab_link": true
    },
    "kernelspec": {
      "display_name": "Python 3",
      "name": "python3"
    },
    "language_info": {
      "name": "python"
    }
  },
  "cells": [
    {
      "cell_type": "markdown",
      "metadata": {
        "id": "view-in-github",
        "colab_type": "text"
      },
      "source": [
        "<a href=\"https://colab.research.google.com/github/mahhhdy/SBU_DataMining_Python/blob/main/Indicators2.ipynb\" target=\"_parent\"><img src=\"https://colab.research.google.com/assets/colab-badge.svg\" alt=\"Open In Colab\"/></a>"
      ]
    },
    {
      "cell_type": "markdown",
      "metadata": {
        "id": "hIwOZuBf1J4C"
      },
      "source": [
        "# initialize libs"
      ]
    },
    {
      "cell_type": "code",
      "metadata": {
        "colab": {
          "base_uri": "https://localhost:8080/"
        },
        "id": "8iOGE22wk2yz",
        "outputId": "79d92651-78d9-490e-cd3c-2bab2412d97f"
      },
      "source": [
        "import pandas as pd\n",
        "import numpy as np\n",
        "from google.colab import drive\n",
        "from datetime import datetime\n",
        "\n",
        "drive.mount('/content/drive')\n",
        "path='/content/drive/MyDrive/DataSets/LTC_1H.xlsx'\n",
        "\n",
        "df= pd.read_excel(path)"
      ],
      "execution_count": 173,
      "outputs": [
        {
          "output_type": "stream",
          "text": [
            "Drive already mounted at /content/drive; to attempt to forcibly remount, call drive.mount(\"/content/drive\", force_remount=True).\n"
          ],
          "name": "stdout"
        }
      ]
    },
    {
      "cell_type": "markdown",
      "metadata": {
        "id": "DZ0iLE_uYNu9"
      },
      "source": [
        "#chack for null value"
      ]
    },
    {
      "cell_type": "code",
      "metadata": {
        "colab": {
          "base_uri": "https://localhost:8080/"
        },
        "id": "-EsQF50-YNhD",
        "outputId": "94dcb2ca-5b4d-4691-8feb-86329e4d871a"
      },
      "source": [
        "df.isnull().sum()"
      ],
      "execution_count": 174,
      "outputs": [
        {
          "output_type": "execute_result",
          "data": {
            "text/plain": [
              "openTime    0\n",
              "open        0\n",
              "high        0\n",
              "low         0\n",
              "close       0\n",
              "volume      0\n",
              "dtype: int64"
            ]
          },
          "metadata": {
            "tags": []
          },
          "execution_count": 174
        }
      ]
    },
    {
      "cell_type": "markdown",
      "metadata": {
        "id": "h97BwUANWgA-"
      },
      "source": [
        "# cast timestamp column"
      ]
    },
    {
      "cell_type": "code",
      "metadata": {
        "id": "y0hfevjHWNxA"
      },
      "source": [
        "# change openTime column to string \n",
        "df.openTime = df.openTime.astype(str)\n",
        "\n",
        "# get substring of open time column\n",
        "df.openTime = df.openTime.str.slice(stop=10)"
      ],
      "execution_count": 175,
      "outputs": []
    },
    {
      "cell_type": "code",
      "metadata": {
        "id": "qbrps9ZKdsGF"
      },
      "source": [
        "# cast timestamp column to date time \n",
        "df.openTime=pd.to_datetime(df.openTime,unit='s')"
      ],
      "execution_count": 176,
      "outputs": []
    },
    {
      "cell_type": "markdown",
      "metadata": {
        "id": "YQVnWOVJXJoM"
      },
      "source": [
        "#test"
      ]
    },
    {
      "cell_type": "code",
      "metadata": {
        "colab": {
          "base_uri": "https://localhost:8080/",
          "height": 142
        },
        "id": "yAkMrUgfXJJ6",
        "outputId": "6bc3f269-0486-4185-eee4-c49342d5867a"
      },
      "source": [
        "df.head(3)"
      ],
      "execution_count": 177,
      "outputs": [
        {
          "output_type": "execute_result",
          "data": {
            "text/html": [
              "<div>\n",
              "<style scoped>\n",
              "    .dataframe tbody tr th:only-of-type {\n",
              "        vertical-align: middle;\n",
              "    }\n",
              "\n",
              "    .dataframe tbody tr th {\n",
              "        vertical-align: top;\n",
              "    }\n",
              "\n",
              "    .dataframe thead th {\n",
              "        text-align: right;\n",
              "    }\n",
              "</style>\n",
              "<table border=\"1\" class=\"dataframe\">\n",
              "  <thead>\n",
              "    <tr style=\"text-align: right;\">\n",
              "      <th></th>\n",
              "      <th>openTime</th>\n",
              "      <th>open</th>\n",
              "      <th>high</th>\n",
              "      <th>low</th>\n",
              "      <th>close</th>\n",
              "      <th>volume</th>\n",
              "    </tr>\n",
              "  </thead>\n",
              "  <tbody>\n",
              "    <tr>\n",
              "      <th>0</th>\n",
              "      <td>2020-04-06 23:00:00</td>\n",
              "      <td>44.41</td>\n",
              "      <td>45.09</td>\n",
              "      <td>44.24</td>\n",
              "      <td>45.04</td>\n",
              "      <td>36293.78372</td>\n",
              "    </tr>\n",
              "    <tr>\n",
              "      <th>1</th>\n",
              "      <td>2020-04-07 00:00:00</td>\n",
              "      <td>45.03</td>\n",
              "      <td>46.06</td>\n",
              "      <td>44.90</td>\n",
              "      <td>45.51</td>\n",
              "      <td>74366.74566</td>\n",
              "    </tr>\n",
              "    <tr>\n",
              "      <th>2</th>\n",
              "      <td>2020-04-07 01:00:00</td>\n",
              "      <td>45.49</td>\n",
              "      <td>46.29</td>\n",
              "      <td>45.49</td>\n",
              "      <td>45.62</td>\n",
              "      <td>38848.42165</td>\n",
              "    </tr>\n",
              "  </tbody>\n",
              "</table>\n",
              "</div>"
            ],
            "text/plain": [
              "             openTime   open   high    low  close       volume\n",
              "0 2020-04-06 23:00:00  44.41  45.09  44.24  45.04  36293.78372\n",
              "1 2020-04-07 00:00:00  45.03  46.06  44.90  45.51  74366.74566\n",
              "2 2020-04-07 01:00:00  45.49  46.29  45.49  45.62  38848.42165"
            ]
          },
          "metadata": {
            "tags": []
          },
          "execution_count": 177
        }
      ]
    },
    {
      "cell_type": "code",
      "metadata": {
        "id": "0kSwHpnL_Wx6"
      },
      "source": [
        "# def edit(row):\n",
        "#   crossing = row['crossing']\n",
        "#   if crossing == True:\n",
        "#     return '123'\n",
        "#   else:\n",
        "#     return '***'\n",
        "\n",
        "# df_open['crossing1']=df.apply(edit , axis = 1)\n",
        "\n",
        "def check_cross(col1,col2):\n",
        "  return ''"
      ],
      "execution_count": 178,
      "outputs": []
    },
    {
      "cell_type": "code",
      "metadata": {
        "id": "nbuXEre6tWcM"
      },
      "source": [
        "df_open=pd.DataFrame()\n",
        "param1='open'\n",
        "param2='high'\n",
        "check_cross(param1,param2)\n",
        "\n",
        "df_open[''+param1+''] = df[''+param1+'']\n",
        "df_open[''+param2+''] = df[''+param2+'']\n",
        "\n",
        "df_open['previous_'+param1+''] = df_open[''+param1+''].shift(1)\n",
        "df_open['previous_'+param2+''] = df_open[''+param2+''].shift(1)"
      ],
      "execution_count": 181,
      "outputs": []
    },
    {
      "cell_type": "code",
      "metadata": {
        "colab": {
          "base_uri": "https://localhost:8080/",
          "height": 514
        },
        "id": "KQud3qUDtbTJ",
        "outputId": "51cb4ec3-fd00-40bd-d4ca-69ed9def7d6b"
      },
      "source": [
        "df_open['crossing'] = (((df_open[''+param1+''] <= df_open[''+param2+'']) & (df_open['previous_'+param1+''] >= df_open['previous_'+param2+''])) \n",
        "  | ((df_open[''+param1+''] >= df_open[''+param2+'']) & (df_open['previous_'+param1+''] <= df_open['previous_'+param2+''])))\n",
        "\n",
        "# df_open.drop(columns = ['previous_15','previous_45'],inplace=True)\n",
        "df_open.head(15)"
      ],
      "execution_count": 182,
      "outputs": [
        {
          "output_type": "execute_result",
          "data": {
            "text/html": [
              "<div>\n",
              "<style scoped>\n",
              "    .dataframe tbody tr th:only-of-type {\n",
              "        vertical-align: middle;\n",
              "    }\n",
              "\n",
              "    .dataframe tbody tr th {\n",
              "        vertical-align: top;\n",
              "    }\n",
              "\n",
              "    .dataframe thead th {\n",
              "        text-align: right;\n",
              "    }\n",
              "</style>\n",
              "<table border=\"1\" class=\"dataframe\">\n",
              "  <thead>\n",
              "    <tr style=\"text-align: right;\">\n",
              "      <th></th>\n",
              "      <th>open</th>\n",
              "      <th>high</th>\n",
              "      <th>previous_open</th>\n",
              "      <th>previous_high</th>\n",
              "      <th>crossing</th>\n",
              "    </tr>\n",
              "  </thead>\n",
              "  <tbody>\n",
              "    <tr>\n",
              "      <th>0</th>\n",
              "      <td>44.41</td>\n",
              "      <td>45.09</td>\n",
              "      <td>NaN</td>\n",
              "      <td>NaN</td>\n",
              "      <td>False</td>\n",
              "    </tr>\n",
              "    <tr>\n",
              "      <th>1</th>\n",
              "      <td>45.03</td>\n",
              "      <td>46.06</td>\n",
              "      <td>44.41</td>\n",
              "      <td>45.09</td>\n",
              "      <td>False</td>\n",
              "    </tr>\n",
              "    <tr>\n",
              "      <th>2</th>\n",
              "      <td>45.49</td>\n",
              "      <td>46.29</td>\n",
              "      <td>45.03</td>\n",
              "      <td>46.06</td>\n",
              "      <td>False</td>\n",
              "    </tr>\n",
              "    <tr>\n",
              "      <th>3</th>\n",
              "      <td>45.62</td>\n",
              "      <td>45.77</td>\n",
              "      <td>45.49</td>\n",
              "      <td>46.29</td>\n",
              "      <td>False</td>\n",
              "    </tr>\n",
              "    <tr>\n",
              "      <th>4</th>\n",
              "      <td>45.13</td>\n",
              "      <td>45.70</td>\n",
              "      <td>45.62</td>\n",
              "      <td>45.77</td>\n",
              "      <td>False</td>\n",
              "    </tr>\n",
              "    <tr>\n",
              "      <th>5</th>\n",
              "      <td>45.65</td>\n",
              "      <td>45.65</td>\n",
              "      <td>45.13</td>\n",
              "      <td>45.70</td>\n",
              "      <td>True</td>\n",
              "    </tr>\n",
              "    <tr>\n",
              "      <th>6</th>\n",
              "      <td>45.18</td>\n",
              "      <td>45.73</td>\n",
              "      <td>45.65</td>\n",
              "      <td>45.65</td>\n",
              "      <td>True</td>\n",
              "    </tr>\n",
              "    <tr>\n",
              "      <th>7</th>\n",
              "      <td>45.64</td>\n",
              "      <td>45.94</td>\n",
              "      <td>45.18</td>\n",
              "      <td>45.73</td>\n",
              "      <td>False</td>\n",
              "    </tr>\n",
              "    <tr>\n",
              "      <th>8</th>\n",
              "      <td>45.94</td>\n",
              "      <td>46.47</td>\n",
              "      <td>45.64</td>\n",
              "      <td>45.94</td>\n",
              "      <td>False</td>\n",
              "    </tr>\n",
              "    <tr>\n",
              "      <th>9</th>\n",
              "      <td>46.42</td>\n",
              "      <td>46.47</td>\n",
              "      <td>45.94</td>\n",
              "      <td>46.47</td>\n",
              "      <td>False</td>\n",
              "    </tr>\n",
              "    <tr>\n",
              "      <th>10</th>\n",
              "      <td>46.21</td>\n",
              "      <td>46.42</td>\n",
              "      <td>46.42</td>\n",
              "      <td>46.47</td>\n",
              "      <td>False</td>\n",
              "    </tr>\n",
              "    <tr>\n",
              "      <th>11</th>\n",
              "      <td>46.40</td>\n",
              "      <td>46.75</td>\n",
              "      <td>46.21</td>\n",
              "      <td>46.42</td>\n",
              "      <td>False</td>\n",
              "    </tr>\n",
              "    <tr>\n",
              "      <th>12</th>\n",
              "      <td>46.63</td>\n",
              "      <td>46.64</td>\n",
              "      <td>46.40</td>\n",
              "      <td>46.75</td>\n",
              "      <td>False</td>\n",
              "    </tr>\n",
              "    <tr>\n",
              "      <th>13</th>\n",
              "      <td>46.38</td>\n",
              "      <td>47.64</td>\n",
              "      <td>46.63</td>\n",
              "      <td>46.64</td>\n",
              "      <td>False</td>\n",
              "    </tr>\n",
              "    <tr>\n",
              "      <th>14</th>\n",
              "      <td>45.99</td>\n",
              "      <td>47.15</td>\n",
              "      <td>46.38</td>\n",
              "      <td>47.64</td>\n",
              "      <td>False</td>\n",
              "    </tr>\n",
              "  </tbody>\n",
              "</table>\n",
              "</div>"
            ],
            "text/plain": [
              "     open   high  previous_open  previous_high  crossing\n",
              "0   44.41  45.09            NaN            NaN     False\n",
              "1   45.03  46.06          44.41          45.09     False\n",
              "2   45.49  46.29          45.03          46.06     False\n",
              "3   45.62  45.77          45.49          46.29     False\n",
              "4   45.13  45.70          45.62          45.77     False\n",
              "5   45.65  45.65          45.13          45.70      True\n",
              "6   45.18  45.73          45.65          45.65      True\n",
              "7   45.64  45.94          45.18          45.73     False\n",
              "8   45.94  46.47          45.64          45.94     False\n",
              "9   46.42  46.47          45.94          46.47     False\n",
              "10  46.21  46.42          46.42          46.47     False\n",
              "11  46.40  46.75          46.21          46.42     False\n",
              "12  46.63  46.64          46.40          46.75     False\n",
              "13  46.38  47.64          46.63          46.64     False\n",
              "14  45.99  47.15          46.38          47.64     False"
            ]
          },
          "metadata": {
            "tags": []
          },
          "execution_count": 182
        }
      ]
    }
  ]
}
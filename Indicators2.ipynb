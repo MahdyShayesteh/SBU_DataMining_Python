{
  "nbformat": 4,
  "nbformat_minor": 0,
  "metadata": {
    "colab": {
      "name": "Indicators2.ipynb",
      "provenance": [],
      "collapsed_sections": [
        "hIwOZuBf1J4C",
        "DZ0iLE_uYNu9",
        "h97BwUANWgA-"
      ],
      "toc_visible": true,
      "mount_file_id": "1m9vbRQRZJs6Fns-oP_DYUROw1W-KNRtE",
      "authorship_tag": "ABX9TyNejDKNIQY17KRpC6Kt7VpE",
      "include_colab_link": true
    },
    "kernelspec": {
      "display_name": "Python 3",
      "name": "python3"
    },
    "language_info": {
      "name": "python"
    }
  },
  "cells": [
    {
      "cell_type": "markdown",
      "metadata": {
        "id": "view-in-github",
        "colab_type": "text"
      },
      "source": [
        "<a href=\"https://colab.research.google.com/github/mahhhdy/SBU_DataMining_Python/blob/main/Indicators2.ipynb\" target=\"_parent\"><img src=\"https://colab.research.google.com/assets/colab-badge.svg\" alt=\"Open In Colab\"/></a>"
      ]
    },
    {
      "cell_type": "markdown",
      "metadata": {
        "id": "hIwOZuBf1J4C"
      },
      "source": [
        "# initialize libs"
      ]
    },
    {
      "cell_type": "code",
      "metadata": {
        "colab": {
          "base_uri": "https://localhost:8080/"
        },
        "id": "8iOGE22wk2yz",
        "outputId": "3fd4c570-0038-4f5c-8b91-e4554256afda"
      },
      "source": [
        "import pandas as pd\n",
        "import numpy as np\n",
        "from google.colab import drive\n",
        "from datetime import datetime\n",
        "\n",
        "drive.mount('/content/drive')\n",
        "path='/content/drive/MyDrive/DataSets/LTC_1H.xlsx'\n",
        "\n",
        "df= pd.read_excel(path)"
      ],
      "execution_count": 321,
      "outputs": [
        {
          "output_type": "stream",
          "text": [
            "Drive already mounted at /content/drive; to attempt to forcibly remount, call drive.mount(\"/content/drive\", force_remount=True).\n"
          ],
          "name": "stdout"
        }
      ]
    },
    {
      "cell_type": "markdown",
      "metadata": {
        "id": "DZ0iLE_uYNu9"
      },
      "source": [
        "#chack for null value"
      ]
    },
    {
      "cell_type": "code",
      "metadata": {
        "colab": {
          "base_uri": "https://localhost:8080/"
        },
        "id": "-EsQF50-YNhD",
        "outputId": "b525258b-8216-4930-a3a1-29a8bfcb5e5b"
      },
      "source": [
        "df.isnull().sum()"
      ],
      "execution_count": 322,
      "outputs": [
        {
          "output_type": "execute_result",
          "data": {
            "text/plain": [
              "openTime    0\n",
              "open        0\n",
              "high        0\n",
              "low         0\n",
              "close       0\n",
              "volume      0\n",
              "dtype: int64"
            ]
          },
          "metadata": {
            "tags": []
          },
          "execution_count": 322
        }
      ]
    },
    {
      "cell_type": "markdown",
      "metadata": {
        "id": "h97BwUANWgA-"
      },
      "source": [
        "# cast timestamp column"
      ]
    },
    {
      "cell_type": "code",
      "metadata": {
        "id": "y0hfevjHWNxA"
      },
      "source": [
        "# change openTime column to string \n",
        "df.openTime = df.openTime.astype(str)\n",
        "\n",
        "# get substring of open time column\n",
        "df.openTime = df.openTime.str.slice(stop=10)"
      ],
      "execution_count": 323,
      "outputs": []
    },
    {
      "cell_type": "code",
      "metadata": {
        "id": "qbrps9ZKdsGF"
      },
      "source": [
        "# cast timestamp column to date time \n",
        "df.openTime=pd.to_datetime(df.openTime,unit='s')"
      ],
      "execution_count": 324,
      "outputs": []
    },
    {
      "cell_type": "markdown",
      "metadata": {
        "id": "YQVnWOVJXJoM"
      },
      "source": [
        "#test"
      ]
    },
    {
      "cell_type": "code",
      "metadata": {
        "colab": {
          "base_uri": "https://localhost:8080/",
          "height": 204
        },
        "id": "yAkMrUgfXJJ6",
        "outputId": "3da34133-aa92-4321-8a9f-14057ba9a926"
      },
      "source": [
        "df.head()"
      ],
      "execution_count": 325,
      "outputs": [
        {
          "output_type": "execute_result",
          "data": {
            "text/html": [
              "<div>\n",
              "<style scoped>\n",
              "    .dataframe tbody tr th:only-of-type {\n",
              "        vertical-align: middle;\n",
              "    }\n",
              "\n",
              "    .dataframe tbody tr th {\n",
              "        vertical-align: top;\n",
              "    }\n",
              "\n",
              "    .dataframe thead th {\n",
              "        text-align: right;\n",
              "    }\n",
              "</style>\n",
              "<table border=\"1\" class=\"dataframe\">\n",
              "  <thead>\n",
              "    <tr style=\"text-align: right;\">\n",
              "      <th></th>\n",
              "      <th>openTime</th>\n",
              "      <th>open</th>\n",
              "      <th>high</th>\n",
              "      <th>low</th>\n",
              "      <th>close</th>\n",
              "      <th>volume</th>\n",
              "    </tr>\n",
              "  </thead>\n",
              "  <tbody>\n",
              "    <tr>\n",
              "      <th>0</th>\n",
              "      <td>2020-04-06 23:00:00</td>\n",
              "      <td>44.41</td>\n",
              "      <td>45.09</td>\n",
              "      <td>44.24</td>\n",
              "      <td>45.04</td>\n",
              "      <td>36293.78372</td>\n",
              "    </tr>\n",
              "    <tr>\n",
              "      <th>1</th>\n",
              "      <td>2020-04-07 00:00:00</td>\n",
              "      <td>45.03</td>\n",
              "      <td>46.06</td>\n",
              "      <td>44.90</td>\n",
              "      <td>45.51</td>\n",
              "      <td>74366.74566</td>\n",
              "    </tr>\n",
              "    <tr>\n",
              "      <th>2</th>\n",
              "      <td>2020-04-07 01:00:00</td>\n",
              "      <td>45.49</td>\n",
              "      <td>46.29</td>\n",
              "      <td>45.49</td>\n",
              "      <td>45.62</td>\n",
              "      <td>38848.42165</td>\n",
              "    </tr>\n",
              "    <tr>\n",
              "      <th>3</th>\n",
              "      <td>2020-04-07 02:00:00</td>\n",
              "      <td>45.62</td>\n",
              "      <td>45.77</td>\n",
              "      <td>44.84</td>\n",
              "      <td>45.15</td>\n",
              "      <td>30427.95046</td>\n",
              "    </tr>\n",
              "    <tr>\n",
              "      <th>4</th>\n",
              "      <td>2020-04-07 03:00:00</td>\n",
              "      <td>45.13</td>\n",
              "      <td>45.70</td>\n",
              "      <td>44.87</td>\n",
              "      <td>45.65</td>\n",
              "      <td>21840.27801</td>\n",
              "    </tr>\n",
              "  </tbody>\n",
              "</table>\n",
              "</div>"
            ],
            "text/plain": [
              "             openTime   open   high    low  close       volume\n",
              "0 2020-04-06 23:00:00  44.41  45.09  44.24  45.04  36293.78372\n",
              "1 2020-04-07 00:00:00  45.03  46.06  44.90  45.51  74366.74566\n",
              "2 2020-04-07 01:00:00  45.49  46.29  45.49  45.62  38848.42165\n",
              "3 2020-04-07 02:00:00  45.62  45.77  44.84  45.15  30427.95046\n",
              "4 2020-04-07 03:00:00  45.13  45.70  44.87  45.65  21840.27801"
            ]
          },
          "metadata": {
            "tags": []
          },
          "execution_count": 325
        }
      ]
    },
    {
      "cell_type": "code",
      "metadata": {
        "id": "0kSwHpnL_Wx6"
      },
      "source": [
        "# def edit(row):\n",
        "#   crossing = row['crossing']\n",
        "#   if crossing == True:\n",
        "#     return '123'\n",
        "#   else:\n",
        "#     return '***'\n",
        "\n",
        "# df_open['crossing1']=df.apply(edit , axis = 1)\n",
        "  \n",
        "def check_cross(param1,param2):\n",
        "  df_open=pd.DataFrame()  \n",
        "  df_close=pd.DataFrame()\n",
        "  df_high=pd.DataFrame()\n",
        "  df_low=pd.DataFrame()\n",
        "\n",
        "  df_open[''+param1+''] = df[''+param1+'']\n",
        "  df_open[''+param2+''] = df[''+param2+'']\n",
        "\n",
        "  df_open['previous_'+param1+''] = df_open[''+param1+''].shift(1)\n",
        "  df_open['previous_'+col2+''] = df_open[''+param2+''].shift(1)\n",
        "\n",
        "  df_open[param1+' '+param2+'crossing'] = (((df_open[''+param1+''] <= df_open[''+param2+'']) & (df_open['previous_'+param1+''] >= df_open['previous_'+param2+'']))\n",
        "  | ((df_open[''+param1+''] >= df_open[''+param2+'']) & (df_open['previous_'+param1+''] <= df_open['previous_'+param2+''])))  \n",
        "  df_open.drop(columns = ['previous_'+col1+'','previous_'+col2+''],inplace=True)\n",
        "  df_open['space']=\"\"\n"
      ],
      "execution_count": 326,
      "outputs": []
    },
    {
      "cell_type": "code",
      "metadata": {
        "colab": {
          "base_uri": "https://localhost:8080/"
        },
        "id": "nbuXEre6tWcM",
        "outputId": "2bc4a1bf-b2da-4ffa-9328-334c0fd8b8ca"
      },
      "source": [
        "  col1='open'\n",
        "  col2='high'\n",
        "  check_cross('open','high')\n",
        "\n",
        "  print(df_open.head(10))"
      ],
      "execution_count": 327,
      "outputs": [
        {
          "output_type": "stream",
          "text": [
            "    open   high  crossing space\n",
            "0  44.41  45.09     False      \n",
            "1  45.03  46.06     False      \n",
            "2  45.49  46.29     False      \n",
            "3  45.62  45.77     False      \n",
            "4  45.13  45.70     False      \n",
            "5  45.65  45.65      True      \n",
            "6  45.18  45.73      True      \n",
            "7  45.64  45.94     False      \n",
            "8  45.94  46.47     False      \n",
            "9  46.42  46.47     False      \n"
          ],
          "name": "stdout"
        }
      ]
    }
  ]
}
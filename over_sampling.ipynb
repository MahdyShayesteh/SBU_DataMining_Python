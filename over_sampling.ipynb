{
  "nbformat": 4,
  "nbformat_minor": 0,
  "metadata": {
    "colab": {
      "name": "over sampling.ipynb",
      "provenance": [],
      "collapsed_sections": [],
      "toc_visible": true,
      "authorship_tag": "ABX9TyPBe53PMt77M4oAWi0YbTkC",
      "include_colab_link": true
    },
    "kernelspec": {
      "name": "python3",
      "display_name": "Python 3"
    },
    "language_info": {
      "name": "python"
    }
  },
  "cells": [
    {
      "cell_type": "markdown",
      "metadata": {
        "id": "view-in-github",
        "colab_type": "text"
      },
      "source": [
        "<a href=\"https://colab.research.google.com/github/mahhhdy/SBU_DataMining_Python/blob/main/over_sampling.ipynb\" target=\"_parent\"><img src=\"https://colab.research.google.com/assets/colab-badge.svg\" alt=\"Open In Colab\"/></a>"
      ]
    },
    {
      "cell_type": "markdown",
      "metadata": {
        "id": "YpUR6Am35mGj"
      },
      "source": [
        "# define lib"
      ]
    },
    {
      "cell_type": "code",
      "metadata": {
        "id": "o3mqyrwA4Zh8"
      },
      "source": [
        "from sklearn.datasets import make_classification\n",
        "import numpy as np\n",
        "from sklearn.utils import resample"
      ],
      "execution_count": 9,
      "outputs": []
    },
    {
      "cell_type": "code",
      "metadata": {
        "colab": {
          "base_uri": "https://localhost:8080/"
        },
        "id": "9tu8Zb9a4mdN",
        "outputId": "5dac3569-9c05-4e10-b90e-be476e2ef161"
      },
      "source": [
        "nb_samples = 1000  #Total number of samples.\n",
        "weights = (0.95, 0.05)  #Percentage of split \n",
        "X, y = make_classification(n_samples = nb_samples, n_features = 2, n_redundant = 0, weights = weights, random_state = 1000)\n",
        "print(X.shape)\n",
        "print(y.shape)"
      ],
      "execution_count": 10,
      "outputs": [
        {
          "output_type": "stream",
          "text": [
            "(1000, 2)\n",
            "(1000,)\n"
          ],
          "name": "stdout"
        }
      ]
    },
    {
      "cell_type": "code",
      "metadata": {
        "colab": {
          "base_uri": "https://localhost:8080/"
        },
        "id": "rSWpFhnz4y46",
        "outputId": "45526794-cf59-4ec6-9238-94e9e307a2a4"
      },
      "source": [
        "# Re-sampling process\n",
        "X_1_resampled = resample(X[y == 1], n_samples = X[y == 0].shape[0], random_state = 1000) #Up-smapling\n",
        "\n",
        "print(X_1_resampled.shape) \n",
        "\n",
        "#Conacatenate to get up-sampled Xu and yu.\n",
        "Xu = np.concatenate ((X[y == 0], X_1_resampled))\n",
        "yu = np.concatenate ((y[y == 0], np.ones(shape = (X[y ==0].shape[0]), dtype = np.int32)))\n",
        "\n",
        "print(Xu.shape)\n",
        "print(yu.shape)"
      ],
      "execution_count": 12,
      "outputs": [
        {
          "output_type": "stream",
          "text": [
            "(946, 2)\n",
            "(1892, 2)\n",
            "(1892,)\n"
          ],
          "name": "stdout"
        }
      ]
    }
  ]
}
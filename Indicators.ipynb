{
  "nbformat": 4,
  "nbformat_minor": 0,
  "metadata": {
    "colab": {
      "name": "Indicators.ipynb",
      "provenance": [],
      "collapsed_sections": [],
      "mount_file_id": "1m9vbRQRZJs6Fns-oP_DYUROw1W-KNRtE",
      "authorship_tag": "ABX9TyNAycN4KhnGYZAa5lqdJwB6",
      "include_colab_link": true
    },
    "kernelspec": {
      "display_name": "Python 3",
      "name": "python3"
    },
    "language_info": {
      "name": "python"
    }
  },
  "cells": [
    {
      "cell_type": "markdown",
      "metadata": {
        "id": "view-in-github",
        "colab_type": "text"
      },
      "source": [
        "<a href=\"https://colab.research.google.com/github/mahhhdy/SBU_DataMining_Python/blob/main/Indicators.ipynb\" target=\"_parent\"><img src=\"https://colab.research.google.com/assets/colab-badge.svg\" alt=\"Open In Colab\"/></a>"
      ]
    },
    {
      "cell_type": "markdown",
      "metadata": {
        "id": "hIwOZuBf1J4C"
      },
      "source": [
        "# initialize libs"
      ]
    },
    {
      "cell_type": "code",
      "metadata": {
        "colab": {
          "base_uri": "https://localhost:8080/"
        },
        "id": "8iOGE22wk2yz",
        "outputId": "36b869d5-66e2-4c83-b66d-ff59d9a025f8"
      },
      "source": [
        "import pandas as pd\n",
        "import numpy as np\n",
        "from google.colab import drive\n",
        "from datetime import datetime\n",
        "\n",
        "drive.mount('/content/drive')\n",
        "path='/content/drive/MyDrive/DataSets/LTC_1H.xlsx'\n",
        "\n",
        "df= pd.read_excel(path)"
      ],
      "execution_count": 260,
      "outputs": [
        {
          "output_type": "stream",
          "text": [
            "Drive already mounted at /content/drive; to attempt to forcibly remount, call drive.mount(\"/content/drive\", force_remount=True).\n"
          ],
          "name": "stdout"
        }
      ]
    },
    {
      "cell_type": "code",
      "metadata": {
        "colab": {
          "base_uri": "https://localhost:8080/",
          "height": 204
        },
        "id": "YYehH6JSx8Y1",
        "outputId": "b746980b-3b64-4d95-fb2a-bc6c5c3e5ff1"
      },
      "source": [
        "df.head()\n",
        "\n",
        "# for col in df.columns:\n",
        "#     print(col)\n",
        "\n",
        "# if(df.columns[1]=='open'):\n",
        "#   print(123)"
      ],
      "execution_count": 261,
      "outputs": [
        {
          "output_type": "execute_result",
          "data": {
            "text/html": [
              "<div>\n",
              "<style scoped>\n",
              "    .dataframe tbody tr th:only-of-type {\n",
              "        vertical-align: middle;\n",
              "    }\n",
              "\n",
              "    .dataframe tbody tr th {\n",
              "        vertical-align: top;\n",
              "    }\n",
              "\n",
              "    .dataframe thead th {\n",
              "        text-align: right;\n",
              "    }\n",
              "</style>\n",
              "<table border=\"1\" class=\"dataframe\">\n",
              "  <thead>\n",
              "    <tr style=\"text-align: right;\">\n",
              "      <th></th>\n",
              "      <th>openTime</th>\n",
              "      <th>open</th>\n",
              "      <th>high</th>\n",
              "      <th>low</th>\n",
              "      <th>close</th>\n",
              "      <th>volume</th>\n",
              "    </tr>\n",
              "  </thead>\n",
              "  <tbody>\n",
              "    <tr>\n",
              "      <th>0</th>\n",
              "      <td>1586214000000</td>\n",
              "      <td>44.41</td>\n",
              "      <td>45.09</td>\n",
              "      <td>44.24</td>\n",
              "      <td>45.04</td>\n",
              "      <td>36293.78372</td>\n",
              "    </tr>\n",
              "    <tr>\n",
              "      <th>1</th>\n",
              "      <td>1586217600000</td>\n",
              "      <td>45.03</td>\n",
              "      <td>46.06</td>\n",
              "      <td>44.90</td>\n",
              "      <td>45.51</td>\n",
              "      <td>74366.74566</td>\n",
              "    </tr>\n",
              "    <tr>\n",
              "      <th>2</th>\n",
              "      <td>1586221200000</td>\n",
              "      <td>45.49</td>\n",
              "      <td>46.29</td>\n",
              "      <td>45.49</td>\n",
              "      <td>45.62</td>\n",
              "      <td>38848.42165</td>\n",
              "    </tr>\n",
              "    <tr>\n",
              "      <th>3</th>\n",
              "      <td>1586224800000</td>\n",
              "      <td>45.62</td>\n",
              "      <td>45.77</td>\n",
              "      <td>44.84</td>\n",
              "      <td>45.15</td>\n",
              "      <td>30427.95046</td>\n",
              "    </tr>\n",
              "    <tr>\n",
              "      <th>4</th>\n",
              "      <td>1586228400000</td>\n",
              "      <td>45.13</td>\n",
              "      <td>45.70</td>\n",
              "      <td>44.87</td>\n",
              "      <td>45.65</td>\n",
              "      <td>21840.27801</td>\n",
              "    </tr>\n",
              "  </tbody>\n",
              "</table>\n",
              "</div>"
            ],
            "text/plain": [
              "        openTime   open   high    low  close       volume\n",
              "0  1586214000000  44.41  45.09  44.24  45.04  36293.78372\n",
              "1  1586217600000  45.03  46.06  44.90  45.51  74366.74566\n",
              "2  1586221200000  45.49  46.29  45.49  45.62  38848.42165\n",
              "3  1586224800000  45.62  45.77  44.84  45.15  30427.95046\n",
              "4  1586228400000  45.13  45.70  44.87  45.65  21840.27801"
            ]
          },
          "metadata": {
            "tags": []
          },
          "execution_count": 261
        }
      ]
    },
    {
      "cell_type": "markdown",
      "metadata": {
        "id": "o2xZlxLk2XXY"
      },
      "source": [
        "#check for null value and there is not any null value"
      ]
    },
    {
      "cell_type": "code",
      "metadata": {
        "colab": {
          "base_uri": "https://localhost:8080/"
        },
        "id": "EXZLiLfMnMQ8",
        "outputId": "cd00cee8-6b83-4810-8bf3-c8037251afc1"
      },
      "source": [
        "df.isna().sum()"
      ],
      "execution_count": 262,
      "outputs": [
        {
          "output_type": "execute_result",
          "data": {
            "text/plain": [
              "openTime    0\n",
              "open        0\n",
              "high        0\n",
              "low         0\n",
              "close       0\n",
              "volume      0\n",
              "dtype: int64"
            ]
          },
          "metadata": {
            "tags": []
          },
          "execution_count": 262
        }
      ]
    },
    {
      "cell_type": "markdown",
      "metadata": {
        "id": "T1mwpqopuxwP"
      },
      "source": [
        "# Define MA Functions"
      ]
    },
    {
      "cell_type": "code",
      "metadata": {
        "id": "xf2vPXPQnNq6"
      },
      "source": [
        "def sma(param,param2):\n",
        "  return df[df.columns[param2]].rolling(window=param).mean()\n",
        "\n",
        "def ema(param,param2):\n",
        "  return df[df.columns[param2]].ewm(span=param,adjust=False).mean()\n",
        "\n",
        "def smothing(param):\n",
        "  return 2/(param+1)\n",
        "\n",
        "def wma5(param,param2):\n",
        "  weights = np.arange(1,6)\n",
        "  return df[df.columns[param2]].rolling(5).apply(lambda prices: np.dot(prices, weights)/weights.sum(), raw=True)\n",
        "\n",
        "def wma7(param,param2):\n",
        "  weights = np.arange(1,8)\n",
        "  return df[df.columns[param2]].rolling(7).apply(lambda prices: np.dot(prices, weights)/weights.sum(), raw=True)\n",
        "\n",
        "def wma10(param,param2):\n",
        "  weights = np.arange(1,11)\n",
        "  return df[df.columns[param2]].rolling(10).apply(lambda prices: np.dot(prices, weights)/weights.sum(), raw=True)\n",
        "\n",
        "def wma14(param,param2):\n",
        "  weights = np.arange(1,15)\n",
        "  return df[df.columns[param2]].rolling(14).apply(lambda prices: np.dot(prices, weights)/weights.sum(), raw=True)\n",
        "\n",
        "def wma21(param,param2):\n",
        "  weights = np.arange(1,22)\n",
        "  return df[df.columns[param2]].rolling(21).apply(lambda prices: np.dot(prices, weights)/weights.sum(), raw=True)      \n",
        "\n",
        "def wma25(param,param2):\n",
        "  weights = np.arange(1,26)\n",
        "  return df[df.columns[param2]].rolling(25).apply(lambda prices: np.dot(prices, weights)/weights.sum(), raw=True)\n",
        "\n",
        "def wma50(param,param2):\n",
        "  weights = np.arange(1,51)\n",
        "  return df[df.columns[param2]].rolling(50).apply(lambda prices: np.dot(prices, weights)/weights.sum(), raw=True)\n",
        "\n",
        "def wma100(param,param2):\n",
        "  weights = np.arange(1,101)\n",
        "  return df[df.columns[param2]].rolling(100).apply(lambda prices: np.dot(prices, weights)/weights.sum(), raw=True)      \n"
      ],
      "execution_count": 263,
      "outputs": []
    },
    {
      "cell_type": "markdown",
      "metadata": {
        "id": "tJBVIodtu-Fr"
      },
      "source": [
        "# Execute MA Functions"
      ]
    },
    {
      "cell_type": "code",
      "metadata": {
        "id": "nKDf6KmF7ZO2"
      },
      "source": [
        "#@title Open\n"
      ],
      "execution_count": 264,
      "outputs": []
    },
    {
      "cell_type": "code",
      "metadata": {
        "id": "R9aAaFB2noV8"
      },
      "source": [
        "# 5 candel\n",
        "dfOpen  = df\n",
        "dfOpen.drop(columns=['high','low','close','volume'],inplace=True)\n",
        "dfOpen['openTime']=df.openTime\n",
        "dfOpen['open']=df.open\n",
        "dfOpen[\"O_SMA_5\"]=sma(5,1)\n",
        "# dfOpen[\"O_S_5\"]=smothing(5)\n",
        "dfOpen[\"O_EMA_5\"]=ema(5,1)\n",
        "dfOpen[\"O_WMA_5\"]=wma5(5,1)\n",
        "\n",
        "# # 7 candel\n",
        "# df[\"O_SMA_7\"]=sma(7,1)\n",
        "# df[\"O_S_7\"]=smothing(7)\n",
        "# df[\"O_EMA_7\"]=ema(7,1)\n",
        "# df[\"O_WMA_7\"]=wma7(7,1)\n",
        "\n",
        "# # 10 candel\n",
        "# df[\"O_SMA_10\"]=sma(10,1)\n",
        "# df[\"O_S_10\"]=smothing(10)\n",
        "# df[\"O_EMA_10\"]=ema(10,1)\n",
        "# df[\"O_WMA_10\"]=wma10(10,1)\n",
        "\n",
        "# # 14 candel\n",
        "# df[\"O_SMA_14\"]=sma(14,1)\n",
        "# df[\"O_S_14\"]=smothing(14)\n",
        "# df[\"O_EMA_14\"]=ema(14,1)\n",
        "# df[\"O_WMA_14\"]=wma14(14,1)\n",
        "\n",
        "# # 21 candel\n",
        "# df[\"O_SMA_21\"]=sma(21,1)\n",
        "# df[\"O_S_21\"]=smothing(21)\n",
        "# df[\"O_EMA_21\"]=ema(21,1)\n",
        "# df[\"O_WMA_21\"]=wma21(21,1)\n",
        "\n",
        "# # 25 candel\n",
        "# df[\"O_SMA_25\"]=sma(25,1)\n",
        "# df[\"O_S_25\"]=smothing(25)\n",
        "# df[\"O_EMA_25\"]=ema(25,1)\n",
        "# df[\"O_WMA_25\"]=wma25(25,1)\n",
        "\n",
        "# # 50 candel\n",
        "# df[\"O_SMA_50\"]=sma(50,1)\n",
        "# df[\"O_S_50\"]=smothing(50)\n",
        "# df[\"O_EMA_50\"]=ema(50,1)\n",
        "# df[\"O_WMA_50\"]=wma50(50,1)\n",
        "\n",
        "# # 100 candel\n",
        "# df[\"O_SMA_100\"]=sma(100,1)\n",
        "# df[\"O_S_100\"]=smothing(100)\n",
        "# df[\"O_EMA_100\"]=ema(100,1)\n",
        "# df[\"O_WMA_100\"]=wma100(100,1)"
      ],
      "execution_count": 265,
      "outputs": []
    },
    {
      "cell_type": "code",
      "metadata": {
        "id": "xVf0jspm7_-k"
      },
      "source": [
        "#@title High"
      ],
      "execution_count": 266,
      "outputs": []
    },
    {
      "cell_type": "code",
      "metadata": {
        "id": "jYPwUtVa8Gqr"
      },
      "source": [
        "# # 5 candel\n",
        "# df[\"H_SMA_5\"]=sma(5,2)\n",
        "# df[\"H_S_5\"]=smothing(5)\n",
        "# df[\"H_EMA_5\"]=ema(5,2)\n",
        "# df[\"H_WMA_5\"]=wma5(5,2)\n",
        "\n",
        "# # 7 candel\n",
        "# df[\"H_SMA_7\"]=sma(7,2)\n",
        "# df[\"H_S_7\"]=smothing(7)\n",
        "# df[\"H_EMA_7\"]=ema(7,2)\n",
        "# df[\"H_WMA_7\"]=wma7(7,2)\n",
        "\n",
        "# # 10 candel\n",
        "# df[\"H_SMA_10\"]=sma(10,2)\n",
        "# df[\"H_S_10\"]=smothing(10)\n",
        "# df[\"H_EMA_10\"]=ema(10,2)\n",
        "# df[\"H_WMA_10\"]=wma10(10,2)\n",
        "\n",
        "# # 14 candel\n",
        "# df[\"H_SMA_14\"]=sma(14,2)\n",
        "# df[\"H_S_14\"]=smothing(14)\n",
        "# df[\"H_EMA_14\"]=ema(14,2)\n",
        "# df[\"H_WMA_14\"]=wma14(14,2)\n",
        "\n",
        "# # 21 candel\n",
        "# df[\"H_SMA_21\"]=sma(21,2)\n",
        "# df[\"H_S_21\"]=smothing(21)\n",
        "# df[\"H_EMA_21\"]=ema(21,2)\n",
        "# df[\"H_WMA_21\"]=wma21(21,2)\n",
        "\n",
        "# # 25 candel\n",
        "# df[\"H_SMA_25\"]=sma(25,2)\n",
        "# df[\"H_S_25\"]=smothing(25)\n",
        "# df[\"H_EMA_25\"]=ema(25,2)\n",
        "# df[\"H_WMA_25\"]=wma25(25,2)\n",
        "\n",
        "# # 50 candel\n",
        "# df[\"H_SMA_50\"]=sma(50,2)\n",
        "# df[\"H_S_50\"]=smothing(50)\n",
        "# df[\"H_EMA_50\"]=ema(50,2)\n",
        "# df[\"H_WMA_50\"]=wma50(50,2)\n",
        "\n",
        "# # 100 candel\n",
        "# df[\"H_SMA_100\"]=sma(100,2)\n",
        "# df[\"H_S_100\"]=smothing(100)\n",
        "# df[\"H_EMA_100\"]=ema(100,2)\n",
        "# df[\"H_WMA_100\"]=wma100(100,2)"
      ],
      "execution_count": 267,
      "outputs": []
    },
    {
      "cell_type": "code",
      "metadata": {
        "id": "CdFvqgww7_tu"
      },
      "source": [
        "#@title Low"
      ],
      "execution_count": 268,
      "outputs": []
    },
    {
      "cell_type": "code",
      "metadata": {
        "id": "3Il6w3Xe8MSb"
      },
      "source": [
        "# # 5 candel\n",
        "# df[\"L_SMA_5\"]=sma(5,3)\n",
        "# df[\"L_S_5\"]=smothing(5)\n",
        "# df[\"L_EMA_5\"]=ema(5,3)\n",
        "# df[\"L_WMA_5\"]=wma5(5,3)\n",
        "\n",
        "# # 7 candel\n",
        "# df[\"L_SMA_7\"]=sma(7,3)\n",
        "# df[\"L_S_7\"]=smothing(7)\n",
        "# df[\"L_EMA_7\"]=ema(7,3)\n",
        "# df[\"L_WMA_7\"]=wma7(7,3)\n",
        "\n",
        "# # 10 candel\n",
        "# df[\"L_SMA_10\"]=sma(10,3)\n",
        "# df[\"L_S_10\"]=smothing(10)\n",
        "# df[\"L_EMA_10\"]=ema(10,3)\n",
        "# df[\"L_WMA_10\"]=wma10(10,3)\n",
        "\n",
        "# # 14 candel\n",
        "# df[\"L_SMA_14\"]=sma(14,3)\n",
        "# df[\"L_S_14\"]=smothing(14)\n",
        "# df[\"L_EMA_14\"]=ema(14,3)\n",
        "# df[\"L_WMA_14\"]=wma14(14,3)\n",
        "\n",
        "# # 21 candel\n",
        "# df[\"L_SMA_21\"]=sma(21,3)\n",
        "# df[\"L_S_21\"]=smothing(21)\n",
        "# df[\"L_EMA_21\"]=ema(21,3)\n",
        "# df[\"L_WMA_21\"]=wma21(21,3)\n",
        "\n",
        "# # 25 candel\n",
        "# df[\"L_SMA_25\"]=sma(25,3)\n",
        "# df[\"L_S_25\"]=smothing(25)\n",
        "# df[\"L_EMA_25\"]=ema(25,3)\n",
        "# df[\"L_WMA_25\"]=wma25(25,3)\n",
        "\n",
        "# # 50 candel\n",
        "# df[\"L_SMA_50\"]=sma(50,3)\n",
        "# df[\"L_S_50\"]=smothing(50)\n",
        "# df[\"L_EMA_50\"]=ema(50,3)\n",
        "# df[\"L_WMA_50\"]=wma50(50,3)\n",
        "\n",
        "# # 100 candel\n",
        "# df[\"L_SMA_100\"]=sma(100,3)\n",
        "# df[\"L_S_100\"]=smothing(100)\n",
        "# df[\"L_EMA_100\"]=ema(100,3)\n",
        "# df[\"L_WMA_100\"]=wma100(100,3)"
      ],
      "execution_count": 269,
      "outputs": []
    },
    {
      "cell_type": "code",
      "metadata": {
        "id": "oRcxFHhH7BDJ"
      },
      "source": [
        "#@title Close\n"
      ],
      "execution_count": 270,
      "outputs": []
    },
    {
      "cell_type": "code",
      "metadata": {
        "id": "mJaThi_x7HGd"
      },
      "source": [
        "# # 5 candel\n",
        "# df[\"C_SMA_5\"]=sma(5,4)\n",
        "# df[\"C_S_5\"]=smothing(5)\n",
        "# df[\"C_EMA_5\"]=ema(5,4)\n",
        "# df[\"C_WMA_5\"]=wma5(5,4)\n",
        "\n",
        "# # 7 candel\n",
        "# df[\"C_SMA_7\"]=sma(7,4)\n",
        "# df[\"C_S_7\"]=smothing(7)\n",
        "# df[\"C_EMA_7\"]=ema(7,4)\n",
        "# df[\"C_WMA_7\"]=wma7(7,4)\n",
        "\n",
        "# # 10 candel\n",
        "# df[\"C_SMA_10\"]=sma(10,4)\n",
        "# df[\"C_S_10\"]=smothing(10)\n",
        "# df[\"C_EMA_10\"]=ema(10,4)\n",
        "# df[\"C_WMA_10\"]=wma10(10,4)\n",
        "\n",
        "# # 14 candel\n",
        "# df[\"C_SMA_14\"]=sma(14,4)\n",
        "# df[\"C_S_14\"]=smothing(14)\n",
        "# df[\"C_EMA_14\"]=ema(14,4)\n",
        "# df[\"C_WMA_14\"]=wma14(14,4)\n",
        "\n",
        "# # 21 candel\n",
        "# df[\"C_SMA_21\"]=sma(21,4)\n",
        "# df[\"C_S_21\"]=smothing(21)\n",
        "# df[\"C_EMA_21\"]=ema(21,4)\n",
        "# df[\"C_WMA_21\"]=wma21(21,4)\n",
        "\n",
        "# # 25 candel\n",
        "# df[\"C_SMA_25\"]=sma(25,4)\n",
        "# df[\"C_S_25\"]=smothing(25)\n",
        "# df[\"C_EMA_25\"]=ema(25,4)\n",
        "# df[\"C_WMA_25\"]=wma25(25,4)\n",
        "\n",
        "# # 50 candel\n",
        "# df[\"C_SMA_50\"]=sma(50,4)\n",
        "# df[\"C_S_50\"]=smothing(50)\n",
        "# df[\"C_EMA_50\"]=ema(50,4)\n",
        "# df[\"C_WMA_50\"]=wma50(50,4)\n",
        "\n",
        "# # 100 candel\n",
        "# df[\"C_SMA_100\"]=sma(100,4)\n",
        "# df[\"C_S_100\"]=smothing(100)\n",
        "# df[\"C_EMA_100\"]=ema(100,4)\n",
        "# df[\"C_WMA_100\"]=wma100(100,4)"
      ],
      "execution_count": 271,
      "outputs": []
    },
    {
      "cell_type": "markdown",
      "metadata": {
        "id": "FmQLiar8xIix"
      },
      "source": [
        "# test data fram with excel"
      ]
    },
    {
      "cell_type": "code",
      "metadata": {
        "colab": {
          "base_uri": "https://localhost:8080/",
          "height": 204
        },
        "id": "qbrps9ZKdsGF",
        "outputId": "adea3d73-a7e3-42e8-8eff-ab6c0fbdbfe3"
      },
      "source": [
        "dfOpen.tail()"
      ],
      "execution_count": 272,
      "outputs": [
        {
          "output_type": "execute_result",
          "data": {
            "text/html": [
              "<div>\n",
              "<style scoped>\n",
              "    .dataframe tbody tr th:only-of-type {\n",
              "        vertical-align: middle;\n",
              "    }\n",
              "\n",
              "    .dataframe tbody tr th {\n",
              "        vertical-align: top;\n",
              "    }\n",
              "\n",
              "    .dataframe thead th {\n",
              "        text-align: right;\n",
              "    }\n",
              "</style>\n",
              "<table border=\"1\" class=\"dataframe\">\n",
              "  <thead>\n",
              "    <tr style=\"text-align: right;\">\n",
              "      <th></th>\n",
              "      <th>openTime</th>\n",
              "      <th>open</th>\n",
              "      <th>O_SMA_5</th>\n",
              "      <th>O_EMA_5</th>\n",
              "      <th>O_WMA_5</th>\n",
              "    </tr>\n",
              "  </thead>\n",
              "  <tbody>\n",
              "    <tr>\n",
              "      <th>8995</th>\n",
              "      <td>1618639200000</td>\n",
              "      <td>325.05</td>\n",
              "      <td>324.914</td>\n",
              "      <td>322.879553</td>\n",
              "      <td>324.504000</td>\n",
              "    </tr>\n",
              "    <tr>\n",
              "      <th>8996</th>\n",
              "      <td>1618642800000</td>\n",
              "      <td>323.94</td>\n",
              "      <td>324.824</td>\n",
              "      <td>323.233036</td>\n",
              "      <td>324.179333</td>\n",
              "    </tr>\n",
              "    <tr>\n",
              "      <th>8997</th>\n",
              "      <td>1618646400000</td>\n",
              "      <td>326.93</td>\n",
              "      <td>324.308</td>\n",
              "      <td>324.465357</td>\n",
              "      <td>324.881333</td>\n",
              "    </tr>\n",
              "    <tr>\n",
              "      <th>8998</th>\n",
              "      <td>1618650000000</td>\n",
              "      <td>330.74</td>\n",
              "      <td>325.740</td>\n",
              "      <td>326.556905</td>\n",
              "      <td>327.025333</td>\n",
              "    </tr>\n",
              "    <tr>\n",
              "      <th>8999</th>\n",
              "      <td>1618653600000</td>\n",
              "      <td>318.08</td>\n",
              "      <td>324.948</td>\n",
              "      <td>323.731270</td>\n",
              "      <td>324.472000</td>\n",
              "    </tr>\n",
              "  </tbody>\n",
              "</table>\n",
              "</div>"
            ],
            "text/plain": [
              "           openTime    open  O_SMA_5     O_EMA_5     O_WMA_5\n",
              "8995  1618639200000  325.05  324.914  322.879553  324.504000\n",
              "8996  1618642800000  323.94  324.824  323.233036  324.179333\n",
              "8997  1618646400000  326.93  324.308  324.465357  324.881333\n",
              "8998  1618650000000  330.74  325.740  326.556905  327.025333\n",
              "8999  1618653600000  318.08  324.948  323.731270  324.472000"
            ]
          },
          "metadata": {
            "tags": []
          },
          "execution_count": 272
        }
      ]
    },
    {
      "cell_type": "code",
      "metadata": {
        "id": "C0zl7u4h-MQD"
      },
      "source": [
        "# df.to_excel('ltc_1h.xlsx', sheet_name = 'New_sheet')"
      ],
      "execution_count": 273,
      "outputs": []
    }
  ]
}
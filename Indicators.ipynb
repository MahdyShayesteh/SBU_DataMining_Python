{
  "nbformat": 4,
  "nbformat_minor": 0,
  "metadata": {
    "colab": {
      "name": "Indicators.ipynb",
      "provenance": [],
      "collapsed_sections": [
        "o2xZlxLk2XXY",
        "T1mwpqopuxwP"
      ],
      "toc_visible": true,
      "authorship_tag": "ABX9TyN8koNEDTO0C/PbSeVPoGVo",
      "include_colab_link": true
    },
    "kernelspec": {
      "display_name": "Python 3",
      "name": "python3"
    },
    "language_info": {
      "name": "python"
    }
  },
  "cells": [
    {
      "cell_type": "markdown",
      "metadata": {
        "id": "view-in-github",
        "colab_type": "text"
      },
      "source": [
        "<a href=\"https://colab.research.google.com/github/mahhhdy/SBU_DataMining_Python/blob/main/Indicators.ipynb\" target=\"_parent\"><img src=\"https://colab.research.google.com/assets/colab-badge.svg\" alt=\"Open In Colab\"/></a>"
      ]
    },
    {
      "cell_type": "markdown",
      "metadata": {
        "id": "hIwOZuBf1J4C"
      },
      "source": [
        "# initialize libs"
      ]
    },
    {
      "cell_type": "code",
      "metadata": {
        "colab": {
          "base_uri": "https://localhost:8080/"
        },
        "id": "8iOGE22wk2yz",
        "outputId": "82f1049b-186a-4305-a252-6a1363e7619d"
      },
      "source": [
        "import pandas as pd\n",
        "import numpy as np\n",
        "from google.colab import drive\n",
        "from datetime import datetime\n",
        "\n",
        "drive.mount('/content/drive')\n",
        "path='/content/drive/MyDrive/DataSets/LTC_1H.xlsx'\n",
        "\n",
        "df= pd.read_excel(path)"
      ],
      "execution_count": 207,
      "outputs": [
        {
          "output_type": "stream",
          "text": [
            "Drive already mounted at /content/drive; to attempt to forcibly remount, call drive.mount(\"/content/drive\", force_remount=True).\n"
          ],
          "name": "stdout"
        }
      ]
    },
    {
      "cell_type": "code",
      "metadata": {
        "colab": {
          "base_uri": "https://localhost:8080/",
          "height": 340
        },
        "id": "YYehH6JSx8Y1",
        "outputId": "d403dd1f-a6db-48ae-9300-be22e364a220"
      },
      "source": [
        "df.head()\n",
        "s=open\n",
        "df[s]"
      ],
      "execution_count": 210,
      "outputs": [
        {
          "output_type": "error",
          "ename": "TypeError",
          "evalue": "ignored",
          "traceback": [
            "\u001b[0;31m---------------------------------------------------------------------------\u001b[0m",
            "\u001b[0;31mTypeError\u001b[0m                                 Traceback (most recent call last)",
            "\u001b[0;32m<ipython-input-210-7e6aea82fa2e>\u001b[0m in \u001b[0;36m<module>\u001b[0;34m()\u001b[0m\n\u001b[1;32m      1\u001b[0m \u001b[0mdf\u001b[0m\u001b[0;34m.\u001b[0m\u001b[0mhead\u001b[0m\u001b[0;34m(\u001b[0m\u001b[0;34m)\u001b[0m\u001b[0;34m\u001b[0m\u001b[0;34m\u001b[0m\u001b[0m\n\u001b[1;32m      2\u001b[0m \u001b[0ms\u001b[0m\u001b[0;34m=\u001b[0m\u001b[0mopen\u001b[0m\u001b[0;34m\u001b[0m\u001b[0;34m\u001b[0m\u001b[0m\n\u001b[0;32m----> 3\u001b[0;31m \u001b[0mdf\u001b[0m\u001b[0;34m[\u001b[0m\u001b[0ms\u001b[0m\u001b[0;34m]\u001b[0m\u001b[0;34m\u001b[0m\u001b[0;34m\u001b[0m\u001b[0m\n\u001b[0m",
            "\u001b[0;32m/usr/local/lib/python3.7/dist-packages/pandas/core/frame.py\u001b[0m in \u001b[0;36m__getitem__\u001b[0;34m(self, key)\u001b[0m\n\u001b[1;32m   2869\u001b[0m     \u001b[0;32mdef\u001b[0m \u001b[0m__getitem__\u001b[0m\u001b[0;34m(\u001b[0m\u001b[0mself\u001b[0m\u001b[0;34m,\u001b[0m \u001b[0mkey\u001b[0m\u001b[0;34m)\u001b[0m\u001b[0;34m:\u001b[0m\u001b[0;34m\u001b[0m\u001b[0;34m\u001b[0m\u001b[0m\n\u001b[1;32m   2870\u001b[0m         \u001b[0mkey\u001b[0m \u001b[0;34m=\u001b[0m \u001b[0mlib\u001b[0m\u001b[0;34m.\u001b[0m\u001b[0mitem_from_zerodim\u001b[0m\u001b[0;34m(\u001b[0m\u001b[0mkey\u001b[0m\u001b[0;34m)\u001b[0m\u001b[0;34m\u001b[0m\u001b[0;34m\u001b[0m\u001b[0m\n\u001b[0;32m-> 2871\u001b[0;31m         \u001b[0mkey\u001b[0m \u001b[0;34m=\u001b[0m \u001b[0mcom\u001b[0m\u001b[0;34m.\u001b[0m\u001b[0mapply_if_callable\u001b[0m\u001b[0;34m(\u001b[0m\u001b[0mkey\u001b[0m\u001b[0;34m,\u001b[0m \u001b[0mself\u001b[0m\u001b[0;34m)\u001b[0m\u001b[0;34m\u001b[0m\u001b[0;34m\u001b[0m\u001b[0m\n\u001b[0m\u001b[1;32m   2872\u001b[0m \u001b[0;34m\u001b[0m\u001b[0m\n\u001b[1;32m   2873\u001b[0m         \u001b[0;32mif\u001b[0m \u001b[0mis_hashable\u001b[0m\u001b[0;34m(\u001b[0m\u001b[0mkey\u001b[0m\u001b[0;34m)\u001b[0m\u001b[0;34m:\u001b[0m\u001b[0;34m\u001b[0m\u001b[0;34m\u001b[0m\u001b[0m\n",
            "\u001b[0;32m/usr/local/lib/python3.7/dist-packages/pandas/core/common.py\u001b[0m in \u001b[0;36mapply_if_callable\u001b[0;34m(maybe_callable, obj, **kwargs)\u001b[0m\n\u001b[1;32m    339\u001b[0m     \"\"\"\n\u001b[1;32m    340\u001b[0m     \u001b[0;32mif\u001b[0m \u001b[0mcallable\u001b[0m\u001b[0;34m(\u001b[0m\u001b[0mmaybe_callable\u001b[0m\u001b[0;34m)\u001b[0m\u001b[0;34m:\u001b[0m\u001b[0;34m\u001b[0m\u001b[0;34m\u001b[0m\u001b[0m\n\u001b[0;32m--> 341\u001b[0;31m         \u001b[0;32mreturn\u001b[0m \u001b[0mmaybe_callable\u001b[0m\u001b[0;34m(\u001b[0m\u001b[0mobj\u001b[0m\u001b[0;34m,\u001b[0m \u001b[0;34m**\u001b[0m\u001b[0mkwargs\u001b[0m\u001b[0;34m)\u001b[0m\u001b[0;34m\u001b[0m\u001b[0;34m\u001b[0m\u001b[0m\n\u001b[0m\u001b[1;32m    342\u001b[0m \u001b[0;34m\u001b[0m\u001b[0m\n\u001b[1;32m    343\u001b[0m     \u001b[0;32mreturn\u001b[0m \u001b[0mmaybe_callable\u001b[0m\u001b[0;34m\u001b[0m\u001b[0;34m\u001b[0m\u001b[0m\n",
            "\u001b[0;31mTypeError\u001b[0m: expected str, bytes or os.PathLike object, not DataFrame"
          ]
        }
      ]
    },
    {
      "cell_type": "markdown",
      "metadata": {
        "id": "o2xZlxLk2XXY"
      },
      "source": [
        "#check for null value and there is not any null value"
      ]
    },
    {
      "cell_type": "code",
      "metadata": {
        "colab": {
          "base_uri": "https://localhost:8080/"
        },
        "id": "EXZLiLfMnMQ8",
        "outputId": "ab45bafa-da6a-447e-bf40-e509cb7d95ab"
      },
      "source": [
        "df.isna().sum()"
      ],
      "execution_count": 201,
      "outputs": [
        {
          "output_type": "execute_result",
          "data": {
            "text/plain": [
              "openTime    0\n",
              "open        0\n",
              "high        0\n",
              "low         0\n",
              "close       0\n",
              "volume      0\n",
              "dtype: int64"
            ]
          },
          "metadata": {
            "tags": []
          },
          "execution_count": 201
        }
      ]
    },
    {
      "cell_type": "markdown",
      "metadata": {
        "id": "T1mwpqopuxwP"
      },
      "source": [
        "# Define MA Functions"
      ]
    },
    {
      "cell_type": "code",
      "metadata": {
        "id": "xf2vPXPQnNq6"
      },
      "source": [
        "def sma(param):\n",
        "  return df.open.rolling(window=param).mean()\n",
        "\n",
        "def ema(param):\n",
        "  return df.open.ewm(span=param,adjust=False).mean()\n",
        "\n",
        "def smothing(param):\n",
        "  return 2/(param+1)\n",
        "\n",
        "def wma5(param):\n",
        "  weights = np.arange(1,6)\n",
        "  return df.open.rolling(5).apply(lambda prices: np.dot(prices, weights)/weights.sum(), raw=True)\n",
        "\n",
        "def wma7(param):\n",
        "  weights = np.arange(1,8)\n",
        "  return df.open.rolling(7).apply(lambda prices: np.dot(prices, weights)/weights.sum(), raw=True)\n",
        "\n",
        "def wma10(param):\n",
        "  weights = np.arange(1,11)\n",
        "  return df.open.rolling(10).apply(lambda prices: np.dot(prices, weights)/weights.sum(), raw=True)\n",
        "\n",
        "def wma14(param):\n",
        "  weights = np.arange(1,15)\n",
        "  return df.open.rolling(14).apply(lambda prices: np.dot(prices, weights)/weights.sum(), raw=True)\n",
        "\n",
        "def wma21(param):\n",
        "  weights = np.arange(1,22)\n",
        "  return df.open.rolling(21).apply(lambda prices: np.dot(prices, weights)/weights.sum(), raw=True)      \n",
        "\n",
        "def wma25(param):\n",
        "  weights = np.arange(1,26)\n",
        "  return df.open.rolling(25).apply(lambda prices: np.dot(prices, weights)/weights.sum(), raw=True)\n",
        "\n",
        "def wma50(param):\n",
        "  weights = np.arange(1,51)\n",
        "  return df.open.rolling(50).apply(lambda prices: np.dot(prices, weights)/weights.sum(), raw=True)\n",
        "\n",
        "def wma100(param):\n",
        "  weights = np.arange(1,101)\n",
        "  return df.open.rolling(100).apply(lambda prices: np.dot(prices, weights)/weights.sum(), raw=True)      "
      ],
      "execution_count": 202,
      "outputs": []
    },
    {
      "cell_type": "markdown",
      "metadata": {
        "id": "tJBVIodtu-Fr"
      },
      "source": [
        "# Execute MA Functions"
      ]
    },
    {
      "cell_type": "code",
      "metadata": {
        "id": "R9aAaFB2noV8"
      },
      "source": [
        "# 5 candel\n",
        "df[\"C_SMA_5\"]=sma(5)\n",
        "df[\"C_S_5\"]=smothing(5)\n",
        "df[\"C_EMA_5\"]=ema(5)\n",
        "df[\"C_WMA_5\"]=wma5(5)\n",
        "\n",
        "# 5 candel\n",
        "df[\"O_SMA_5\"]=sma(5)\n",
        "df[\"O_S_5\"]=smothing(5)\n",
        "df[\"O_EMA_5\"]=ema(5)\n",
        "df[\"O_WMA_5\"]=wma5(5)\n",
        "\n",
        "# 7 candel\n",
        "df[\"O_SMA_7\"]=sma(7)\n",
        "df[\"O_S_7\"]=smothing(7)\n",
        "df[\"O_EMA_7\"]=ema(7)\n",
        "df[\"O_WMA_7\"]=wma7(7)\n",
        "\n",
        "# 10 candel\n",
        "df[\"O_SMA_10\"]=sma(10)\n",
        "df[\"O_S_10\"]=smothing(10)\n",
        "df[\"O_EMA_10\"]=ema(10)\n",
        "df[\"O_WMA_10\"]=wma10(10)\n",
        "\n",
        "# 14 candel\n",
        "df[\"O_SMA_14\"]=sma(14)\n",
        "df[\"O_S_14\"]=smothing(14)\n",
        "df[\"O_EMA_14\"]=ema(14)\n",
        "df[\"O_WMA_14\"]=wma14(14)\n",
        "\n",
        "# 21 candel\n",
        "df[\"O_SMA_21\"]=sma(21)\n",
        "df[\"O_S_21\"]=smothing(21)\n",
        "df[\"O_EMA_21\"]=ema(21)\n",
        "df[\"O_WMA_21\"]=wma21(21)\n",
        "\n",
        "# 25 candel\n",
        "df[\"O_SMA_25\"]=sma(25)\n",
        "df[\"O_S_25\"]=smothing(25)\n",
        "df[\"O_EMA_25\"]=ema(25)\n",
        "df[\"O_WMA_25\"]=wma25(25)\n",
        "\n",
        "# 50 candel\n",
        "df[\"O_SMA_50\"]=sma(50)\n",
        "df[\"O_S_50\"]=smothing(50)\n",
        "df[\"O_EMA_50\"]=ema(50)\n",
        "df[\"O_WMA_50\"]=wma50(50)\n",
        "\n",
        "# 100 candel\n",
        "df[\"O_SMA_100\"]=sma(100)\n",
        "df[\"O_S_100\"]=smothing(100)\n",
        "df[\"O_EMA_100\"]=ema(100)\n",
        "df[\"O_WMA_100\"]=wma100(100)"
      ],
      "execution_count": 203,
      "outputs": []
    },
    {
      "cell_type": "markdown",
      "metadata": {
        "id": "FmQLiar8xIix"
      },
      "source": [
        "# test dat fram with excel"
      ]
    },
    {
      "cell_type": "code",
      "metadata": {
        "colab": {
          "base_uri": "https://localhost:8080/",
          "height": 224
        },
        "id": "qbrps9ZKdsGF",
        "outputId": "154a9b74-51dc-4e62-f5b9-b388a3b618d1"
      },
      "source": [
        "df.tail()"
      ],
      "execution_count": 205,
      "outputs": [
        {
          "output_type": "execute_result",
          "data": {
            "text/html": [
              "<div>\n",
              "<style scoped>\n",
              "    .dataframe tbody tr th:only-of-type {\n",
              "        vertical-align: middle;\n",
              "    }\n",
              "\n",
              "    .dataframe tbody tr th {\n",
              "        vertical-align: top;\n",
              "    }\n",
              "\n",
              "    .dataframe thead th {\n",
              "        text-align: right;\n",
              "    }\n",
              "</style>\n",
              "<table border=\"1\" class=\"dataframe\">\n",
              "  <thead>\n",
              "    <tr style=\"text-align: right;\">\n",
              "      <th></th>\n",
              "      <th>openTime</th>\n",
              "      <th>open</th>\n",
              "      <th>high</th>\n",
              "      <th>low</th>\n",
              "      <th>close</th>\n",
              "      <th>volume</th>\n",
              "      <th>O_SMA_5</th>\n",
              "      <th>O_S_5</th>\n",
              "      <th>O_EMA_5</th>\n",
              "      <th>O_WMA_5</th>\n",
              "      <th>O_SMA_7</th>\n",
              "      <th>O_S_7</th>\n",
              "      <th>O_EMA_7</th>\n",
              "      <th>O_WMA_7</th>\n",
              "      <th>O_SMA_10</th>\n",
              "      <th>O_S_10</th>\n",
              "      <th>O_EMA_10</th>\n",
              "      <th>O_WMA_10</th>\n",
              "      <th>O_SMA_14</th>\n",
              "      <th>O_S_14</th>\n",
              "      <th>O_EMA_14</th>\n",
              "      <th>O_WMA_14</th>\n",
              "      <th>O_SMA_21</th>\n",
              "      <th>O_S_21</th>\n",
              "      <th>O_EMA_21</th>\n",
              "      <th>O_WMA_21</th>\n",
              "      <th>O_SMA_25</th>\n",
              "      <th>O_S_25</th>\n",
              "      <th>O_EMA_25</th>\n",
              "      <th>O_WMA_25</th>\n",
              "      <th>O_SMA_50</th>\n",
              "      <th>O_S_50</th>\n",
              "      <th>O_EMA_50</th>\n",
              "      <th>O_WMA_50</th>\n",
              "      <th>O_SMA_100</th>\n",
              "      <th>O_S_100</th>\n",
              "      <th>O_EMA_100</th>\n",
              "      <th>O_WMA_100</th>\n",
              "    </tr>\n",
              "  </thead>\n",
              "  <tbody>\n",
              "    <tr>\n",
              "      <th>8995</th>\n",
              "      <td>1618639200000</td>\n",
              "      <td>325.05</td>\n",
              "      <td>327.50</td>\n",
              "      <td>321.70</td>\n",
              "      <td>323.94</td>\n",
              "      <td>60729.91823</td>\n",
              "      <td>324.914</td>\n",
              "      <td>0.333333</td>\n",
              "      <td>322.879553</td>\n",
              "      <td>324.504000</td>\n",
              "      <td>322.195714</td>\n",
              "      <td>0.25</td>\n",
              "      <td>321.092538</td>\n",
              "      <td>323.925357</td>\n",
              "      <td>317.971</td>\n",
              "      <td>0.181818</td>\n",
              "      <td>318.036216</td>\n",
              "      <td>321.487455</td>\n",
              "      <td>315.299286</td>\n",
              "      <td>0.133333</td>\n",
              "      <td>314.089646</td>\n",
              "      <td>318.960571</td>\n",
              "      <td>303.052381</td>\n",
              "      <td>0.090909</td>\n",
              "      <td>308.356093</td>\n",
              "      <td>312.782294</td>\n",
              "      <td>300.4344</td>\n",
              "      <td>0.076923</td>\n",
              "      <td>305.689649</td>\n",
              "      <td>309.440523</td>\n",
              "      <td>289.9444</td>\n",
              "      <td>0.039216</td>\n",
              "      <td>294.422391</td>\n",
              "      <td>298.269380</td>\n",
              "      <td>278.8840</td>\n",
              "      <td>0.019802</td>\n",
              "      <td>281.360185</td>\n",
              "      <td>287.146556</td>\n",
              "    </tr>\n",
              "    <tr>\n",
              "      <th>8996</th>\n",
              "      <td>1618642800000</td>\n",
              "      <td>323.94</td>\n",
              "      <td>329.48</td>\n",
              "      <td>322.72</td>\n",
              "      <td>326.93</td>\n",
              "      <td>71543.97664</td>\n",
              "      <td>324.824</td>\n",
              "      <td>0.333333</td>\n",
              "      <td>323.233036</td>\n",
              "      <td>324.179333</td>\n",
              "      <td>324.417143</td>\n",
              "      <td>0.25</td>\n",
              "      <td>321.804403</td>\n",
              "      <td>324.361429</td>\n",
              "      <td>319.471</td>\n",
              "      <td>0.181818</td>\n",
              "      <td>319.109631</td>\n",
              "      <td>322.572727</td>\n",
              "      <td>316.252857</td>\n",
              "      <td>0.133333</td>\n",
              "      <td>315.403027</td>\n",
              "      <td>320.112667</td>\n",
              "      <td>305.245714</td>\n",
              "      <td>0.090909</td>\n",
              "      <td>309.772812</td>\n",
              "      <td>314.681169</td>\n",
              "      <td>301.8268</td>\n",
              "      <td>0.076923</td>\n",
              "      <td>307.093522</td>\n",
              "      <td>311.248646</td>\n",
              "      <td>290.9430</td>\n",
              "      <td>0.039216</td>\n",
              "      <td>295.579945</td>\n",
              "      <td>299.602541</td>\n",
              "      <td>279.6110</td>\n",
              "      <td>0.019802</td>\n",
              "      <td>282.203349</td>\n",
              "      <td>288.038754</td>\n",
              "    </tr>\n",
              "    <tr>\n",
              "      <th>8997</th>\n",
              "      <td>1618646400000</td>\n",
              "      <td>326.93</td>\n",
              "      <td>332.85</td>\n",
              "      <td>325.17</td>\n",
              "      <td>330.86</td>\n",
              "      <td>74423.98114</td>\n",
              "      <td>324.308</td>\n",
              "      <td>0.333333</td>\n",
              "      <td>324.465357</td>\n",
              "      <td>324.881333</td>\n",
              "      <td>325.062857</td>\n",
              "      <td>0.25</td>\n",
              "      <td>323.085803</td>\n",
              "      <td>324.989643</td>\n",
              "      <td>321.229</td>\n",
              "      <td>0.181818</td>\n",
              "      <td>320.531517</td>\n",
              "      <td>323.928909</td>\n",
              "      <td>317.907143</td>\n",
              "      <td>0.133333</td>\n",
              "      <td>316.939957</td>\n",
              "      <td>321.536286</td>\n",
              "      <td>307.823333</td>\n",
              "      <td>0.090909</td>\n",
              "      <td>311.332556</td>\n",
              "      <td>316.652468</td>\n",
              "      <td>303.4348</td>\n",
              "      <td>0.076923</td>\n",
              "      <td>308.619405</td>\n",
              "      <td>313.179662</td>\n",
              "      <td>291.9902</td>\n",
              "      <td>0.039216</td>\n",
              "      <td>296.809358</td>\n",
              "      <td>301.013796</td>\n",
              "      <td>280.3761</td>\n",
              "      <td>0.019802</td>\n",
              "      <td>283.089026</td>\n",
              "      <td>288.975764</td>\n",
              "    </tr>\n",
              "    <tr>\n",
              "      <th>8998</th>\n",
              "      <td>1618650000000</td>\n",
              "      <td>330.74</td>\n",
              "      <td>335.69</td>\n",
              "      <td>314.72</td>\n",
              "      <td>318.05</td>\n",
              "      <td>198209.45112</td>\n",
              "      <td>325.740</td>\n",
              "      <td>0.333333</td>\n",
              "      <td>326.556905</td>\n",
              "      <td>327.025333</td>\n",
              "      <td>325.970000</td>\n",
              "      <td>0.25</td>\n",
              "      <td>324.999352</td>\n",
              "      <td>326.408929</td>\n",
              "      <td>323.698</td>\n",
              "      <td>0.181818</td>\n",
              "      <td>322.387605</td>\n",
              "      <td>325.658182</td>\n",
              "      <td>319.502857</td>\n",
              "      <td>0.133333</td>\n",
              "      <td>318.779962</td>\n",
              "      <td>323.247333</td>\n",
              "      <td>310.317619</td>\n",
              "      <td>0.090909</td>\n",
              "      <td>313.096869</td>\n",
              "      <td>318.735801</td>\n",
              "      <td>305.1792</td>\n",
              "      <td>0.076923</td>\n",
              "      <td>310.320989</td>\n",
              "      <td>315.280062</td>\n",
              "      <td>293.1298</td>\n",
              "      <td>0.039216</td>\n",
              "      <td>298.139972</td>\n",
              "      <td>302.533396</td>\n",
              "      <td>281.1954</td>\n",
              "      <td>0.019802</td>\n",
              "      <td>284.032609</td>\n",
              "      <td>289.973069</td>\n",
              "    </tr>\n",
              "    <tr>\n",
              "      <th>8999</th>\n",
              "      <td>1618653600000</td>\n",
              "      <td>318.08</td>\n",
              "      <td>322.72</td>\n",
              "      <td>313.76</td>\n",
              "      <td>318.80</td>\n",
              "      <td>65240.50128</td>\n",
              "      <td>324.948</td>\n",
              "      <td>0.333333</td>\n",
              "      <td>323.731270</td>\n",
              "      <td>324.472000</td>\n",
              "      <td>324.337143</td>\n",
              "      <td>0.25</td>\n",
              "      <td>323.269514</td>\n",
              "      <td>324.436429</td>\n",
              "      <td>324.667</td>\n",
              "      <td>0.181818</td>\n",
              "      <td>321.604404</td>\n",
              "      <td>324.636727</td>\n",
              "      <td>319.957143</td>\n",
              "      <td>0.133333</td>\n",
              "      <td>318.686634</td>\n",
              "      <td>323.057619</td>\n",
              "      <td>312.332381</td>\n",
              "      <td>0.090909</td>\n",
              "      <td>313.549881</td>\n",
              "      <td>319.441472</td>\n",
              "      <td>306.5516</td>\n",
              "      <td>0.076923</td>\n",
              "      <td>310.917836</td>\n",
              "      <td>316.272431</td>\n",
              "      <td>294.0196</td>\n",
              "      <td>0.039216</td>\n",
              "      <td>298.921934</td>\n",
              "      <td>303.511835</td>\n",
              "      <td>281.8813</td>\n",
              "      <td>0.019802</td>\n",
              "      <td>284.706815</td>\n",
              "      <td>290.703457</td>\n",
              "    </tr>\n",
              "  </tbody>\n",
              "</table>\n",
              "</div>"
            ],
            "text/plain": [
              "           openTime    open    high  ...   O_S_100   O_EMA_100   O_WMA_100\n",
              "8995  1618639200000  325.05  327.50  ...  0.019802  281.360185  287.146556\n",
              "8996  1618642800000  323.94  329.48  ...  0.019802  282.203349  288.038754\n",
              "8997  1618646400000  326.93  332.85  ...  0.019802  283.089026  288.975764\n",
              "8998  1618650000000  330.74  335.69  ...  0.019802  284.032609  289.973069\n",
              "8999  1618653600000  318.08  322.72  ...  0.019802  284.706815  290.703457\n",
              "\n",
              "[5 rows x 38 columns]"
            ]
          },
          "metadata": {
            "tags": []
          },
          "execution_count": 205
        }
      ]
    }
  ]
}
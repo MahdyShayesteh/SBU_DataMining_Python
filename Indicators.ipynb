{
  "nbformat": 4,
  "nbformat_minor": 0,
  "metadata": {
    "colab": {
      "name": "Indicators.ipynb",
      "provenance": [],
      "collapsed_sections": [
        "hIwOZuBf1J4C",
        "o2xZlxLk2XXY",
        "T1mwpqopuxwP"
      ],
      "mount_file_id": "1m9vbRQRZJs6Fns-oP_DYUROw1W-KNRtE",
      "authorship_tag": "ABX9TyNNkfXTeoe+9YJ4HfJ8jT8I",
      "include_colab_link": true
    },
    "kernelspec": {
      "display_name": "Python 3",
      "name": "python3"
    },
    "language_info": {
      "name": "python"
    }
  },
  "cells": [
    {
      "cell_type": "markdown",
      "metadata": {
        "id": "view-in-github",
        "colab_type": "text"
      },
      "source": [
        "<a href=\"https://colab.research.google.com/github/mahhhdy/SBU_DataMining_Python/blob/main/Indicators.ipynb\" target=\"_parent\"><img src=\"https://colab.research.google.com/assets/colab-badge.svg\" alt=\"Open In Colab\"/></a>"
      ]
    },
    {
      "cell_type": "markdown",
      "metadata": {
        "id": "hIwOZuBf1J4C"
      },
      "source": [
        "# initialize libs"
      ]
    },
    {
      "cell_type": "code",
      "metadata": {
        "colab": {
          "base_uri": "https://localhost:8080/"
        },
        "id": "8iOGE22wk2yz",
        "outputId": "ee351f44-1948-4540-e32c-a7a4d91c5dea"
      },
      "source": [
        "import pandas as pd\n",
        "import numpy as np\n",
        "from google.colab import drive\n",
        "from datetime import datetime\n",
        "\n",
        "drive.mount('/content/drive')\n",
        "path='/content/drive/MyDrive/DataSets/LTC_1H.xlsx'\n",
        "\n",
        "df= pd.read_excel(path)"
      ],
      "execution_count": 16,
      "outputs": [
        {
          "output_type": "stream",
          "text": [
            "Drive already mounted at /content/drive; to attempt to forcibly remount, call drive.mount(\"/content/drive\", force_remount=True).\n"
          ],
          "name": "stdout"
        }
      ]
    },
    {
      "cell_type": "code",
      "metadata": {
        "id": "YYehH6JSx8Y1"
      },
      "source": [
        "# df.head()\n",
        "# print(df.iloc[-1]['open'])\n",
        "# print(df['open'])\n",
        "# print(df['open'].tail())\n",
        "# for col in df.columns:\n",
        "#     print(col)\n",
        "\n",
        "# if(df.columns[1]=='open'):\n",
        "#   print(123)"
      ],
      "execution_count": 17,
      "outputs": []
    },
    {
      "cell_type": "markdown",
      "metadata": {
        "id": "o2xZlxLk2XXY"
      },
      "source": [
        "#check for null value and there is not any null value"
      ]
    },
    {
      "cell_type": "code",
      "metadata": {
        "colab": {
          "base_uri": "https://localhost:8080/"
        },
        "id": "EXZLiLfMnMQ8",
        "outputId": "7af457ba-6da4-4fdd-f9a5-278935a022ee"
      },
      "source": [
        "df.isna().sum()"
      ],
      "execution_count": 18,
      "outputs": [
        {
          "output_type": "execute_result",
          "data": {
            "text/plain": [
              "openTime    0\n",
              "open        0\n",
              "high        0\n",
              "low         0\n",
              "close       0\n",
              "volume      0\n",
              "dtype: int64"
            ]
          },
          "metadata": {
            "tags": []
          },
          "execution_count": 18
        }
      ]
    },
    {
      "cell_type": "markdown",
      "metadata": {
        "id": "T1mwpqopuxwP"
      },
      "source": [
        "# Define MA Functions"
      ]
    },
    {
      "cell_type": "code",
      "metadata": {
        "id": "xf2vPXPQnNq6"
      },
      "source": [
        "def sma(param,param2):\n",
        "  return df[df.columns[param2]].rolling(window=param).mean()\n",
        "\n",
        "def ema(param,param2):\n",
        "  return df[df.columns[param2]].ewm(span=param,adjust=False).mean()\n",
        "\n",
        "def smothing(param):\n",
        "  return 2/(param+1)\n",
        "\n",
        "def wma5(param,param2):\n",
        "  weights = np.arange(1,6)\n",
        "  return df[df.columns[param2]].rolling(5).apply(lambda prices: np.dot(prices, weights)/weights.sum(), raw=True)\n",
        "\n",
        "def wma7(param,param2):\n",
        "  weights = np.arange(1,8)\n",
        "  return df[df.columns[param2]].rolling(7).apply(lambda prices: np.dot(prices, weights)/weights.sum(), raw=True)\n",
        "\n",
        "def wma10(param,param2):\n",
        "  weights = np.arange(1,11)\n",
        "  return df[df.columns[param2]].rolling(10).apply(lambda prices: np.dot(prices, weights)/weights.sum(), raw=True)\n",
        "\n",
        "def wma14(param,param2):\n",
        "  weights = np.arange(1,15)\n",
        "  return df[df.columns[param2]].rolling(14).apply(lambda prices: np.dot(prices, weights)/weights.sum(), raw=True)\n",
        "\n",
        "def wma21(param,param2):\n",
        "  weights = np.arange(1,22)\n",
        "  return df[df.columns[param2]].rolling(21).apply(lambda prices: np.dot(prices, weights)/weights.sum(), raw=True)      \n",
        "\n",
        "def wma25(param,param2):\n",
        "  weights = np.arange(1,26)\n",
        "  return df[df.columns[param2]].rolling(25).apply(lambda prices: np.dot(prices, weights)/weights.sum(), raw=True)\n",
        "\n",
        "def wma50(param,param2):\n",
        "  weights = np.arange(1,51)\n",
        "  return df[df.columns[param2]].rolling(50).apply(lambda prices: np.dot(prices, weights)/weights.sum(), raw=True)\n",
        "\n",
        "def wma100(param,param2):\n",
        "  weights = np.arange(1,101)\n",
        "  return df[df.columns[param2]].rolling(100).apply(lambda prices: np.dot(prices, weights)/weights.sum(), raw=True)      \n"
      ],
      "execution_count": 19,
      "outputs": []
    },
    {
      "cell_type": "markdown",
      "metadata": {
        "id": "tJBVIodtu-Fr"
      },
      "source": [
        "# Execute MA Functions"
      ]
    },
    {
      "cell_type": "code",
      "metadata": {
        "id": "nKDf6KmF7ZO2"
      },
      "source": [
        "#@title Open\n"
      ],
      "execution_count": 20,
      "outputs": []
    },
    {
      "cell_type": "code",
      "metadata": {
        "id": "R9aAaFB2noV8"
      },
      "source": [
        "# 5 candel\n",
        "dfOpen  = df\n",
        "dfOpen.drop(columns=['high','low','close','volume'],inplace=True)\n",
        "dfOpen['openTime']=df.openTime\n",
        "dfOpen['open']=df.open\n",
        "dfOpen[\"O_SMA_5\"]=sma(5,1)\n",
        "# dfOpen[\"O_S_5\"]=smothing(5)\n",
        "dfOpen[\"O_EMA_5\"]=ema(5,1)\n",
        "dfOpen[\"O_WMA_5\"]=wma5(5,1)\n",
        "\n",
        "# 5 candel\n",
        "df[\"O_SMA_5\"]=sma(5,1)\n",
        "df[\"O_S_5\"]=smothing(5)\n",
        "df[\"O_EMA_5\"]=ema(5,1)\n",
        "df[\"O_WMA_5\"]=wma5(5,1)\n",
        "\n",
        "# 7 candel\n",
        "df[\"O_SMA_7\"]=sma(7,1)\n",
        "df[\"O_S_7\"]=smothing(7)\n",
        "df[\"O_EMA_7\"]=ema(7,1)\n",
        "df[\"O_WMA_7\"]=wma7(7,1)\n",
        "\n",
        "# 10 candel\n",
        "df[\"O_SMA_10\"]=sma(10,1)\n",
        "df[\"O_S_10\"]=smothing(10)\n",
        "df[\"O_EMA_10\"]=ema(10,1)\n",
        "df[\"O_WMA_10\"]=wma10(10,1)\n",
        "\n",
        "# 14 candel\n",
        "df[\"O_SMA_14\"]=sma(14,1)\n",
        "df[\"O_S_14\"]=smothing(14)\n",
        "df[\"O_EMA_14\"]=ema(14,1)\n",
        "df[\"O_WMA_14\"]=wma14(14,1)\n",
        "\n",
        "# 21 candel\n",
        "df[\"O_SMA_21\"]=sma(21,1)\n",
        "df[\"O_S_21\"]=smothing(21)\n",
        "df[\"O_EMA_21\"]=ema(21,1)\n",
        "df[\"O_WMA_21\"]=wma21(21,1)\n",
        "\n",
        "# 25 candel\n",
        "df[\"O_SMA_25\"]=sma(25,1)\n",
        "df[\"O_S_25\"]=smothing(25)\n",
        "df[\"O_EMA_25\"]=ema(25,1)\n",
        "df[\"O_WMA_25\"]=wma25(25,1)\n",
        "\n",
        "# 50 candel\n",
        "df[\"O_SMA_50\"]=sma(50,1)\n",
        "df[\"O_S_50\"]=smothing(50)\n",
        "df[\"O_EMA_50\"]=ema(50,1)\n",
        "df[\"O_WMA_50\"]=wma50(50,1)\n",
        "\n",
        "# 100 candel\n",
        "df[\"O_SMA_100\"]=sma(100,1)\n",
        "df[\"O_S_100\"]=smothing(100)\n",
        "df[\"O_EMA_100\"]=ema(100,1)\n",
        "df[\"O_WMA_100\"]=wma100(100,1)"
      ],
      "execution_count": 21,
      "outputs": []
    },
    {
      "cell_type": "code",
      "metadata": {
        "id": "xVf0jspm7_-k"
      },
      "source": [
        "#@title High"
      ],
      "execution_count": 22,
      "outputs": []
    },
    {
      "cell_type": "code",
      "metadata": {
        "id": "jYPwUtVa8Gqr"
      },
      "source": [
        "# 5 candel\n",
        "df[\"H_SMA_5\"]=sma(5,2)\n",
        "df[\"H_S_5\"]=smothing(5)\n",
        "df[\"H_EMA_5\"]=ema(5,2)\n",
        "df[\"H_WMA_5\"]=wma5(5,2)\n",
        "\n",
        "# 7 candel\n",
        "df[\"H_SMA_7\"]=sma(7,2)\n",
        "df[\"H_S_7\"]=smothing(7)\n",
        "df[\"H_EMA_7\"]=ema(7,2)\n",
        "df[\"H_WMA_7\"]=wma7(7,2)\n",
        "\n",
        "# 10 candel\n",
        "df[\"H_SMA_10\"]=sma(10,2)\n",
        "df[\"H_S_10\"]=smothing(10)\n",
        "df[\"H_EMA_10\"]=ema(10,2)\n",
        "df[\"H_WMA_10\"]=wma10(10,2)\n",
        "\n",
        "# 14 candel\n",
        "df[\"H_SMA_14\"]=sma(14,2)\n",
        "df[\"H_S_14\"]=smothing(14)\n",
        "df[\"H_EMA_14\"]=ema(14,2)\n",
        "df[\"H_WMA_14\"]=wma14(14,2)\n",
        "\n",
        "# 21 candel\n",
        "df[\"H_SMA_21\"]=sma(21,2)\n",
        "df[\"H_S_21\"]=smothing(21)\n",
        "df[\"H_EMA_21\"]=ema(21,2)\n",
        "df[\"H_WMA_21\"]=wma21(21,2)\n",
        "\n",
        "# 25 candel\n",
        "df[\"H_SMA_25\"]=sma(25,2)\n",
        "df[\"H_S_25\"]=smothing(25)\n",
        "df[\"H_EMA_25\"]=ema(25,2)\n",
        "df[\"H_WMA_25\"]=wma25(25,2)\n",
        "\n",
        "# 50 candel\n",
        "df[\"H_SMA_50\"]=sma(50,2)\n",
        "df[\"H_S_50\"]=smothing(50)\n",
        "df[\"H_EMA_50\"]=ema(50,2)\n",
        "df[\"H_WMA_50\"]=wma50(50,2)\n",
        "\n",
        "# 100 candel\n",
        "df[\"H_SMA_100\"]=sma(100,2)\n",
        "df[\"H_S_100\"]=smothing(100)\n",
        "df[\"H_EMA_100\"]=ema(100,2)\n",
        "df[\"H_WMA_100\"]=wma100(100,2)"
      ],
      "execution_count": 23,
      "outputs": []
    },
    {
      "cell_type": "code",
      "metadata": {
        "id": "CdFvqgww7_tu"
      },
      "source": [
        "#@title Low"
      ],
      "execution_count": 24,
      "outputs": []
    },
    {
      "cell_type": "code",
      "metadata": {
        "id": "3Il6w3Xe8MSb"
      },
      "source": [
        "# 5 candel\n",
        "df[\"L_SMA_5\"]=sma(5,3)\n",
        "df[\"L_S_5\"]=smothing(5)\n",
        "df[\"L_EMA_5\"]=ema(5,3)\n",
        "df[\"L_WMA_5\"]=wma5(5,3)\n",
        "\n",
        "# 7 candel\n",
        "df[\"L_SMA_7\"]=sma(7,3)\n",
        "df[\"L_S_7\"]=smothing(7)\n",
        "df[\"L_EMA_7\"]=ema(7,3)\n",
        "df[\"L_WMA_7\"]=wma7(7,3)\n",
        "\n",
        "# 10 candel\n",
        "df[\"L_SMA_10\"]=sma(10,3)\n",
        "df[\"L_S_10\"]=smothing(10)\n",
        "df[\"L_EMA_10\"]=ema(10,3)\n",
        "df[\"L_WMA_10\"]=wma10(10,3)\n",
        "\n",
        "# 14 candel\n",
        "df[\"L_SMA_14\"]=sma(14,3)\n",
        "df[\"L_S_14\"]=smothing(14)\n",
        "df[\"L_EMA_14\"]=ema(14,3)\n",
        "df[\"L_WMA_14\"]=wma14(14,3)\n",
        "\n",
        "# 21 candel\n",
        "df[\"L_SMA_21\"]=sma(21,3)\n",
        "df[\"L_S_21\"]=smothing(21)\n",
        "df[\"L_EMA_21\"]=ema(21,3)\n",
        "df[\"L_WMA_21\"]=wma21(21,3)\n",
        "\n",
        "# 25 candel\n",
        "df[\"L_SMA_25\"]=sma(25,3)\n",
        "df[\"L_S_25\"]=smothing(25)\n",
        "df[\"L_EMA_25\"]=ema(25,3)\n",
        "df[\"L_WMA_25\"]=wma25(25,3)\n",
        "\n",
        "# 50 candel\n",
        "df[\"L_SMA_50\"]=sma(50,3)\n",
        "df[\"L_S_50\"]=smothing(50)\n",
        "df[\"L_EMA_50\"]=ema(50,3)\n",
        "df[\"L_WMA_50\"]=wma50(50,3)\n",
        "\n",
        "# 100 candel\n",
        "df[\"L_SMA_100\"]=sma(100,3)\n",
        "df[\"L_S_100\"]=smothing(100)\n",
        "df[\"L_EMA_100\"]=ema(100,3)\n",
        "df[\"L_WMA_100\"]=wma100(100,3)"
      ],
      "execution_count": 25,
      "outputs": []
    },
    {
      "cell_type": "code",
      "metadata": {
        "id": "oRcxFHhH7BDJ"
      },
      "source": [
        "#@title Close\n"
      ],
      "execution_count": 26,
      "outputs": []
    },
    {
      "cell_type": "code",
      "metadata": {
        "id": "mJaThi_x7HGd"
      },
      "source": [
        "# 5 candel\n",
        "df[\"C_SMA_5\"]=sma(5,4)\n",
        "df[\"C_S_5\"]=smothing(5)\n",
        "df[\"C_EMA_5\"]=ema(5,4)\n",
        "df[\"C_WMA_5\"]=wma5(5,4)\n",
        "\n",
        "# 7 candel\n",
        "df[\"C_SMA_7\"]=sma(7,4)\n",
        "df[\"C_S_7\"]=smothing(7)\n",
        "df[\"C_EMA_7\"]=ema(7,4)\n",
        "df[\"C_WMA_7\"]=wma7(7,4)\n",
        "\n",
        "# 10 candel\n",
        "df[\"C_SMA_10\"]=sma(10,4)\n",
        "df[\"C_S_10\"]=smothing(10)\n",
        "df[\"C_EMA_10\"]=ema(10,4)\n",
        "df[\"C_WMA_10\"]=wma10(10,4)\n",
        "\n",
        "# 14 candel\n",
        "df[\"C_SMA_14\"]=sma(14,4)\n",
        "df[\"C_S_14\"]=smothing(14)\n",
        "df[\"C_EMA_14\"]=ema(14,4)\n",
        "df[\"C_WMA_14\"]=wma14(14,4)\n",
        "\n",
        "# 21 candel\n",
        "df[\"C_SMA_21\"]=sma(21,4)\n",
        "df[\"C_S_21\"]=smothing(21)\n",
        "df[\"C_EMA_21\"]=ema(21,4)\n",
        "df[\"C_WMA_21\"]=wma21(21,4)\n",
        "\n",
        "# 25 candel\n",
        "df[\"C_SMA_25\"]=sma(25,4)\n",
        "df[\"C_S_25\"]=smothing(25)\n",
        "df[\"C_EMA_25\"]=ema(25,4)\n",
        "df[\"C_WMA_25\"]=wma25(25,4)\n",
        "\n",
        "# 50 candel\n",
        "df[\"C_SMA_50\"]=sma(50,4)\n",
        "df[\"C_S_50\"]=smothing(50)\n",
        "df[\"C_EMA_50\"]=ema(50,4)\n",
        "df[\"C_WMA_50\"]=wma50(50,4)\n",
        "\n",
        "# 100 candel\n",
        "df[\"C_SMA_100\"]=sma(100,4)\n",
        "df[\"C_S_100\"]=smothing(100)\n",
        "df[\"C_EMA_100\"]=ema(100,4)\n",
        "df[\"C_WMA_100\"]=wma100(100,4)"
      ],
      "execution_count": 27,
      "outputs": []
    },
    {
      "cell_type": "code",
      "metadata": {
        "id": "O0XHod_Eb4nX"
      },
      "source": [
        "#@title save data frame to excel\n"
      ],
      "execution_count": 28,
      "outputs": []
    },
    {
      "cell_type": "code",
      "metadata": {
        "id": "C0zl7u4h-MQD",
        "colab": {
          "base_uri": "https://localhost:8080/"
        },
        "outputId": "d18558f9-40a9-42b7-9754-b762f72050b8"
      },
      "source": [
        "df.to_excel('ltc_1h.xlsx', sheet_name = 'New_sheet')\n",
        "print('saved successfully')"
      ],
      "execution_count": 29,
      "outputs": [
        {
          "output_type": "stream",
          "text": [
            "saved successfully\n"
          ],
          "name": "stdout"
        }
      ]
    },
    {
      "cell_type": "markdown",
      "metadata": {
        "id": "FmQLiar8xIix"
      },
      "source": [
        "# test data fram with excel"
      ]
    },
    {
      "cell_type": "code",
      "metadata": {
        "id": "aYRV--0nbo8P"
      },
      "source": [
        "# # 5 candel\n",
        "# dfOpen  = df\n",
        "# dfOpen.drop(columns=['high','low','close','volume'],inplace=True)\n",
        "# dfOpen['openTime']=df.openTime\n",
        "# dfOpen['open']=df.open\n",
        "# dfOpen[\"O_SMA_5\"]=sma(5,1)\n",
        "# dfOpen[\"O_EMA_5\"]=ema(5,1)\n",
        "# dfOpen[\"O_WMA_5\"]=wma5(5,1)\n"
      ],
      "execution_count": 30,
      "outputs": []
    },
    {
      "cell_type": "code",
      "metadata": {
        "id": "qbrps9ZKdsGF"
      },
      "source": [
        "# dfOpen.tail()"
      ],
      "execution_count": 31,
      "outputs": []
    },
    {
      "cell_type": "code",
      "metadata": {
        "id": "ZAQuauxDcIs3"
      },
      "source": [
        ""
      ],
      "execution_count": 31,
      "outputs": []
    }
  ]
}
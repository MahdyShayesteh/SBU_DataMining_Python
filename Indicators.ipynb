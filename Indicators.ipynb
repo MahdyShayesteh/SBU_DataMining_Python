{
  "nbformat": 4,
  "nbformat_minor": 0,
  "metadata": {
    "colab": {
      "name": "Indicators.ipynb",
      "provenance": [],
      "collapsed_sections": [],
      "toc_visible": true,
      "mount_file_id": "1m9vbRQRZJs6Fns-oP_DYUROw1W-KNRtE",
      "authorship_tag": "ABX9TyMBBGtK9e6ojbAlMrDFHnKb",
      "include_colab_link": true
    },
    "kernelspec": {
      "display_name": "Python 3",
      "name": "python3"
    },
    "language_info": {
      "name": "python"
    }
  },
  "cells": [
    {
      "cell_type": "markdown",
      "metadata": {
        "id": "view-in-github",
        "colab_type": "text"
      },
      "source": [
        "<a href=\"https://colab.research.google.com/github/mahhhdy/SBU_DataMining_Python/blob/main/Indicators.ipynb\" target=\"_parent\"><img src=\"https://colab.research.google.com/assets/colab-badge.svg\" alt=\"Open In Colab\"/></a>"
      ]
    },
    {
      "cell_type": "markdown",
      "metadata": {
        "id": "hIwOZuBf1J4C"
      },
      "source": [
        "# initialize libs"
      ]
    },
    {
      "cell_type": "code",
      "metadata": {
        "colab": {
          "base_uri": "https://localhost:8080/"
        },
        "id": "8iOGE22wk2yz",
        "outputId": "ae729348-918b-431d-94ef-9d5835c87e0d"
      },
      "source": [
        "import pandas as pd\n",
        "import numpy as np\n",
        "from google.colab import drive\n",
        "from datetime import datetime\n",
        "\n",
        "drive.mount('/content/drive')\n",
        "path='/content/drive/MyDrive/DataSets/LTC_1H.xlsx'\n",
        "\n",
        "df= pd.read_excel(path)"
      ],
      "execution_count": 71,
      "outputs": [
        {
          "output_type": "stream",
          "text": [
            "Drive already mounted at /content/drive; to attempt to forcibly remount, call drive.mount(\"/content/drive\", force_remount=True).\n"
          ],
          "name": "stdout"
        }
      ]
    },
    {
      "cell_type": "code",
      "metadata": {
        "id": "YYehH6JSx8Y1",
        "colab": {
          "base_uri": "https://localhost:8080/"
        },
        "outputId": "31023d28-7fc9-4216-d800-c71c57e86783"
      },
      "source": [
        "# df.columns\n",
        "# print(df.iloc[-1]['open'])\n",
        "# print(df['open'])\n",
        "# print(df['open'].tail())\n",
        "# for col in df.columns:\n",
        "#     print(col)\n",
        "\n",
        "# if(df.columns[1]=='open'):\n",
        "#   print(123)\n",
        "p3= 20\n",
        "p3=p3+1\n",
        "weights = np.arange(1,p3)\n",
        "weights"
      ],
      "execution_count": 72,
      "outputs": [
        {
          "output_type": "execute_result",
          "data": {
            "text/plain": [
              "array([ 1,  2,  3,  4,  5,  6,  7,  8,  9, 10, 11, 12, 13, 14, 15, 16, 17,\n",
              "       18, 19, 20])"
            ]
          },
          "metadata": {
            "tags": []
          },
          "execution_count": 72
        }
      ]
    },
    {
      "cell_type": "markdown",
      "metadata": {
        "id": "o2xZlxLk2XXY"
      },
      "source": [
        "#check for null value and there is not any null value"
      ]
    },
    {
      "cell_type": "code",
      "metadata": {
        "colab": {
          "base_uri": "https://localhost:8080/"
        },
        "id": "EXZLiLfMnMQ8",
        "outputId": "58bc95c0-f1ac-4035-820e-201f9449903f"
      },
      "source": [
        "df.isna().sum()"
      ],
      "execution_count": 73,
      "outputs": [
        {
          "output_type": "execute_result",
          "data": {
            "text/plain": [
              "openTime    0\n",
              "open        0\n",
              "high        0\n",
              "low         0\n",
              "close       0\n",
              "volume      0\n",
              "dtype: int64"
            ]
          },
          "metadata": {
            "tags": []
          },
          "execution_count": 73
        }
      ]
    },
    {
      "cell_type": "markdown",
      "metadata": {
        "id": "1ZX5iH7XpYAw"
      },
      "source": [
        "# cast timestamp column"
      ]
    },
    {
      "cell_type": "code",
      "metadata": {
        "id": "fF9VJEONpWX0"
      },
      "source": [
        "# change openTime column to string \n",
        "df.openTime = df.openTime.astype(str)\n",
        "\n",
        "# get substring of open time column\n",
        "df.openTime = df.openTime.str.slice(stop=10)"
      ],
      "execution_count": 74,
      "outputs": []
    },
    {
      "cell_type": "code",
      "metadata": {
        "id": "pltwYlQIpdVk"
      },
      "source": [
        "# cast timestamp column to date time \n",
        "df.openTime=pd.to_datetime(df.openTime,unit='s')"
      ],
      "execution_count": 75,
      "outputs": []
    },
    {
      "cell_type": "markdown",
      "metadata": {
        "id": "T1mwpqopuxwP"
      },
      "source": [
        "# Define MA Functions\n",
        "\n",
        "> param1 = count of candel\\\n",
        "> param2 = index of column dataframe\n",
        "\n",
        "\n"
      ]
    },
    {
      "cell_type": "code",
      "metadata": {
        "id": "xf2vPXPQnNq6"
      },
      "source": [
        "\n",
        "def sma(param,param2):\n",
        "  return df[df.columns[param2]].rolling(window=param).mean()\n",
        "\n",
        "def ema(param,param2):\n",
        "  return df[df.columns[param2]].ewm(span=param,adjust=False).mean()\n",
        "\n",
        "def smothing(param):\n",
        "  return 2/(param+1)\n",
        "\n",
        "def wma(param1,param2):\n",
        "  n3=param1+1\n",
        "  weights = np.arange(1,n3)\n",
        "  return df[df.columns[param2]].rolling(param1).apply(lambda prices: np.dot(prices, weights)/weights.sum(), raw=True)\n",
        "\n",
        "# def wma5(param,param2):\n",
        "#   weights = np.arange(1,6)\n",
        "#   return df[df.columns[param2]].rolling(5).apply(lambda prices: np.dot(prices, weights)/weights.sum(), raw=True)\n",
        "\n",
        "# def wma7(param,param2):\n",
        "#   weights = np.arange(1,8)\n",
        "#   return df[df.columns[param2]].rolling(7).apply(lambda prices: np.dot(prices, weights)/weights.sum(), raw=True)\n",
        "\n",
        "# def wma10(param,param2):\n",
        "#   weights = np.arange(1,11)\n",
        "#   return df[df.columns[param2]].rolling(10).apply(lambda prices: np.dot(prices, weights)/weights.sum(), raw=True)\n",
        "\n",
        "# def wma14(param,param2):\n",
        "#   weights = np.arange(1,15)\n",
        "#   return df[df.columns[param2]].rolling(14).apply(lambda prices: np.dot(prices, weights)/weights.sum(), raw=True)\n",
        "\n",
        "# def wma21(param,param2):\n",
        "#   weights = np.arange(1,22)\n",
        "#   return df[df.columns[param2]].rolling(21).apply(lambda prices: np.dot(prices, weights)/weights.sum(), raw=True)      \n",
        "\n",
        "# def wma25(param,param2):\n",
        "#   weights = np.arange(1,26)\n",
        "#   return df[df.columns[param2]].rolling(25).apply(lambda prices: np.dot(prices, weights)/weights.sum(), raw=True)\n",
        "\n",
        "# def wma50(param,param2):\n",
        "#   weights = np.arange(1,51)\n",
        "#   return df[df.columns[param2]].rolling(50).apply(lambda prices: np.dot(prices, weights)/weights.sum(), raw=True)\n",
        "\n",
        "# def wma100(param,param2):\n",
        "#   weights = np.arange(1,101)\n",
        "#   return df[df.columns[param2]].rolling(100).apply(lambda prices: np.dot(prices, weights)/weights.sum(), raw=True)      \n"
      ],
      "execution_count": 76,
      "outputs": []
    },
    {
      "cell_type": "code",
      "metadata": {
        "id": "fjoMgJutogKv"
      },
      "source": [
        "#@title save to excel function"
      ],
      "execution_count": 77,
      "outputs": []
    },
    {
      "cell_type": "code",
      "metadata": {
        "id": "gBsfPZDpprwV"
      },
      "source": [
        "def save_to_excel(data_fram,file_name,sheet_name):\n",
        "  # df.to_excel('ltc_1h.xlsx', sheet_name = 'New_sheet')\n",
        "  data_fram.to_excel(file_name+'.xlsx', sheet_name = sheet_name)\n",
        "  return print('saved successfully')"
      ],
      "execution_count": 78,
      "outputs": []
    },
    {
      "cell_type": "markdown",
      "metadata": {
        "id": "tJBVIodtu-Fr"
      },
      "source": [
        "# Execute MA Functions"
      ]
    },
    {
      "cell_type": "code",
      "metadata": {
        "id": "nKDf6KmF7ZO2"
      },
      "source": [
        "#@title Open\n"
      ],
      "execution_count": 79,
      "outputs": []
    },
    {
      "cell_type": "code",
      "metadata": {
        "id": "R9aAaFB2noV8"
      },
      "source": [
        "dfOpen  = df.copy()\n",
        "dfOpen.drop(columns=['high','low','close','volume'],inplace=True)\n",
        "dfOpen['openTime']=df.openTime\n",
        "dfOpen['open']=df.open\n",
        "\n",
        "# 5 candel\n",
        "dfOpen[\"SMA_5\"]=sma(5,1)\n",
        "# dfOpen[\"O_S_5\"]=smothing(5)\n",
        "dfOpen[\"EMA_5\"]=ema(5,1)\n",
        "dfOpen[\"WMA_5\"]=wma(5,1)\n",
        "\n",
        "# 7 candel\n",
        "dfOpen[\"SMA_7\"]=sma(7,1)\n",
        "# dfOpen[\"O_S_7\"]=smothing(7)\n",
        "dfOpen[\"EMA_7\"]=ema(7,1)\n",
        "dfOpen[\"WMA_7\"]=wma(7,1)\n",
        "\n",
        "# 10 candel\n",
        "dfOpen[\"SMA_10\"]=sma(10,1)\n",
        "# dfOpen[\"O_S_10\"]=smothing(10)\n",
        "dfOpen[\"EMA_10\"]=ema(10,1)\n",
        "dfOpen[\"WMA_10\"]=wma(10,1)\n",
        "\n",
        "# 14 candel\n",
        "dfOpen[\"SMA_14\"]=sma(14,1)\n",
        "# dfOpen[\"O_S_14\"]=smothing(14)\n",
        "dfOpen[\"EMA_14\"]=ema(14,1)\n",
        "dfOpen[\"WMA_14\"]=wma(14,1)\n",
        "\n",
        "# 21 candel\n",
        "dfOpen[\"SMA_21\"]=sma(21,1)\n",
        "# dfOpen[\"O_S_21\"]=smothing(21)\n",
        "dfOpen[\"EMA_21\"]=ema(21,1)\n",
        "dfOpen[\"WMA_21\"]=wma(21,1)\n",
        "\n",
        "# 25 candel\n",
        "dfOpen[\"SMA_25\"]=sma(25,1)\n",
        "# dfOpen[\"O_S_25\"]=smothing(25)\n",
        "dfOpen[\"EMA_25\"]=ema(25,1)\n",
        "dfOpen[\"WMA_25\"]=wma(25,1)\n",
        "\n",
        "# 50 candel\n",
        "dfOpen[\"SMA_50\"]=sma(50,1)\n",
        "# dfOpen[\"O_S_50\"]=smothing(50)\n",
        "dfOpen[\"EMA_50\"]=ema(50,1)\n",
        "dfOpen[\"WMA_50\"]=wma(50,1)\n",
        "\n",
        "# 100 candel\n",
        "dfOpen[\"SMA_100\"]=sma(100,1)\n",
        "# dfOpen[\"O_S_100\"]=smothing(100)\n",
        "dfOpen[\"EMA_100\"]=ema(100,1)\n",
        "dfOpen[\"WMA_100\"]=wma(100,1)\n",
        "\n",
        "# save_to_excel(dfOpen,'open','open')"
      ],
      "execution_count": 80,
      "outputs": []
    },
    {
      "cell_type": "code",
      "metadata": {
        "id": "xVf0jspm7_-k"
      },
      "source": [
        "#@title High"
      ],
      "execution_count": 81,
      "outputs": []
    },
    {
      "cell_type": "code",
      "metadata": {
        "id": "jYPwUtVa8Gqr",
        "colab": {
          "base_uri": "https://localhost:8080/"
        },
        "outputId": "8a93182f-480f-4dfd-ad71-fdc7889975e6"
      },
      "source": [
        "dfHigh  = df.copy()\n",
        "dfHigh.drop(columns=['open','low','close','volume'],inplace=True)\n",
        "dfHigh['openTime']=df.openTime\n",
        "dfHigh['high']=df.high\n",
        "\n",
        "# 5 candel\n",
        "dfHigh[\"SMA_5\"]=sma(5,2)\n",
        "# dfHigh[\"H_S_5\"]=smothing(5)\n",
        "dfHigh[\"EMA_5\"]=ema(5,2)\n",
        "dfHigh[\"WMA_5\"]=wma(5,2)\n",
        "\n",
        "# 7 candel\n",
        "dfHigh[\"SMA_7\"]=sma(7,2)\n",
        "# dfHigh[\"H_S_7\"]=smothing(7)\n",
        "dfHigh[\"EMA_7\"]=ema(7,2)\n",
        "dfHigh[\"WMA_7\"]=wma(7,2)\n",
        "\n",
        "# 10 candel\n",
        "dfHigh[\"SMA_10\"]=sma(10,2)\n",
        "# dfHigh[\"H_S_10\"]=smothing(10)\n",
        "dfHigh[\"EMA_10\"]=ema(10,2)\n",
        "dfHigh[\"WMA_10\"]=wma(10,2)\n",
        "\n",
        "# 14 candel\n",
        "dfHigh[\"SMA_14\"]=sma(14,2)\n",
        "# dfHigh[\"H_S_14\"]=smothing(14)\n",
        "dfHigh[\"EMA_14\"]=ema(14,2)\n",
        "dfHigh[\"WMA_14\"]=wma(14,2)\n",
        "\n",
        "# 21 candel\n",
        "dfHigh[\"SMA_21\"]=sma(21,2)\n",
        "# dfHigh[\"H_S_21\"]=smothing(21)\n",
        "dfHigh[\"EMA_21\"]=ema(21,2)\n",
        "dfHigh[\"WMA_21\"]=wma(21,2)\n",
        "\n",
        "# 25 candel\n",
        "dfHigh[\"SMA_25\"]=sma(25,2)\n",
        "# dfHigh[\"H_S_25\"]=smothing(25)\n",
        "dfHigh[\"EMA_25\"]=ema(25,2)\n",
        "dfHigh[\"WMA_25\"]=wma(25,2)\n",
        "\n",
        "# 50 candel\n",
        "dfHigh[\"SMA_50\"]=sma(50,2)\n",
        "# dfHigh[\"H_S_50\"]=smothing(50)\n",
        "dfHigh[\"EMA_50\"]=ema(50,2)\n",
        "dfHigh[\"WMA_50\"]=wma(50,2)\n",
        "\n",
        "# 100 candel\n",
        "dfHigh[\"SMA_100\"]=sma(100,2)\n",
        "# dfHigh[\"H_S_100\"]=smothing(100)\n",
        "dfHigh[\"EMA_100\"]=ema(100,2)\n",
        "dfHigh[\"WMA_100\"]=wma(100,2)\n",
        "\n",
        "save_to_excel(dfHigh,'high','high')"
      ],
      "execution_count": 82,
      "outputs": [
        {
          "output_type": "stream",
          "text": [
            "saved successfully\n"
          ],
          "name": "stdout"
        }
      ]
    },
    {
      "cell_type": "code",
      "metadata": {
        "id": "CdFvqgww7_tu"
      },
      "source": [
        "#@title Low"
      ],
      "execution_count": 83,
      "outputs": []
    },
    {
      "cell_type": "code",
      "metadata": {
        "id": "3Il6w3Xe8MSb",
        "colab": {
          "base_uri": "https://localhost:8080/"
        },
        "outputId": "10493f20-de5e-456b-c526-b656c6781e02"
      },
      "source": [
        "dfLow  = df.copy()\n",
        "dfLow.drop(columns=['open','high','close','volume'],inplace=True)\n",
        "dfLow['openTime']=df.openTime\n",
        "dfLow['low']=df.low\n",
        "\n",
        "# 5 candel\n",
        "dfLow[\"SMA_5\"]=sma(5,3)\n",
        "# dfLow[\"S_5\"]=smothing(5)\n",
        "dfLow[\"EMA_5\"]=ema(5,3)\n",
        "dfLow[\"WMA_5\"]=wma(5,3)\n",
        "\n",
        "# 7 candel\n",
        "dfLow[\"SMA_7\"]=sma(7,3)\n",
        "# dfLow[\"S_7\"]=smothing(7)\n",
        "dfLow[\"EMA_7\"]=ema(7,3)\n",
        "dfLow[\"WMA_7\"]=wma(7,3)\n",
        "\n",
        "# 10 candel\n",
        "dfLow[\"SMA_10\"]=sma(10,3)\n",
        "# dfLow[\"S_10\"]=smothing(10)\n",
        "dfLow[\"EMA_10\"]=ema(10,3)\n",
        "dfLow[\"WMA_10\"]=wma(10,3)\n",
        "\n",
        "# 14 candel\n",
        "dfLow[\"SMA_14\"]=sma(14,3)\n",
        "# dfLow[\"S_14\"]=smothing(14)\n",
        "dfLow[\"EMA_14\"]=ema(14,3)\n",
        "dfLow[\"WMA_14\"]=wma(14,3)\n",
        "\n",
        "# 21 candel\n",
        "dfLow[\"SMA_21\"]=sma(21,3)\n",
        "# dfLow[\"S_21\"]=smothing(21)\n",
        "dfLow[\"EMA_21\"]=ema(21,3)\n",
        "dfLow[\"WMA_21\"]=wma(21,3)\n",
        "\n",
        "# 25 dfLow\n",
        "dfLow[\"SMA_25\"]=sma(25,3)\n",
        "# dfLow[\"S_25\"]=smothing(25)\n",
        "dfLow[\"EMA_25\"]=ema(25,3)\n",
        "dfLow[\"WMA_25\"]=wma(25,3)\n",
        "\n",
        "# 50 candel\n",
        "dfLow[\"SMA_50\"]=sma(50,3)\n",
        "# dfLow[\"S_50\"]=smothing(50)\n",
        "dfLow[\"EMA_50\"]=ema(50,3)\n",
        "dfLow[\"WMA_50\"]=wma(50,3)\n",
        "\n",
        "# 100 candel\n",
        "dfLow[\"SMA_100\"]=sma(100,3)\n",
        "# dfLow[\"S_100\"]=smothing(100)\n",
        "dfLow[\"EMA_100\"]=ema(100,3)\n",
        "dfLow[\"WMA_100\"]=wma(100,3)\n",
        "\n",
        "save_to_excel(dfLow,'low','low')"
      ],
      "execution_count": 84,
      "outputs": [
        {
          "output_type": "stream",
          "text": [
            "saved successfully\n"
          ],
          "name": "stdout"
        }
      ]
    },
    {
      "cell_type": "code",
      "metadata": {
        "id": "oRcxFHhH7BDJ"
      },
      "source": [
        "#@title Close\n"
      ],
      "execution_count": 85,
      "outputs": []
    },
    {
      "cell_type": "code",
      "metadata": {
        "id": "mJaThi_x7HGd",
        "colab": {
          "base_uri": "https://localhost:8080/"
        },
        "outputId": "b2e29784-63fb-4ec6-9efb-be6fcc302802"
      },
      "source": [
        "dfClose  = df.copy()\n",
        "dfClose.drop(columns=['open','high','low','volume'],inplace=True)\n",
        "dfClose['openTime']=df.openTime\n",
        "dfClose['close']=df.close\n",
        "\n",
        "# 5 candel\n",
        "dfClose[\"SMA_5\"]=sma(5,4)\n",
        "# df[\"C_S_5\"]=smothing(5)\n",
        "dfClose[\"EMA_5\"]=ema(5,4)\n",
        "dfClose[\"WMA_5\"]=wma(5,4)\n",
        "\n",
        "# 7 candel\n",
        "dfClose[\"SMA_7\"]=sma(7,4)\n",
        "# df[\"C_S_7\"]=smothing(7)\n",
        "dfClose[\"EMA_7\"]=ema(7,4)\n",
        "dfClose[\"WMA_7\"]=wma(7,4)\n",
        "\n",
        "# 10 candel\n",
        "dfClose[\"SMA_10\"]=sma(10,4)\n",
        "# df[\"C_S_10\"]=smothing(10)\n",
        "dfClose[\"EMA_10\"]=ema(10,4)\n",
        "dfClose[\"WMA_10\"]=wma(10,4)\n",
        "\n",
        "# 14 candel\n",
        "dfClose[\"SMA_14\"]=sma(14,4)\n",
        "# df[\"C_S_14\"]=smothing(14)\n",
        "dfClose[\"EMA_14\"]=ema(14,4)\n",
        "dfClose[\"WMA_14\"]=wma(14,4)\n",
        "\n",
        "# 21 candel\n",
        "dfClose[\"SMA_21\"]=sma(21,4)\n",
        "# df[\"C_S_21\"]=smothing(21)\n",
        "dfClose[\"EMA_21\"]=ema(21,4)\n",
        "dfClose[\"WMA_21\"]=wma(21,4)\n",
        "\n",
        "# 25 candel\n",
        "dfClose[\"SMA_25\"]=sma(25,4)\n",
        "# df[\"C_S_25\"]=smothing(25)\n",
        "dfClose[\"EMA_25\"]=ema(25,4)\n",
        "dfClose[\"WMA_25\"]=wma(25,4)\n",
        "\n",
        "# 50 candel\n",
        "dfClose[\"SMA_50\"]=sma(50,4)\n",
        "# df[\"C_S_50\"]=smothing(50)\n",
        "dfClose[\"EMA_50\"]=ema(50,4)\n",
        "dfClose[\"WMA_50\"]=wma(50,4)\n",
        "\n",
        "# 100 candel\n",
        "dfClose[\"SMA_100\"]=sma(100,4)\n",
        "# df[\"C_S_100\"]=smothing(100)\n",
        "dfClose[\"EMA_100\"]=ema(100,4)\n",
        "dfClose[\"WMA_100\"]=wma(100,4)\n",
        "\n",
        "save_to_excel(dfClose,'close','close')"
      ],
      "execution_count": 86,
      "outputs": [
        {
          "output_type": "stream",
          "text": [
            "saved successfully\n"
          ],
          "name": "stdout"
        }
      ]
    },
    {
      "cell_type": "code",
      "metadata": {
        "colab": {
          "base_uri": "https://localhost:8080/"
        },
        "id": "Hvkrlr1isgi6",
        "outputId": "59fde28a-ed08-4de4-e43b-62d308be963d"
      },
      "source": [
        "# print(df.columns)\n",
        "print(dfOpen.columns)\n",
        "# print(dfHigh.columns)\n",
        "# print(dfLow.columns)\n",
        "# print(dfClose.columns)\n",
        "\n",
        "print(df.shape)\n",
        "print(dfOpen.shape)\n",
        "# print(dfHigh.shape)\n",
        "# print(dfLow.shape)\n",
        "# print(dfClose.shape)\n",
        "\n",
        "\n",
        "len_x=dfOpen.shape[1]\n",
        "len_y=dfOpen.shape[0]\n",
        "\n",
        "print(len_x)\n",
        "print(len_y)\n",
        "\n",
        "print(dfOpen.columns[1])"
      ],
      "execution_count": 87,
      "outputs": [
        {
          "output_type": "stream",
          "text": [
            "Index(['openTime', 'open', 'SMA_5', 'EMA_5', 'WMA_5', 'SMA_7', 'EMA_7',\n",
            "       'WMA_7', 'SMA_10', 'EMA_10', 'WMA_10', 'SMA_14', 'EMA_14', 'WMA_14',\n",
            "       'SMA_21', 'EMA_21', 'WMA_21', 'SMA_25', 'EMA_25', 'WMA_25', 'SMA_50',\n",
            "       'EMA_50', 'WMA_50', 'SMA_100', 'EMA_100', 'WMA_100'],\n",
            "      dtype='object')\n",
            "(9000, 6)\n",
            "(9000, 26)\n",
            "26\n",
            "9000\n",
            "open\n"
          ],
          "name": "stdout"
        }
      ]
    },
    {
      "cell_type": "code",
      "metadata": {
        "colab": {
          "base_uri": "https://localhost:8080/"
        },
        "id": "P5Uh1D0joD20",
        "outputId": "1092e0c6-7f52-46bb-9e24-8faa4555155c"
      },
      "source": [
        "print(dfLow.head())"
      ],
      "execution_count": 88,
      "outputs": [
        {
          "output_type": "stream",
          "text": [
            "             openTime    low   SMA_5  ...  SMA_100    EMA_100  WMA_100\n",
            "0 2020-04-06 23:00:00  44.24     NaN  ...      NaN  44.240000      NaN\n",
            "1 2020-04-07 00:00:00  44.90     NaN  ...      NaN  44.253069      NaN\n",
            "2 2020-04-07 01:00:00  45.49     NaN  ...      NaN  44.277563      NaN\n",
            "3 2020-04-07 02:00:00  44.84     NaN  ...      NaN  44.288700      NaN\n",
            "4 2020-04-07 03:00:00  44.87  44.868  ...      NaN  44.300211      NaN\n",
            "\n",
            "[5 rows x 26 columns]\n"
          ],
          "name": "stdout"
        }
      ]
    }
  ]
}
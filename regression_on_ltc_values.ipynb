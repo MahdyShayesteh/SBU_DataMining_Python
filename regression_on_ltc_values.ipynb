{
  "nbformat": 4,
  "nbformat_minor": 0,
  "metadata": {
    "colab": {
      "name": "regression on ltc values.ipynb",
      "provenance": [],
      "collapsed_sections": [],
      "authorship_tag": "ABX9TyPF8yB49nX+F2TYwz2yqtfp",
      "include_colab_link": true
    },
    "kernelspec": {
      "display_name": "Python 3",
      "name": "python3"
    },
    "language_info": {
      "name": "python"
    }
  },
  "cells": [
    {
      "cell_type": "markdown",
      "metadata": {
        "id": "view-in-github",
        "colab_type": "text"
      },
      "source": [
        "<a href=\"https://colab.research.google.com/github/mahhhdy/SBU_DataMining_Python/blob/main/regression_on_ltc_values.ipynb\" target=\"_parent\"><img src=\"https://colab.research.google.com/assets/colab-badge.svg\" alt=\"Open In Colab\"/></a>"
      ]
    },
    {
      "cell_type": "markdown",
      "metadata": {
        "id": "8DFdK9tyDmSu"
      },
      "source": [
        "#initial lib"
      ]
    },
    {
      "cell_type": "code",
      "metadata": {
        "colab": {
          "base_uri": "https://localhost:8080/"
        },
        "id": "aA8n8eqgDkpk",
        "outputId": "8b591f41-eacf-41d9-9905-72aecfbf72cb"
      },
      "source": [
        "import pandas as pd\n",
        "import numpy as np\n",
        "import matplotlib.pyplot as plt\n",
        "from datetime import datetime\n",
        "from google.colab import drive\n",
        "\n",
        "drive.mount('/content/drive')\n",
        "path='/content/drive/MyDrive/DataSets/LTC_1H.xlsx'\n",
        "\n",
        "df=pd.read_excel(path)"
      ],
      "execution_count": 50,
      "outputs": [
        {
          "output_type": "stream",
          "text": [
            "Drive already mounted at /content/drive; to attempt to forcibly remount, call drive.mount(\"/content/drive\", force_remount=True).\n"
          ],
          "name": "stdout"
        }
      ]
    },
    {
      "cell_type": "code",
      "metadata": {
        "colab": {
          "base_uri": "https://localhost:8080/"
        },
        "id": "tadNvsPWEJOj",
        "outputId": "e89a4ae4-bfea-4449-9a4b-a7886224939e"
      },
      "source": [
        "#@title Check for null value\n",
        "df.isnull().sum()"
      ],
      "execution_count": 51,
      "outputs": [
        {
          "output_type": "execute_result",
          "data": {
            "text/plain": [
              "openTime    0\n",
              "open        0\n",
              "high        0\n",
              "low         0\n",
              "close       0\n",
              "volume      0\n",
              "dtype: int64"
            ]
          },
          "metadata": {
            "tags": []
          },
          "execution_count": 51
        }
      ]
    },
    {
      "cell_type": "code",
      "metadata": {
        "id": "H-ytBWQOK421"
      },
      "source": [
        "#@title cast timestamp column\n",
        "\n",
        "# change openTime column to string \n",
        "df.openTime  = df.openTime.astype(str)\n",
        "\n",
        "# get substring of open time column\n",
        "df.openTime =  df.openTime.str.slice(stop=10)"
      ],
      "execution_count": 52,
      "outputs": []
    },
    {
      "cell_type": "code",
      "metadata": {
        "id": "9I8mIrVbLItV"
      },
      "source": [
        "df.openTime = pd.to_datetime(df.openTime,unit='s')"
      ],
      "execution_count": 53,
      "outputs": []
    },
    {
      "cell_type": "code",
      "metadata": {
        "id": "neXhYTOGL0kj"
      },
      "source": [
        ""
      ],
      "execution_count": 53,
      "outputs": []
    },
    {
      "cell_type": "code",
      "metadata": {
        "colab": {
          "base_uri": "https://localhost:8080/",
          "height": 204
        },
        "id": "eoPd6j1kE5rq",
        "outputId": "b9949c40-a012-4223-f9c5-61728f5f07c5"
      },
      "source": [
        "df['mean'] = (df.open+df.high+df.low+df.close)/4\n",
        "df.head()"
      ],
      "execution_count": 54,
      "outputs": [
        {
          "output_type": "execute_result",
          "data": {
            "text/html": [
              "<div>\n",
              "<style scoped>\n",
              "    .dataframe tbody tr th:only-of-type {\n",
              "        vertical-align: middle;\n",
              "    }\n",
              "\n",
              "    .dataframe tbody tr th {\n",
              "        vertical-align: top;\n",
              "    }\n",
              "\n",
              "    .dataframe thead th {\n",
              "        text-align: right;\n",
              "    }\n",
              "</style>\n",
              "<table border=\"1\" class=\"dataframe\">\n",
              "  <thead>\n",
              "    <tr style=\"text-align: right;\">\n",
              "      <th></th>\n",
              "      <th>openTime</th>\n",
              "      <th>open</th>\n",
              "      <th>high</th>\n",
              "      <th>low</th>\n",
              "      <th>close</th>\n",
              "      <th>volume</th>\n",
              "      <th>mean</th>\n",
              "    </tr>\n",
              "  </thead>\n",
              "  <tbody>\n",
              "    <tr>\n",
              "      <th>0</th>\n",
              "      <td>2020-04-06 23:00:00</td>\n",
              "      <td>44.41</td>\n",
              "      <td>45.09</td>\n",
              "      <td>44.24</td>\n",
              "      <td>45.04</td>\n",
              "      <td>36293.78372</td>\n",
              "      <td>44.6950</td>\n",
              "    </tr>\n",
              "    <tr>\n",
              "      <th>1</th>\n",
              "      <td>2020-04-07 00:00:00</td>\n",
              "      <td>45.03</td>\n",
              "      <td>46.06</td>\n",
              "      <td>44.90</td>\n",
              "      <td>45.51</td>\n",
              "      <td>74366.74566</td>\n",
              "      <td>45.3750</td>\n",
              "    </tr>\n",
              "    <tr>\n",
              "      <th>2</th>\n",
              "      <td>2020-04-07 01:00:00</td>\n",
              "      <td>45.49</td>\n",
              "      <td>46.29</td>\n",
              "      <td>45.49</td>\n",
              "      <td>45.62</td>\n",
              "      <td>38848.42165</td>\n",
              "      <td>45.7225</td>\n",
              "    </tr>\n",
              "    <tr>\n",
              "      <th>3</th>\n",
              "      <td>2020-04-07 02:00:00</td>\n",
              "      <td>45.62</td>\n",
              "      <td>45.77</td>\n",
              "      <td>44.84</td>\n",
              "      <td>45.15</td>\n",
              "      <td>30427.95046</td>\n",
              "      <td>45.3450</td>\n",
              "    </tr>\n",
              "    <tr>\n",
              "      <th>4</th>\n",
              "      <td>2020-04-07 03:00:00</td>\n",
              "      <td>45.13</td>\n",
              "      <td>45.70</td>\n",
              "      <td>44.87</td>\n",
              "      <td>45.65</td>\n",
              "      <td>21840.27801</td>\n",
              "      <td>45.3375</td>\n",
              "    </tr>\n",
              "  </tbody>\n",
              "</table>\n",
              "</div>"
            ],
            "text/plain": [
              "             openTime   open   high    low  close       volume     mean\n",
              "0 2020-04-06 23:00:00  44.41  45.09  44.24  45.04  36293.78372  44.6950\n",
              "1 2020-04-07 00:00:00  45.03  46.06  44.90  45.51  74366.74566  45.3750\n",
              "2 2020-04-07 01:00:00  45.49  46.29  45.49  45.62  38848.42165  45.7225\n",
              "3 2020-04-07 02:00:00  45.62  45.77  44.84  45.15  30427.95046  45.3450\n",
              "4 2020-04-07 03:00:00  45.13  45.70  44.87  45.65  21840.27801  45.3375"
            ]
          },
          "metadata": {
            "tags": []
          },
          "execution_count": 54
        }
      ]
    },
    {
      "cell_type": "code",
      "metadata": {
        "id": "BLAqKgCvHJk-"
      },
      "source": [
        "df1=df['mean'].iloc[2:6]"
      ],
      "execution_count": 55,
      "outputs": []
    },
    {
      "cell_type": "code",
      "metadata": {
        "id": "ZCfZNa4pKFPw"
      },
      "source": [
        ""
      ],
      "execution_count": 55,
      "outputs": []
    }
  ]
}
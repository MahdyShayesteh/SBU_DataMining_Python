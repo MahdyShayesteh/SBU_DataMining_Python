{
  "nbformat": 4,
  "nbformat_minor": 0,
  "metadata": {
    "colab": {
      "name": "Imbalance Class.ipynb",
      "provenance": [],
      "collapsed_sections": [],
      "toc_visible": true,
      "authorship_tag": "ABX9TyNoezQ3DRiC8pfl14LExDhO",
      "include_colab_link": true
    },
    "kernelspec": {
      "name": "python3",
      "display_name": "Python 3"
    },
    "language_info": {
      "name": "python"
    }
  },
  "cells": [
    {
      "cell_type": "markdown",
      "metadata": {
        "id": "view-in-github",
        "colab_type": "text"
      },
      "source": [
        "<a href=\"https://colab.research.google.com/github/mahhhdy/SBU_DataMining_Python/blob/main/Imbalance_Class.ipynb\" target=\"_parent\"><img src=\"https://colab.research.google.com/assets/colab-badge.svg\" alt=\"Open In Colab\"/></a>"
      ]
    },
    {
      "cell_type": "markdown",
      "metadata": {
        "id": "b1wTv52REHfr"
      },
      "source": [
        "# Initial lib"
      ]
    },
    {
      "cell_type": "code",
      "metadata": {
        "id": "dja84LsRCema"
      },
      "source": [
        "from collections import Counter\n",
        "from sklearn.datasets import make_classification\n",
        "from imblearn.under_sampling import RandomUnderSampler , RandomUnderSampler"
      ],
      "execution_count": 13,
      "outputs": []
    },
    {
      "cell_type": "markdown",
      "metadata": {
        "id": "GwPBdfIsEOa3"
      },
      "source": [
        "# define dataset"
      ]
    },
    {
      "cell_type": "code",
      "metadata": {
        "id": "rqAJ3blbDprm"
      },
      "source": [
        "X, y = make_classification(n_samples=10000, weights=[0.99], flip_y=0)"
      ],
      "execution_count": 14,
      "outputs": []
    },
    {
      "cell_type": "markdown",
      "metadata": {
        "id": "otYBKhKFERlf"
      },
      "source": [
        "# Under Sampling"
      ]
    },
    {
      "cell_type": "markdown",
      "metadata": {
        "id": "6GcEL2YxE4x4"
      },
      "source": [
        "*   summarize class distribution\n",
        "*   define undersample strategy\n",
        "*   fit and apply the transform\n",
        "*   summarize class distribution"
      ]
    },
    {
      "cell_type": "code",
      "metadata": {
        "colab": {
          "base_uri": "https://localhost:8080/"
        },
        "id": "ZK31SzlsD0tt",
        "outputId": "e294fe09-d0d8-4cb2-cc8a-9b50efd9bb3b"
      },
      "source": [
        "print(Counter(y))\n",
        "undersample = RandomUnderSampler(sampling_strategy='majority')\n",
        "X_over, y_over = undersample.fit_resample(X, y)\n",
        "print(Counter(y_over))"
      ],
      "execution_count": 15,
      "outputs": [
        {
          "output_type": "stream",
          "text": [
            "Counter({0: 9900, 1: 100})\n",
            "Counter({0: 100, 1: 100})\n"
          ],
          "name": "stdout"
        },
        {
          "output_type": "stream",
          "text": [
            "/usr/local/lib/python3.7/dist-packages/sklearn/utils/deprecation.py:87: FutureWarning: Function safe_indexing is deprecated; safe_indexing is deprecated in version 0.22 and will be removed in version 0.24.\n",
            "  warnings.warn(msg, category=FutureWarning)\n"
          ],
          "name": "stderr"
        }
      ]
    },
    {
      "cell_type": "markdown",
      "metadata": {
        "id": "yQ60mCg5FZy9"
      },
      "source": [
        "*   summarize class distribution\n",
        "*   define undersample strategy\n",
        "*   fit and apply the transform\n",
        "*   summarize class distribution"
      ]
    },
    {
      "cell_type": "markdown",
      "metadata": {
        "id": "KbJ1bbdhEVVq"
      },
      "source": [
        "# Over Sampling"
      ]
    },
    {
      "cell_type": "code",
      "metadata": {
        "colab": {
          "base_uri": "https://localhost:8080/"
        },
        "id": "3z_m6YmBD3YX",
        "outputId": "c83bbfdf-104b-46cf-cc26-a56b4b270940"
      },
      "source": [
        "print(Counter(y))\n",
        "oversample = RandomOverSampler(sampling_strategy='minority')\n",
        "X_over, y_over = oversample.fit_resample(X, y)\n",
        "print(Counter(y_over))"
      ],
      "execution_count": 16,
      "outputs": [
        {
          "output_type": "stream",
          "text": [
            "Counter({0: 9900, 1: 100})\n",
            "Counter({0: 9900, 1: 9900})\n"
          ],
          "name": "stdout"
        },
        {
          "output_type": "stream",
          "text": [
            "/usr/local/lib/python3.7/dist-packages/sklearn/utils/deprecation.py:87: FutureWarning: Function safe_indexing is deprecated; safe_indexing is deprecated in version 0.22 and will be removed in version 0.24.\n",
            "  warnings.warn(msg, category=FutureWarning)\n"
          ],
          "name": "stderr"
        }
      ]
    }
  ]
}
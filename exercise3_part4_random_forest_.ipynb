{
  "nbformat": 4,
  "nbformat_minor": 0,
  "metadata": {
    "colab": {
      "name": "exercise3_part4_random forest .ipynb",
      "provenance": [],
      "collapsed_sections": [],
      "toc_visible": true,
      "authorship_tag": "ABX9TyOy6YW5ziuhsTFxP029Jsrq",
      "include_colab_link": true
    },
    "kernelspec": {
      "display_name": "Python 3",
      "name": "python3"
    },
    "language_info": {
      "name": "python"
    }
  },
  "cells": [
    {
      "cell_type": "markdown",
      "metadata": {
        "id": "view-in-github",
        "colab_type": "text"
      },
      "source": [
        "<a href=\"https://colab.research.google.com/github/mahhhdy/SBU_DataMining_Python/blob/main/exercise3_part4_random_forest_.ipynb\" target=\"_parent\"><img src=\"https://colab.research.google.com/assets/colab-badge.svg\" alt=\"Open In Colab\"/></a>"
      ]
    },
    {
      "cell_type": "markdown",
      "metadata": {
        "id": "Ckq2w4HGD9MV"
      },
      "source": [
        "*   initial libs and check for missing values\n",
        "*   reverse ordering of dataFrame rows and reset index\n",
        "*   convert date column format\n",
        "*   Visualizing bitcoin data\n",
        "*   building random forest mode"
      ]
    },
    {
      "cell_type": "markdown",
      "metadata": {
        "id": "UIP0zn8qeAUI"
      },
      "source": [
        "# initial libs and check for missing values"
      ]
    },
    {
      "cell_type": "code",
      "metadata": {
        "colab": {
          "base_uri": "https://localhost:8080/"
        },
        "id": "NWYfBtiAdaOI",
        "outputId": "69ef213e-619d-4a7b-abf0-79f21f458e50"
      },
      "source": [
        "import pandas as pd\n",
        "import numpy as np\n",
        "import seaborn as sns\n",
        "import matplotlib.pyplot as plt\n",
        "from google.colab import drive\n",
        "from datetime import datetime\n",
        "from sklearn.model_selection import train_test_split\n",
        "from sklearn.ensemble import RandomForestRegressor\n",
        "from sklearn import preprocessing\n",
        "\n",
        "plt.style.use('seaborn-darkgrid')\n",
        "drive.mount('/content/drive')\n",
        "path='/content/drive/MyDrive/DataSets/BitcoinHistoricalDataInvesting.csv'\n",
        "\n",
        "df=pd.read_csv(path)"
      ],
      "execution_count": 150,
      "outputs": [
        {
          "output_type": "stream",
          "text": [
            "Drive already mounted at /content/drive; to attempt to forcibly remount, call drive.mount(\"/content/drive\", force_remount=True).\n"
          ],
          "name": "stdout"
        }
      ]
    },
    {
      "cell_type": "code",
      "metadata": {
        "colab": {
          "base_uri": "https://localhost:8080/"
        },
        "id": "SqGRmAV_Bf3M",
        "outputId": "72f546a8-b4cf-48fc-8e48-feaca3495e42"
      },
      "source": [
        "df.isnull().any()"
      ],
      "execution_count": 151,
      "outputs": [
        {
          "output_type": "execute_result",
          "data": {
            "text/plain": [
              "Date        False\n",
              "Price       False\n",
              "Open        False\n",
              "High        False\n",
              "Low         False\n",
              "Vol.        False\n",
              "Change %    False\n",
              "dtype: bool"
            ]
          },
          "metadata": {
            "tags": []
          },
          "execution_count": 151
        }
      ]
    },
    {
      "cell_type": "markdown",
      "metadata": {
        "id": "kpWKWGbUMAeA"
      },
      "source": [
        "# reverse ordering of dataFrame rows and reset index"
      ]
    },
    {
      "cell_type": "code",
      "metadata": {
        "id": "izTwMdlcLT9x"
      },
      "source": [
        "df = df[::-1].reset_index(drop = True) "
      ],
      "execution_count": 152,
      "outputs": []
    },
    {
      "cell_type": "markdown",
      "metadata": {
        "id": "3utsEzMspbzR"
      },
      "source": [
        "# convert date column format"
      ]
    },
    {
      "cell_type": "code",
      "metadata": {
        "id": "WOcEP8L2fCGt"
      },
      "source": [
        "df['Date']= df['Date'].apply(lambda x: datetime.strptime(x, '%b %d, %Y').strftime('%Y-%m-%d'))"
      ],
      "execution_count": 153,
      "outputs": []
    },
    {
      "cell_type": "code",
      "metadata": {
        "colab": {
          "base_uri": "https://localhost:8080/",
          "height": 204
        },
        "id": "11_JbyQjgo_a",
        "outputId": "114e9d3b-0ac0-4f6f-9b4f-5cc95a20f950"
      },
      "source": [
        "df.rename({'Price':'Close'}, axis=1 , inplace=True)\n",
        "btc = df.copy()\n",
        "btc.drop(['Date','Vol.','Change %'], axis=1 , inplace=True)\n",
        "btc.head()"
      ],
      "execution_count": 154,
      "outputs": [
        {
          "output_type": "execute_result",
          "data": {
            "text/html": [
              "<div>\n",
              "<style scoped>\n",
              "    .dataframe tbody tr th:only-of-type {\n",
              "        vertical-align: middle;\n",
              "    }\n",
              "\n",
              "    .dataframe tbody tr th {\n",
              "        vertical-align: top;\n",
              "    }\n",
              "\n",
              "    .dataframe thead th {\n",
              "        text-align: right;\n",
              "    }\n",
              "</style>\n",
              "<table border=\"1\" class=\"dataframe\">\n",
              "  <thead>\n",
              "    <tr style=\"text-align: right;\">\n",
              "      <th></th>\n",
              "      <th>Close</th>\n",
              "      <th>Open</th>\n",
              "      <th>High</th>\n",
              "      <th>Low</th>\n",
              "    </tr>\n",
              "  </thead>\n",
              "  <tbody>\n",
              "    <tr>\n",
              "      <th>0</th>\n",
              "      <td>0.1</td>\n",
              "      <td>0.0</td>\n",
              "      <td>0.1</td>\n",
              "      <td>0.1</td>\n",
              "    </tr>\n",
              "    <tr>\n",
              "      <th>1</th>\n",
              "      <td>0.1</td>\n",
              "      <td>0.1</td>\n",
              "      <td>0.1</td>\n",
              "      <td>0.1</td>\n",
              "    </tr>\n",
              "    <tr>\n",
              "      <th>2</th>\n",
              "      <td>0.1</td>\n",
              "      <td>0.1</td>\n",
              "      <td>0.1</td>\n",
              "      <td>0.1</td>\n",
              "    </tr>\n",
              "    <tr>\n",
              "      <th>3</th>\n",
              "      <td>0.1</td>\n",
              "      <td>0.1</td>\n",
              "      <td>0.1</td>\n",
              "      <td>0.1</td>\n",
              "    </tr>\n",
              "    <tr>\n",
              "      <th>4</th>\n",
              "      <td>0.1</td>\n",
              "      <td>0.1</td>\n",
              "      <td>0.1</td>\n",
              "      <td>0.1</td>\n",
              "    </tr>\n",
              "  </tbody>\n",
              "</table>\n",
              "</div>"
            ],
            "text/plain": [
              "   Close  Open  High  Low\n",
              "0    0.1   0.0   0.1  0.1\n",
              "1    0.1   0.1   0.1  0.1\n",
              "2    0.1   0.1   0.1  0.1\n",
              "3    0.1   0.1   0.1  0.1\n",
              "4    0.1   0.1   0.1  0.1"
            ]
          },
          "metadata": {
            "tags": []
          },
          "execution_count": 154
        }
      ]
    },
    {
      "cell_type": "code",
      "metadata": {
        "colab": {
          "base_uri": "https://localhost:8080/"
        },
        "id": "m6Zjm7bKc6sG",
        "outputId": "1d0db83a-5503-4d91-b349-9183af2a78c6"
      },
      "source": [
        "btc.shape"
      ],
      "execution_count": 155,
      "outputs": [
        {
          "output_type": "execute_result",
          "data": {
            "text/plain": [
              "(3941, 4)"
            ]
          },
          "metadata": {
            "tags": []
          },
          "execution_count": 155
        }
      ]
    },
    {
      "cell_type": "markdown",
      "metadata": {
        "id": "QyaCZSQiCpHn"
      },
      "source": [
        "# Visualizing bitcoin data"
      ]
    },
    {
      "cell_type": "code",
      "metadata": {
        "colab": {
          "base_uri": "https://localhost:8080/",
          "height": 394
        },
        "id": "WJMc-nqKd5Iy",
        "outputId": "40684132-f531-44c0-f218-f6535eb5c4e9"
      },
      "source": [
        "sns.set()\n",
        "sns.set_style('whitegrid')\n",
        "btc['Close'].plot(figsize=(12,6),label='Close')\n",
        "# btc['Close'].rolling(window=100).mean().plot(label='30 Day Avg')\n",
        "plt.legend()"
      ],
      "execution_count": 156,
      "outputs": [
        {
          "output_type": "execute_result",
          "data": {
            "text/plain": [
              "<matplotlib.legend.Legend at 0x7f29ded81590>"
            ]
          },
          "metadata": {
            "tags": []
          },
          "execution_count": 156
        },
        {
          "output_type": "display_data",
          "data": {
            "image/png": "[encoded data removed]",
            "text/plain": [
              "<Figure size 864x432 with 1 Axes>"
            ]
          },
          "metadata": {
            "tags": []
          }
        }
      ]
    },
    {
      "cell_type": "markdown",
      "metadata": {
        "id": "XoOzKu8PCz1p"
      },
      "source": [
        "Add one feature to average 4 kandel price"
      ]
    },
    {
      "cell_type": "code",
      "metadata": {
        "id": "2FyuiCQg9bDm"
      },
      "source": [
        "btc['ohlc_average'] = (btc['Open'] + btc['High'] + btc['Low'] + btc['Close']) / 4"
      ],
      "execution_count": 157,
      "outputs": []
    },
    {
      "cell_type": "code",
      "metadata": {
        "id": "XbcvwsR29n0z"
      },
      "source": [
        "btc['Price_After_Month']=btc['Close'].shift(-30)"
      ],
      "execution_count": 158,
      "outputs": []
    },
    {
      "cell_type": "markdown",
      "metadata": {
        "id": "olyaBXH5D12t"
      },
      "source": [
        "# building random forest model"
      ]
    },
    {
      "cell_type": "code",
      "metadata": {
        "id": "aqa3wQ079qjn"
      },
      "source": [
        "from sklearn import preprocessing\n",
        "btc.dropna(inplace=True)\n",
        "X=btc.drop('Price_After_Month',axis=1)\n",
        "X=preprocessing.scale(X)\n",
        "y=btc['Price_After_Month']"
      ],
      "execution_count": 159,
      "outputs": []
    },
    {
      "cell_type": "code",
      "metadata": {
        "id": "v3ZvM_DhBP6A"
      },
      "source": [
        "X_train,X_test,y_train,y_test=train_test_split(X,y,test_size=0.3,random_state=101)"
      ],
      "execution_count": 160,
      "outputs": []
    },
    {
      "cell_type": "markdown",
      "metadata": {
        "id": "3d3T8FFXDrS1"
      },
      "source": [
        "This percentage shows how much our regression fits our data"
      ]
    },
    {
      "cell_type": "code",
      "metadata": {
        "colab": {
          "base_uri": "https://localhost:8080/"
        },
        "id": "r_mGeA6R993W",
        "outputId": "f64a1d2a-fcce-4cf2-c950-da955ed6e287"
      },
      "source": [
        "reg=RandomForestRegressor(n_estimators=200,random_state=101)\n",
        "reg.fit(X_train,y_train)\n",
        "accuracy=reg.score(X_test,y_test)\n",
        "accuracy=accuracy*100\n",
        "accuracy = float(\"{0:.4f}\".format(accuracy))\n",
        "print('Accuracy is:',accuracy,'%')"
      ],
      "execution_count": 161,
      "outputs": [
        {
          "output_type": "stream",
          "text": [
            "Accuracy is: 96.3264 %\n"
          ],
          "name": "stdout"
        }
      ]
    }
  ]
}
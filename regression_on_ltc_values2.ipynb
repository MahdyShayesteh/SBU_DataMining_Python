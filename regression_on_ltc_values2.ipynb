{
  "nbformat": 4,
  "nbformat_minor": 0,
  "metadata": {
    "colab": {
      "name": "regression on ltc values2.ipynb",
      "provenance": [],
      "collapsed_sections": [
        "8DFdK9tyDmSu",
        "6Ne3uNwc35o2",
        "zbKMZu9R3zbP",
        "ZGcTHTu54CfV",
        "BCIziX0F4LK1"
      ],
      "toc_visible": true,
      "authorship_tag": "ABX9TyNqx4os2A5exkLSvjf2yB04",
      "include_colab_link": true
    },
    "kernelspec": {
      "display_name": "Python 3",
      "name": "python3"
    },
    "language_info": {
      "name": "python"
    }
  },
  "cells": [
    {
      "cell_type": "markdown",
      "metadata": {
        "id": "view-in-github",
        "colab_type": "text"
      },
      "source": [
        "<a href=\"https://colab.research.google.com/github/mahhhdy/SBU_DataMining_Python/blob/main/regression_on_ltc_values2.ipynb\" target=\"_parent\"><img src=\"https://colab.research.google.com/assets/colab-badge.svg\" alt=\"Open In Colab\"/></a>"
      ]
    },
    {
      "cell_type": "markdown",
      "metadata": {
        "id": "8DFdK9tyDmSu"
      },
      "source": [
        "#initial lib"
      ]
    },
    {
      "cell_type": "code",
      "metadata": {
        "colab": {
          "base_uri": "https://localhost:8080/"
        },
        "id": "aA8n8eqgDkpk",
        "outputId": "0dcf208d-594f-4fb5-e9d2-1183a95b6317"
      },
      "source": [
        "import pandas as pd\n",
        "import numpy as np\n",
        "import matplotlib.pyplot as plt\n",
        "import seaborn as sns\n",
        "from datetime import datetime\n",
        "from google.colab import drive\n",
        "from sklearn.linear_model import LinearRegression\n",
        "from sklearn import metrics\n",
        "\n",
        "drive.mount('/content/drive')\n",
        "path='/content/drive/MyDrive/DataSets/LTC_1H.xlsx'\n",
        "\n",
        "df=pd.read_excel(path)"
      ],
      "execution_count": 246,
      "outputs": [
        {
          "output_type": "stream",
          "text": [
            "Drive already mounted at /content/drive; to attempt to forcibly remount, call drive.mount(\"/content/drive\", force_remount=True).\n"
          ],
          "name": "stdout"
        }
      ]
    },
    {
      "cell_type": "markdown",
      "metadata": {
        "id": "6Ne3uNwc35o2"
      },
      "source": [
        "# Check for null value"
      ]
    },
    {
      "cell_type": "code",
      "metadata": {
        "colab": {
          "base_uri": "https://localhost:8080/"
        },
        "id": "tadNvsPWEJOj",
        "outputId": "a9d49d7f-1ed0-421c-bc08-a7c5aaea0017"
      },
      "source": [
        "df.isnull().sum()"
      ],
      "execution_count": 247,
      "outputs": [
        {
          "output_type": "execute_result",
          "data": {
            "text/plain": [
              "openTime    0\n",
              "open        0\n",
              "high        0\n",
              "low         0\n",
              "close       0\n",
              "volume      0\n",
              "dtype: int64"
            ]
          },
          "metadata": {
            "tags": []
          },
          "execution_count": 247
        }
      ]
    },
    {
      "cell_type": "markdown",
      "metadata": {
        "id": "zbKMZu9R3zbP"
      },
      "source": [
        "# cast timestamp column"
      ]
    },
    {
      "cell_type": "code",
      "metadata": {
        "id": "H-ytBWQOK421"
      },
      "source": [
        "# change openTime column to string \n",
        "df.openTime  = df.openTime.astype(str)\n",
        "\n",
        "# get substring of open time column\n",
        "df.openTime =  df.openTime.str.slice(stop=10)"
      ],
      "execution_count": 248,
      "outputs": []
    },
    {
      "cell_type": "code",
      "metadata": {
        "id": "9I8mIrVbLItV"
      },
      "source": [
        "df.openTime = pd.to_datetime(df.openTime,unit='s')"
      ],
      "execution_count": 249,
      "outputs": []
    },
    {
      "cell_type": "markdown",
      "metadata": {
        "id": "XYu6bcdI4p1L"
      },
      "source": [
        "# set length of data"
      ]
    },
    {
      "cell_type": "code",
      "metadata": {
        "id": "9hR6kzAk4pLk"
      },
      "source": [
        "m=20"
      ],
      "execution_count": 250,
      "outputs": []
    },
    {
      "cell_type": "markdown",
      "metadata": {
        "id": "ZGcTHTu54CfV"
      },
      "source": [
        "# plot data"
      ]
    },
    {
      "cell_type": "code",
      "metadata": {
        "id": "eoPd6j1kE5rq"
      },
      "source": [
        "df['ind'] = df.index\n",
        "df['mean'] = (df.open+df.high+df.low+df.close)/4\n",
        "columns=['open','close','high','low','volume','openTime']\n",
        "df.drop(columns,axis=1,inplace=True)"
      ],
      "execution_count": 251,
      "outputs": []
    },
    {
      "cell_type": "code",
      "metadata": {
        "colab": {
          "base_uri": "https://localhost:8080/",
          "height": 0
        },
        "id": "q8PSVY7RMK7Z",
        "outputId": "5e5ea7db-16f1-42d5-9032-58a3130b2405"
      },
      "source": [
        "\n",
        "x=df['ind'].tail(m).values\n",
        "y=df['mean'].tail(m).values\n",
        "\n",
        "plt.plot(x,y,'.')"
      ],
      "execution_count": 252,
      "outputs": [
        {
          "output_type": "execute_result",
          "data": {
            "text/plain": [
              "[<matplotlib.lines.Line2D at 0x7f2f5e79c050>]"
            ]
          },
          "metadata": {
            "tags": []
          },
          "execution_count": 252
        },
        {
          "output_type": "display_data",
          "data": {
            "image/png": "[encoded data removed]",
            "text/plain": [
              "<Figure size 432x288 with 1 Axes>"
            ]
          },
          "metadata": {
            "tags": [],
            "needs_background": "light"
          }
        }
      ]
    },
    {
      "cell_type": "markdown",
      "metadata": {
        "id": "BCIziX0F4LK1"
      },
      "source": [
        "# Regression"
      ]
    },
    {
      "cell_type": "code",
      "metadata": {
        "colab": {
          "base_uri": "https://localhost:8080/"
        },
        "id": "n00Z1ndlj1sH",
        "outputId": "bb74cd36-bb4a-4cee-df9a-90393eecf035"
      },
      "source": [
        "regressor = LinearRegression()\n",
        "x=x.reshape(-1,1)\n",
        "y=y.reshape(-1,1)\n",
        "regressor.fit(x,y)"
      ],
      "execution_count": 253,
      "outputs": [
        {
          "output_type": "execute_result",
          "data": {
            "text/plain": [
              "LinearRegression(copy_X=True, fit_intercept=True, n_jobs=None, normalize=False)"
            ]
          },
          "metadata": {
            "tags": []
          },
          "execution_count": 253
        }
      ]
    },
    {
      "cell_type": "code",
      "metadata": {
        "colab": {
          "base_uri": "https://localhost:8080/"
        },
        "id": "1KYe26uFoiqJ",
        "outputId": "41261fb1-4ad1-4867-dd1f-c6bb03fd32f3"
      },
      "source": [
        "print('weight: ',regressor.coef_)\n",
        "print('y_axis: ',regressor.intercept_)"
      ],
      "execution_count": 254,
      "outputs": [
        {
          "output_type": "stream",
          "text": [
            "weight:  [[1.49520301]]\n",
            "y_axis:  [-13125.30318609]\n"
          ],
          "name": "stdout"
        }
      ]
    },
    {
      "cell_type": "code",
      "metadata": {
        "id": "N3pUWnPqovVT"
      },
      "source": [
        "min_pt = x.min() * regressor.coef_[0] + regressor.intercept_\n",
        "max_pt = x.max() * regressor.coef_[0] + regressor.intercept_\n",
        "\n",
        "b1=regressor.coef_\n",
        "b0=regressor.intercept_\n",
        "\n",
        "max_n =  0\n",
        "abs_vale=0\n",
        "rmse = 0\n",
        "for i in range(m):\n",
        "    y_pred = b0 + b1 * x[i]\n",
        "    abs_value= abs(y[i] - y_pred)\n",
        "    if(abs_value>max_n):\n",
        "      max_n = abs_value\n",
        "\n",
        "\n",
        "min1=min_pt+max_n\n",
        "max1=max_pt+max_n\n",
        "min2=min_pt-max_n\n",
        "max2=max_pt-max_n\n",
        "\n",
        "min1=min1.reshape(-1,)\n",
        "max1=max1.reshape(-1,)\n",
        "min2=min2.reshape(-1,)\n",
        "max2=max2.reshape(-1,)"
      ],
      "execution_count": 255,
      "outputs": []
    },
    {
      "cell_type": "markdown",
      "metadata": {
        "id": "x_DAJKRu4aes"
      },
      "source": [
        "# plot Regression channel"
      ]
    },
    {
      "cell_type": "code",
      "metadata": {
        "colab": {
          "base_uri": "https://localhost:8080/",
          "height": 282
        },
        "id": "7czlSaT44asq",
        "outputId": "dfd62fa8-c9fd-4337-e376-e2c33a23a583"
      },
      "source": [
        "plt.plot([x.min(),x.max()],[min_pt,max_pt])\n",
        "plt.plot([x.min(),x.max()],[min1,max1])\n",
        "plt.plot([x.min(),x.max()],[min2,max2])\n",
        "plt.plot(x,y,'.')"
      ],
      "execution_count": 256,
      "outputs": [
        {
          "output_type": "execute_result",
          "data": {
            "text/plain": [
              "[<matplotlib.lines.Line2D at 0x7f2f5e453850>]"
            ]
          },
          "metadata": {
            "tags": []
          },
          "execution_count": 256
        },
        {
          "output_type": "display_data",
          "data": {
            "image/png": "[encoded data removed]",
            "text/plain": [
              "<Figure size 432x288 with 1 Axes>"
            ]
          },
          "metadata": {
            "tags": [],
            "needs_background": "light"
          }
        }
      ]
    }
  ]
}
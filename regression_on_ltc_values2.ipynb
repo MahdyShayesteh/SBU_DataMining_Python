{
  "nbformat": 4,
  "nbformat_minor": 0,
  "metadata": {
    "colab": {
      "name": "regression on ltc values2.ipynb",
      "provenance": [],
      "collapsed_sections": [],
      "toc_visible": true,
      "authorship_tag": "ABX9TyPzq8qmd8rrX3/evABLsUFZ",
      "include_colab_link": true
    },
    "kernelspec": {
      "display_name": "Python 3",
      "name": "python3"
    },
    "language_info": {
      "name": "python"
    }
  },
  "cells": [
    {
      "cell_type": "markdown",
      "metadata": {
        "id": "view-in-github",
        "colab_type": "text"
      },
      "source": [
        "<a href=\"https://colab.research.google.com/github/mahhhdy/SBU_DataMining_Python/blob/main/regression_on_ltc_values2.ipynb\" target=\"_parent\"><img src=\"https://colab.research.google.com/assets/colab-badge.svg\" alt=\"Open In Colab\"/></a>"
      ]
    },
    {
      "cell_type": "markdown",
      "metadata": {
        "id": "8DFdK9tyDmSu"
      },
      "source": [
        "#initial lib"
      ]
    },
    {
      "cell_type": "code",
      "metadata": {
        "colab": {
          "base_uri": "https://localhost:8080/"
        },
        "id": "aA8n8eqgDkpk",
        "outputId": "5683d179-181a-4644-dd64-1658193d88a7"
      },
      "source": [
        "import pandas as pd\n",
        "import numpy as np\n",
        "import matplotlib.pyplot as plt\n",
        "import seaborn as sns\n",
        "from datetime import datetime\n",
        "from google.colab import drive\n",
        "# import statsmodels.api as sm\n",
        "# from statsmodels.formula.api import ols\n",
        "# from statsmodels.sandbox.regression.predstd import wls_prediction_std\n",
        "\n",
        "drive.mount('/content/drive')\n",
        "path='/content/drive/MyDrive/DataSets/LTC_1H.xlsx'\n",
        "\n",
        "df=pd.read_excel(path)"
      ],
      "execution_count": 93,
      "outputs": [
        {
          "output_type": "stream",
          "text": [
            "Drive already mounted at /content/drive; to attempt to forcibly remount, call drive.mount(\"/content/drive\", force_remount=True).\n"
          ],
          "name": "stdout"
        }
      ]
    },
    {
      "cell_type": "code",
      "metadata": {
        "colab": {
          "base_uri": "https://localhost:8080/"
        },
        "id": "tadNvsPWEJOj",
        "outputId": "00ec38bb-1e0d-4385-88a4-0340bb5b289e"
      },
      "source": [
        "#@title Check for null value\n",
        "df.isnull().sum()"
      ],
      "execution_count": 94,
      "outputs": [
        {
          "output_type": "execute_result",
          "data": {
            "text/plain": [
              "openTime    0\n",
              "open        0\n",
              "high        0\n",
              "low         0\n",
              "close       0\n",
              "volume      0\n",
              "dtype: int64"
            ]
          },
          "metadata": {
            "tags": []
          },
          "execution_count": 94
        }
      ]
    },
    {
      "cell_type": "code",
      "metadata": {
        "id": "H-ytBWQOK421"
      },
      "source": [
        "#@title cast timestamp column\n",
        "\n",
        "# change openTime column to string \n",
        "df.openTime  = df.openTime.astype(str)\n",
        "\n",
        "# get substring of open time column\n",
        "df.openTime =  df.openTime.str.slice(stop=10)"
      ],
      "execution_count": 95,
      "outputs": []
    },
    {
      "cell_type": "code",
      "metadata": {
        "id": "9I8mIrVbLItV"
      },
      "source": [
        "df.openTime = pd.to_datetime(df.openTime,unit='s')"
      ],
      "execution_count": 96,
      "outputs": []
    },
    {
      "cell_type": "code",
      "metadata": {
        "id": "eoPd6j1kE5rq"
      },
      "source": [
        "df['ind'] = df.index\n",
        "df['mean'] = (df.open+df.high+df.low+df.close)/4\n",
        "columns=['open','close','high','low','volume','openTime']\n",
        "df.drop(columns,axis=1,inplace=True)\n"
      ],
      "execution_count": 97,
      "outputs": []
    },
    {
      "cell_type": "code",
      "metadata": {
        "id": "q8PSVY7RMK7Z"
      },
      "source": [
        "num=100\n",
        "x=df['ind'].tail(num).values\n",
        "y=df['mean'].tail(num).values\n",
        "\n",
        "# s is set for dot size\n",
        "# plt.scatter(X, Y,s=5)\n",
        "# plt.scatter(X, Y + np.std(Y),c='y')\n",
        "# plt.scatter(X, Y - np.std(Y),c='y')\n",
        "# plt.show()"
      ],
      "execution_count": 98,
      "outputs": []
    },
    {
      "cell_type": "markdown",
      "metadata": {
        "id": "g2wNpISVho43"
      },
      "source": [
        "# just for test , I have to remove this part"
      ]
    },
    {
      "cell_type": "code",
      "metadata": {
        "id": "TKeJNPzehUrB"
      },
      "source": [
        "# nsample = 50\n",
        "# sig = 0.5\n",
        "# x = np.linspace(0, 20, nsample)\n",
        "# X = np.column_stack((x, np.sin(x), (x-5)**2, np.ones(nsample)))\n",
        "# beta = [0.5, 0.5, -0.02, 5.]\n",
        "\n",
        "# y_true = np.dot(X, beta)\n",
        "# y = y_true + sig * np.random.normal(size=nsample)"
      ],
      "execution_count": 99,
      "outputs": []
    },
    {
      "cell_type": "code",
      "metadata": {
        "colab": {
          "base_uri": "https://localhost:8080/",
          "height": 319
        },
        "id": "pDX-zKRwggHf",
        "outputId": "59840362-0e3a-4df9-87c9-5964ab83cab3"
      },
      "source": [
        "sns.regplot(x,y,line_kws={'color':'red'})\n",
        "plt.xlabel='mean'\n",
        "plt.ylabel='ind'\n",
        "plt.title='Regression on LTH Mean Price'"
      ],
      "execution_count": 100,
      "outputs": [
        {
          "output_type": "stream",
          "text": [
            "/usr/local/lib/python3.7/dist-packages/seaborn/_decorators.py:43: FutureWarning: Pass the following variables as keyword args: x, y. From version 0.12, the only valid positional argument will be `data`, and passing other arguments without an explicit keyword will result in an error or misinterpretation.\n",
            "  FutureWarning\n"
          ],
          "name": "stderr"
        },
        {
          "output_type": "display_data",
          "data": {
            "image/png": "[encoded data removed]",
            "text/plain": [
              "<Figure size 432x288 with 1 Axes>"
            ]
          },
          "metadata": {
            "tags": [],
            "needs_background": "light"
          }
        }
      ]
    },
    {
      "cell_type": "code",
      "metadata": {
        "id": "ZX_M85UKi7em"
      },
      "source": [
        "df = pd.DataFrame()\n",
        "df['x']=x\n",
        "df['y']=y\n",
        "\n",
        "df['xy'] = df.x * df.y\n",
        "df['x2'] = df.x**2\n",
        "df['y2'] = df.y**2\n",
        "df['x-xavg**2'] = (df.x - df.x.mean())**2\n",
        "df['y-yavg**2'] = (df.y - df.y.mean())**2"
      ],
      "execution_count": 101,
      "outputs": []
    },
    {
      "cell_type": "code",
      "metadata": {
        "id": "qAKy-TVnjdOO"
      },
      "source": [
        "def lin_regr_func(x,y):\n",
        "    n = len(x)\n",
        "    # denominator\n",
        "    d = (n*(x**2).sum()-x.sum()**2)\n",
        "    # intercept\n",
        "    a = (y.sum()*(x**2).sum()-x.sum()*(x*y).sum())/d\n",
        "    # slope\n",
        "    b = (n*(x*y).sum()-x.sum()*y.sum())/d\n",
        "    \n",
        "    y_pred = x*b+a\n",
        "    yyi = (y-y_pred)**2\n",
        "    xxi = (x.mean()-x)**2\n",
        "    #standard error\n",
        "    sb = np.sqrt(yyi.sum()/(n-2))/np.sqrt(xxi.sum())\n",
        "    \n",
        "    # correlation coefficient\n",
        "    corr_coeff = (n*(x*y).sum() - x.sum()*y.sum())/(np.sqrt(n*(x**2).sum()-x.sum()**2)*np.sqrt((n*(y**2).sum()-y.sum()**2)))\n",
        "    return a,b,corr_coeff,sb"
      ],
      "execution_count": 102,
      "outputs": []
    },
    {
      "cell_type": "code",
      "metadata": {
        "id": "llAkjEbSjqZd"
      },
      "source": [
        "a,b,corr_coeff,sb=lin_regr_func(x,y)\n",
        "\n",
        "df['y_pred']=df['x']+b+a\n",
        "df['err']=df['y']-df['y_pred']"
      ],
      "execution_count": 103,
      "outputs": []
    },
    {
      "cell_type": "code",
      "metadata": {
        "colab": {
          "base_uri": "https://localhost:8080/",
          "height": 333
        },
        "id": "BPNpxbixkICH",
        "outputId": "c110df5a-f7ff-400f-b815-8efcc44c68a1"
      },
      "source": [
        "sns.scatterplot('x','y',data=df)\n",
        "plt.xlabel='mean'\n",
        "plt.ylabel='ind'\n",
        "# sns.lineplot('x','y',color='red',data=df)\n",
        "plt.title='Regression on LTH Mean Price'"
      ],
      "execution_count": 104,
      "outputs": [
        {
          "output_type": "stream",
          "text": [
            "/usr/local/lib/python3.7/dist-packages/seaborn/_decorators.py:43: FutureWarning: Pass the following variables as keyword args: x, y. From version 0.12, the only valid positional argument will be `data`, and passing other arguments without an explicit keyword will result in an error or misinterpretation.\n",
            "  FutureWarning\n"
          ],
          "name": "stderr"
        },
        {
          "output_type": "display_data",
          "data": {
            "image/png": "[encoded data removed]",
            "text/plain": [
              "<Figure size 432x288 with 1 Axes>"
            ]
          },
          "metadata": {
            "tags": [],
            "needs_background": "light"
          }
        }
      ]
    }
  ]
}
{
  "nbformat": 4,
  "nbformat_minor": 0,
  "metadata": {
    "colab": {
      "name": "Exercise 2 - part1.ipynb",
      "provenance": [],
      "collapsed_sections": [
        "5ke5jZ-bGbzU",
        "_FkONB6bJJAL",
        "auyxRhFEbWWH",
        "hFtWk3N9cVHY",
        "Tdb9d0MNdfkW",
        "wK7zNX1qTUTq",
        "ZxDldCr20I-z",
        "oIlyuM7xVIZL",
        "TXo7rGy1jHr7",
        "L8SQUYRLjLuL",
        "tosD-5aAAL1Y",
        "HLNksESLdSyf",
        "Q7Ea-uV_Y_ZY",
        "GqVpp5yqajDi"
      ],
      "toc_visible": true,
      "authorship_tag": "ABX9TyM98v5cgvOa/TLjUxuLPzqa",
      "include_colab_link": true
    },
    "kernelspec": {
      "display_name": "Python 3",
      "name": "python3"
    },
    "language_info": {
      "name": "python"
    }
  },
  "cells": [
    {
      "cell_type": "markdown",
      "metadata": {
        "id": "view-in-github",
        "colab_type": "text"
      },
      "source": [
        "<a href=\"https://colab.research.google.com/github/mahhhdy/SBU_DataMining_Python/blob/main/Exercise_2_part1.ipynb\" target=\"_parent\"><img src=\"https://colab.research.google.com/assets/colab-badge.svg\" alt=\"Open In Colab\"/></a>"
      ]
    },
    {
      "cell_type": "markdown",
      "metadata": {
        "id": "p1-mrStFGX1F"
      },
      "source": [
        "#initialize libs"
      ]
    },
    {
      "cell_type": "code",
      "metadata": {
        "colab": {
          "base_uri": "https://localhost:8080/"
        },
        "id": "jZvTDYQs-rcX",
        "outputId": "a5c650fb-cb03-4916-e0f7-080314f0e100"
      },
      "source": [
        "import pandas as pd\n",
        "import matplotlib.pyplot as plt\n",
        "\n",
        "import numpy as np\n",
        "import seaborn as sns\n",
        "from scipy import stats\n",
        "from scipy.stats import norm\n",
        "from google.colab import drive\n",
        "from sklearn.model_selection import KFold,train_test_split,cross_val_score\n",
        "from sklearn.decomposition import PCA\n",
        "\n",
        "drive.mount('/content/drive')\n",
        "path='/content/drive/MyDrive/DataSets/immo_data.csv'\n",
        "pd.set_option('display.max_columns',None)\n",
        "df= pd.read_csv(path)"
      ],
      "execution_count": null,
      "outputs": [
        {
          "output_type": "stream",
          "text": [
            "Drive already mounted at /content/drive; to attempt to forcibly remount, call drive.mount(\"/content/drive\", force_remount=True).\n"
          ],
          "name": "stdout"
        }
      ]
    },
    {
      "cell_type": "code",
      "metadata": {
        "colab": {
          "base_uri": "https://localhost:8080/"
        },
        "id": "JrqrzcPEG6VU",
        "outputId": "aaf150ec-1ac7-4b22-f2f8-843234c9cf8e"
      },
      "source": [
        "df.info()\n",
        "# df.shape\n",
        "# df.livingSpace.nunique()"
      ],
      "execution_count": null,
      "outputs": [
        {
          "output_type": "stream",
          "text": [
            "<class 'pandas.core.frame.DataFrame'>\n",
            "RangeIndex: 268850 entries, 0 to 268849\n",
            "Data columns (total 49 columns):\n",
            " #   Column                    Non-Null Count   Dtype  \n",
            "---  ------                    --------------   -----  \n",
            " 0   regio1                    268850 non-null  object \n",
            " 1   serviceCharge             261941 non-null  float64\n",
            " 2   heatingType               223994 non-null  object \n",
            " 3   telekomTvOffer            236231 non-null  object \n",
            " 4   telekomHybridUploadSpeed  45020 non-null   float64\n",
            " 5   newlyConst                268850 non-null  bool   \n",
            " 6   balcony                   268850 non-null  bool   \n",
            " 7   picturecount              268850 non-null  int64  \n",
            " 8   pricetrend                267018 non-null  float64\n",
            " 9   telekomUploadSpeed        235492 non-null  float64\n",
            " 10  totalRent                 228333 non-null  float64\n",
            " 11  yearConstructed           211805 non-null  float64\n",
            " 12  scoutId                   268850 non-null  int64  \n",
            " 13  noParkSpaces              93052 non-null   float64\n",
            " 14  firingTypes               211886 non-null  object \n",
            " 15  hasKitchen                268850 non-null  bool   \n",
            " 16  geo_bln                   268850 non-null  object \n",
            " 17  cellar                    268850 non-null  bool   \n",
            " 18  yearConstructedRange      211805 non-null  float64\n",
            " 19  baseRent                  268850 non-null  float64\n",
            " 20  houseNumber               197832 non-null  object \n",
            " 21  livingSpace               268850 non-null  float64\n",
            " 22  geo_krs                   268850 non-null  object \n",
            " 23  condition                 200361 non-null  object \n",
            " 24  interiorQual              156185 non-null  object \n",
            " 25  petsAllowed               154277 non-null  object \n",
            " 26  street                    268850 non-null  object \n",
            " 27  streetPlain               197837 non-null  object \n",
            " 28  lift                      268850 non-null  bool   \n",
            " 29  baseRentRange             268850 non-null  int64  \n",
            " 30  typeOfFlat                232236 non-null  object \n",
            " 31  geo_plz                   268850 non-null  int64  \n",
            " 32  noRooms                   268850 non-null  float64\n",
            " 33  thermalChar               162344 non-null  float64\n",
            " 34  floor                     217541 non-null  float64\n",
            " 35  numberOfFloors            171118 non-null  float64\n",
            " 36  noRoomsRange              268850 non-null  int64  \n",
            " 37  garden                    268850 non-null  bool   \n",
            " 38  livingSpaceRange          268850 non-null  int64  \n",
            " 39  regio2                    268850 non-null  object \n",
            " 40  regio3                    268850 non-null  object \n",
            " 41  description               249103 non-null  object \n",
            " 42  facilities                215926 non-null  object \n",
            " 43  heatingCosts              85518 non-null   float64\n",
            " 44  energyEfficiencyClass     77787 non-null   object \n",
            " 45  lastRefurbish             80711 non-null   float64\n",
            " 46  electricityBasePrice      46846 non-null   float64\n",
            " 47  electricityKwhPrice       46846 non-null   float64\n",
            " 48  date                      268850 non-null  object \n",
            "dtypes: bool(6), float64(18), int64(6), object(19)\n",
            "memory usage: 89.7+ MB\n"
          ],
          "name": "stdout"
        }
      ]
    },
    {
      "cell_type": "markdown",
      "metadata": {
        "id": "5ke5jZ-bGbzU"
      },
      "source": [
        "#delete column with more than 50% null value"
      ]
    },
    {
      "cell_type": "code",
      "metadata": {
        "colab": {
          "base_uri": "https://localhost:8080/"
        },
        "id": "eiaX0xXQHm2t",
        "outputId": "046334e3-2d3b-4fb6-9227-ca91d2596e08"
      },
      "source": [
        "# df.columns[((df.isna().sum()/len(df))>0.5)]\n",
        "df = df.drop(columns=df.columns[((df.isna().sum()/len(df))>0.5)])\n",
        "df.shape"
      ],
      "execution_count": null,
      "outputs": [
        {
          "output_type": "execute_result",
          "data": {
            "text/plain": [
              "(268850, 42)"
            ]
          },
          "metadata": {
            "tags": []
          },
          "execution_count": 62
        }
      ]
    },
    {
      "cell_type": "markdown",
      "metadata": {
        "id": "_FkONB6bJJAL"
      },
      "source": [
        "#delete column with irrelevant value"
      ]
    },
    {
      "cell_type": "code",
      "metadata": {
        "id": "Q0PmulwIJIyt"
      },
      "source": [
        "# picturecount,houseNumber,description,date,facilities,numberOfFloors,lift,regio2,regio3,streetPlain,firingTypes\t,geo_bln\t,geo_krs\t\t\n",
        "df.drop(columns=['picturecount','houseNumber','description','date','street','scoutId','facilities','numberOfFloors','lift','regio2','regio3','streetPlain','firingTypes','geo_bln','geo_krs'], inplace = True)"
      ],
      "execution_count": null,
      "outputs": []
    },
    {
      "cell_type": "code",
      "metadata": {
        "colab": {
          "base_uri": "https://localhost:8080/"
        },
        "id": "5m-P2wg-IRTV",
        "outputId": "27db9015-b5e0-4970-e5b4-428b828286fb"
      },
      "source": [
        "df.shape"
      ],
      "execution_count": null,
      "outputs": [
        {
          "output_type": "execute_result",
          "data": {
            "text/plain": [
              "(268850, 27)"
            ]
          },
          "metadata": {
            "tags": []
          },
          "execution_count": 64
        }
      ]
    },
    {
      "cell_type": "markdown",
      "metadata": {
        "id": "auyxRhFEbWWH"
      },
      "source": [
        "#fillna numeric column by mean "
      ]
    },
    {
      "cell_type": "code",
      "metadata": {
        "id": "j52yBAW6btUO"
      },
      "source": [
        "df.fillna(df._get_numeric_data().mean(),inplace=True)"
      ],
      "execution_count": null,
      "outputs": []
    },
    {
      "cell_type": "markdown",
      "metadata": {
        "id": "YmbyK0ccrJZI"
      },
      "source": [
        "replace zero value of all numeric columns with mean"
      ]
    },
    {
      "cell_type": "code",
      "metadata": {
        "id": "EwThiy9rqxS3"
      },
      "source": [
        "for cols in df.columns:\n",
        "  if  df[cols].dtype == 'int64' or df[cols].dtype == 'float64':\n",
        "    df[cols].replace({\n",
        "        0:df.livingSpace.mean()\n",
        "        },inplace=True)"
      ],
      "execution_count": null,
      "outputs": []
    },
    {
      "cell_type": "markdown",
      "metadata": {
        "id": "hFtWk3N9cVHY"
      },
      "source": [
        "#fill string column with most popular value"
      ]
    },
    {
      "cell_type": "code",
      "metadata": {
        "id": "jY4x1bGFb7vX"
      },
      "source": [
        "for cols in df.columns:\n",
        "  if  df[cols].dtype == 'object' or df[cols].dtype == 'bool':\n",
        "    df[cols].fillna(df[cols].value_counts().head(1).index[0],inplace = True)"
      ],
      "execution_count": null,
      "outputs": []
    },
    {
      "cell_type": "code",
      "metadata": {
        "id": "KZ8kMqp-dWSr"
      },
      "source": [
        "# df.isna().sum()"
      ],
      "execution_count": null,
      "outputs": []
    },
    {
      "cell_type": "markdown",
      "metadata": {
        "id": "Tdb9d0MNdfkW"
      },
      "source": [
        "#Delete outlier"
      ]
    },
    {
      "cell_type": "code",
      "metadata": {
        "id": "4fB8KwkRdnEe"
      },
      "source": [
        "for cols in df.columns:\n",
        "  if  df[cols].dtype == 'int64' or df[cols].dtype == 'float64':\n",
        "    upp_range = df[cols].mean() + 3 * df[cols].std()\n",
        "    low_range = df[cols].mean() - 3 * df[cols].std()\n",
        "\n",
        "    indexs = df[(df[cols]>upp_range) | (df[cols]<low_range)].index\n",
        "    df=df.drop(indexs)"
      ],
      "execution_count": null,
      "outputs": []
    },
    {
      "cell_type": "code",
      "metadata": {
        "colab": {
          "base_uri": "https://localhost:8080/"
        },
        "id": "bShS5c9SO_6N",
        "outputId": "b37fad64-c3b8-4bf3-baac-c1ef42987067"
      },
      "source": [
        "df.livingSpace.describe()\n",
        "df.livingSpace.mean()"
      ],
      "execution_count": null,
      "outputs": [
        {
          "output_type": "execute_result",
          "data": {
            "text/plain": [
              "73.9843479041628"
            ]
          },
          "metadata": {
            "tags": []
          },
          "execution_count": 70
        }
      ]
    },
    {
      "cell_type": "markdown",
      "metadata": {
        "id": "nSn81mn7lbt_"
      },
      "source": [
        "#change object, category and bool value to int"
      ]
    },
    {
      "cell_type": "code",
      "metadata": {
        "id": "4G37D8sIfB-m"
      },
      "source": [
        "tmp3 = df.dtypes[(df.dtypes == 'object') | (df.dtypes == 'category')| (df.dtypes == 'bool')].index.tolist()\n",
        "# df[tmp3].head()"
      ],
      "execution_count": null,
      "outputs": []
    },
    {
      "cell_type": "code",
      "metadata": {
        "id": "yOFKVzgajKP_"
      },
      "source": [
        "for cols in df.columns:\n",
        "  if  df[cols].dtype == 'bool':\n",
        "    df[cols] = df[cols].astype(int)"
      ],
      "execution_count": null,
      "outputs": []
    },
    {
      "cell_type": "code",
      "metadata": {
        "id": "eg0P59HZAfCY"
      },
      "source": [
        "df.interiorQual.replace({\n",
        "    'normal':1,\n",
        "    'sophisticated':2,\n",
        "    'simple':3,\n",
        "    'luxury':4\n",
        "},inplace=True)"
      ],
      "execution_count": null,
      "outputs": []
    },
    {
      "cell_type": "code",
      "metadata": {
        "id": "YQ6sgjo6_6S4"
      },
      "source": [
        "df.regio1.replace({\n",
        "    'Nordrhein_Westfalen':1,\n",
        "    'Rheinland_Pfalz':2,\n",
        "    'Sachsen':3,\n",
        "    'Bremen':4,\n",
        "    'Schleswig_Holstein':5,\n",
        "    'Baden_Württemberg':6,\n",
        "    'Thüringen':7,\n",
        "    'Hessen':8,\n",
        "    'Niedersachsen':9,\n",
        "    'Bayern':10,\n",
        "    'Hamburg':11,\n",
        "    'Sachsen_Anhalt':12,\n",
        "    'Mecklenburg_Vorpommern':13,\n",
        "    'Berlin':14,\n",
        "    'Brandenburg':15,\n",
        "    'Saarland':16\n",
        "},inplace=True)"
      ],
      "execution_count": null,
      "outputs": []
    },
    {
      "cell_type": "code",
      "metadata": {
        "id": "DSdE61kC_ipX"
      },
      "source": [
        "df.condition.replace({\n",
        "    'well_kept':1,\n",
        "    'refurbished':2,\n",
        "    'first_time_use':3,\n",
        "    'fully_renovated':4,\n",
        "    'mint_condition':5,\n",
        "    'first_time_use_after_refurbishment':6,\n",
        "    'modernized':7,\n",
        "    'negotiable':8,\n",
        "    'need_of_renovation':9,\n",
        "    'ripe_for_demolition':10\n",
        "},inplace=True)"
      ],
      "execution_count": null,
      "outputs": []
    },
    {
      "cell_type": "code",
      "metadata": {
        "id": "Q1Ej1R3e_Nn_"
      },
      "source": [
        "df.petsAllowed.replace({\n",
        "    'no':1,\n",
        "    'yes':2,\n",
        "    'negotiable':3\n",
        "},inplace=True)"
      ],
      "execution_count": null,
      "outputs": []
    },
    {
      "cell_type": "code",
      "metadata": {
        "id": "HZ4QRBrO-zC3"
      },
      "source": [
        "df.typeOfFlat.replace({\n",
        "    'other':0,\n",
        "    'ground_floor':1,\n",
        "    'apartment':2,\n",
        "    'roof_storey':3,\n",
        "    'raised_ground_floor':4,\n",
        "    'terraced_flat':5,\n",
        "    'half_basement':6,\n",
        "    'maisonette':7,\n",
        "    'penthouse':8,\n",
        "    'loft':9\n",
        "},inplace=True)"
      ],
      "execution_count": null,
      "outputs": []
    },
    {
      "cell_type": "code",
      "metadata": {
        "id": "e0SGr1IP-Mwc"
      },
      "source": [
        "df.heatingType.replace({\n",
        "    'central_heating':1,\n",
        "    'self_contained_central_heating':2,\n",
        "    'floor_heating':3,\n",
        "    'district_heating':4,\n",
        "    'gas_heating':5,\n",
        "    'oil_heating':6,\n",
        "    'wood_pellet_heating':7,\n",
        "    'electric_heating':8,\n",
        "    'combined_heat_and_power_plant':9,\n",
        "    'heat_pump':10,\n",
        "    'night_storage_heater':11,\n",
        "    'stove_heating':12,\n",
        "    'solar_heating':13\n",
        "},inplace=True)"
      ],
      "execution_count": null,
      "outputs": []
    },
    {
      "cell_type": "code",
      "metadata": {
        "id": "HJF0Wgme9Q1w"
      },
      "source": [
        "df.telekomTvOffer.replace({\n",
        "    'NONE':0,\n",
        "    'ONE_YEAR_FREE':1,\n",
        "    'ON_DEMAND':2\n",
        "},inplace=True)"
      ],
      "execution_count": null,
      "outputs": []
    },
    {
      "cell_type": "code",
      "metadata": {
        "id": "dTWFxsVTgCs4"
      },
      "source": [
        "# df.head()"
      ],
      "execution_count": null,
      "outputs": []
    },
    {
      "cell_type": "markdown",
      "metadata": {
        "id": "27DbR1CKMw0K"
      },
      "source": [
        "#Data Visualization"
      ]
    },
    {
      "cell_type": "markdown",
      "metadata": {
        "id": "aCBS5Lpz9bmy"
      },
      "source": [
        "extract correlation bethween columns"
      ]
    },
    {
      "cell_type": "code",
      "metadata": {
        "colab": {
          "base_uri": "https://localhost:8080/"
        },
        "id": "38Xjr_yu9b4n",
        "outputId": "4d33e465-3046-453e-d3f4-bacf912192e2"
      },
      "source": [
        "corr = df.corr().abs()\n",
        "corr.livingSpace.sort_values(ascending=False)"
      ],
      "execution_count": null,
      "outputs": [
        {
          "output_type": "execute_result",
          "data": {
            "text/plain": [
              "livingSpace             1.000000\n",
              "livingSpaceRange        0.950518\n",
              "noRooms                 0.774535\n",
              "noRoomsRange            0.756667\n",
              "baseRent                0.688948\n",
              "baseRentRange           0.688015\n",
              "serviceCharge           0.686818\n",
              "totalRent               0.606005\n",
              "interiorQual            0.291356\n",
              "typeOfFlat              0.268185\n",
              "balcony                 0.246555\n",
              "yearConstructedRange    0.172289\n",
              "pricetrend              0.147131\n",
              "newlyConst              0.142874\n",
              "geo_plz                 0.136545\n",
              "condition               0.093735\n",
              "heatingType             0.084964\n",
              "thermalChar             0.078619\n",
              "hasKitchen              0.077474\n",
              "yearConstructed         0.077465\n",
              "garden                  0.070534\n",
              "cellar                  0.054750\n",
              "floor                   0.024936\n",
              "telekomUploadSpeed      0.011529\n",
              "telekomTvOffer          0.011052\n",
              "regio1                  0.010377\n",
              "petsAllowed             0.005581\n",
              "Name: livingSpace, dtype: float64"
            ]
          },
          "metadata": {
            "tags": []
          },
          "execution_count": 81
        }
      ]
    },
    {
      "cell_type": "markdown",
      "metadata": {
        "id": "ONk_6DVc9_ad"
      },
      "source": [
        "feature with the most realtion with 'living space' feature\n",
        "*   serviceCharge           \n",
        "*   totalRent               \n",
        "*   baseRent               \n",
        "*   noRooms                             \n",
        "*   livingSpaceRange       "
      ]
    },
    {
      "cell_type": "markdown",
      "metadata": {
        "id": "CaYmHh6m3u4V"
      },
      "source": [
        "extract column with correlation more than 0.5"
      ]
    },
    {
      "cell_type": "code",
      "metadata": {
        "colab": {
          "base_uri": "https://localhost:8080/"
        },
        "id": "W9SADDtamAVW",
        "outputId": "a5f1d98c-62e2-448d-b173-5b2edfad0305"
      },
      "source": [
        "corr = df.corr().abs()\n",
        "m = ~(corr.mask(np.eye(len(corr), dtype=bool)) > 0.5).any()\n",
        "m"
      ],
      "execution_count": null,
      "outputs": [
        {
          "output_type": "execute_result",
          "data": {
            "text/plain": [
              "regio1                   True\n",
              "serviceCharge           False\n",
              "heatingType              True\n",
              "telekomTvOffer           True\n",
              "newlyConst              False\n",
              "balcony                  True\n",
              "pricetrend               True\n",
              "telekomUploadSpeed       True\n",
              "totalRent               False\n",
              "yearConstructed         False\n",
              "hasKitchen               True\n",
              "cellar                   True\n",
              "yearConstructedRange    False\n",
              "baseRent                False\n",
              "livingSpace             False\n",
              "condition                True\n",
              "interiorQual             True\n",
              "petsAllowed              True\n",
              "baseRentRange           False\n",
              "typeOfFlat               True\n",
              "geo_plz                  True\n",
              "noRooms                 False\n",
              "thermalChar              True\n",
              "floor                    True\n",
              "noRoomsRange            False\n",
              "garden                   True\n",
              "livingSpaceRange        False\n",
              "dtype: bool"
            ]
          },
          "metadata": {
            "tags": []
          },
          "execution_count": 82
        }
      ]
    },
    {
      "cell_type": "markdown",
      "metadata": {
        "id": "v2-UWyQH314s"
      },
      "source": [
        "show heatmap plot for column with correlation more than 0.5"
      ]
    },
    {
      "cell_type": "code",
      "metadata": {
        "colab": {
          "base_uri": "https://localhost:8080/",
          "height": 815
        },
        "id": "tZp_UgA7MvgI",
        "outputId": "8b38358b-5d13-48d1-fbfe-763391748b2b"
      },
      "source": [
        "raw = corr.loc[m, m]\n",
        "raw\n",
        "\n",
        "plt.figure(figsize=(15, 12))\n",
        "sns.heatmap(raw, \n",
        "            linewidths=0.3, \n",
        "            annot=True);"
      ],
      "execution_count": null,
      "outputs": [
        {
          "output_type": "display_data",
          "data": {
            "image/png": "[encoded data removed]",
            "text/plain": [
              "<Figure size 1080x864 with 2 Axes>"
            ]
          },
          "metadata": {
            "tags": []
          }
        }
      ]
    },
    {
      "cell_type": "markdown",
      "metadata": {
        "id": "rckCWJYiBxqI"
      },
      "source": [
        "#implementation hypothesis testing"
      ]
    },
    {
      "cell_type": "markdown",
      "metadata": {
        "id": "UR9YUgsqC4U2"
      },
      "source": [
        "Test 'living space' feature for normal distribution\n"
      ]
    },
    {
      "cell_type": "code",
      "metadata": {
        "colab": {
          "base_uri": "https://localhost:8080/",
          "height": 410
        },
        "id": "XJU0FI8-C26W",
        "outputId": "6e16eabc-512f-48aa-bc92-93202d8c9487"
      },
      "source": [
        "sns.set(rc={'figure.figsize':(8,5)})\n",
        "sns.distplot(df['livingSpace'],kde_kws={\"label\":'livingSpace'},bins=20)\n",
        "# sns.distplot(df['livingSpace'],bins=30)"
      ],
      "execution_count": null,
      "outputs": [
        {
          "output_type": "stream",
          "text": [
            "/usr/local/lib/python3.7/dist-packages/seaborn/distributions.py:2557: FutureWarning: `distplot` is a deprecated function and will be removed in a future version. Please adapt your code to use either `displot` (a figure-level function with similar flexibility) or `histplot` (an axes-level function for histograms).\n",
            "  warnings.warn(msg, FutureWarning)\n"
          ],
          "name": "stderr"
        },
        {
          "output_type": "execute_result",
          "data": {
            "text/plain": [
              "<matplotlib.axes._subplots.AxesSubplot at 0x7f0dbefbf550>"
            ]
          },
          "metadata": {
            "tags": []
          },
          "execution_count": 84
        },
        {
          "output_type": "display_data",
          "data": {
            "image/png": "[encoded data removed]",
            "text/plain": [
              "<Figure size 576x360 with 1 Axes>"
            ]
          },
          "metadata": {
            "tags": []
          }
        }
      ]
    },
    {
      "cell_type": "markdown",
      "metadata": {
        "id": "_SkEMNrsNYvK"
      },
      "source": [
        "we got that the living space distribution doesnt have a normal distributiion. \\\\\n",
        "\n",
        "*   Skewness is a measure of symmetry. skewed mean it lacks symmetry.\n",
        "*   Kurtosis is a measure whether the data distribution is right-tailed or left-tailed relative to the normal distribution. -ve values for skewness shows the data distribution is skewed to left and +ve value indicate skewd to right.\n",
        "\n",
        "\n",
        "\n"
      ]
    },
    {
      "cell_type": "code",
      "metadata": {
        "colab": {
          "base_uri": "https://localhost:8080/"
        },
        "id": "yn8N52PLNQDy",
        "outputId": "bbd0dcdf-3fea-45db-917a-2a981bcdafcb"
      },
      "source": [
        "print(\"Skewness of living space Distribution is : {:.4f}\"\n",
        "      .format(df.livingSpace.skew()))\n",
        "\n",
        "print(\"Kurtosis of livi ng space Distribution is : {:.4f}\"\n",
        "      .format(df.livingSpace.kurt()))"
      ],
      "execution_count": null,
      "outputs": [
        {
          "output_type": "stream",
          "text": [
            "Skewness of living space Distribution is : 1.7016\n",
            "Kurtosis of livi ng space Distribution is : 7.1163\n"
          ],
          "name": "stdout"
        }
      ]
    },
    {
      "cell_type": "code",
      "metadata": {
        "colab": {
          "base_uri": "https://localhost:8080/",
          "height": 731
        },
        "id": "uxJ_Y8HOOSWb",
        "outputId": "406016e4-b6d0-4145-df4d-3113e1f33da7"
      },
      "source": [
        "sns.distplot(df.livingSpace, fit = norm);\n",
        "fig = plt.figure()\n",
        "res = stats.probplot(df.livingSpace, plot = plt);"
      ],
      "execution_count": null,
      "outputs": [
        {
          "output_type": "stream",
          "text": [
            "/usr/local/lib/python3.7/dist-packages/seaborn/distributions.py:2557: FutureWarning: `distplot` is a deprecated function and will be removed in a future version. Please adapt your code to use either `displot` (a figure-level function with similar flexibility) or `histplot` (an axes-level function for histograms).\n",
            "  warnings.warn(msg, FutureWarning)\n"
          ],
          "name": "stderr"
        },
        {
          "output_type": "display_data",
          "data": {
            "image/png": "[encoded data removed]",
            "text/plain": [
              "<Figure size 576x360 with 1 Axes>"
            ]
          },
          "metadata": {
            "tags": []
          }
        },
        {
          "output_type": "display_data",
          "data": {
            "image/png": "[encoded data removed]",
            "text/plain": [
              "<Figure size 576x360 with 1 Axes>"
            ]
          },
          "metadata": {
            "tags": []
          }
        }
      ]
    },
    {
      "cell_type": "markdown",
      "metadata": {
        "id": "NIHWXMVlNz7P"
      },
      "source": [
        "livig price doesnt fellow normal distribution. \\\\\n",
        "Therefor, we need to trasform the living space data into normally distributed. \\\\\n",
        "One method that we can use to transform the skewed living space distribution to normal distribution is the log transformation"
      ]
    },
    {
      "cell_type": "markdown",
      "metadata": {
        "id": "ghAP724_B3I1"
      },
      "source": [
        "normal test for 'living space' feature"
      ]
    },
    {
      "cell_type": "code",
      "metadata": {
        "colab": {
          "base_uri": "https://localhost:8080/"
        },
        "id": "9lTHSVC-B2Cl",
        "outputId": "958735ec-2162-469d-e4ba-2ee2ceedac7a"
      },
      "source": [
        "stats.normaltest(df.livingSpace)"
      ],
      "execution_count": null,
      "outputs": [
        {
          "output_type": "execute_result",
          "data": {
            "text/plain": [
              "NormaltestResult(statistic=88615.83094955127, pvalue=0.0)"
            ]
          },
          "metadata": {
            "tags": []
          },
          "execution_count": 87
        }
      ]
    },
    {
      "cell_type": "code",
      "metadata": {
        "colab": {
          "base_uri": "https://localhost:8080/",
          "height": 731
        },
        "id": "hiqb2vQcFif8",
        "outputId": "f6fcc9df-a1fc-485c-9615-a6665a084e28"
      },
      "source": [
        "# stats.normaltest(np.log10(df['livingSpace']))\n",
        "\n",
        "df[\"livingSpaceNorm\"] = np.log(df[\"livingSpace\"]) \n",
        "sns.distplot(df['livingSpaceNorm'], fit = norm);\n",
        "fig = plt.figure()\n",
        "res =stats.probplot(df['livingSpaceNorm'], plot = plt);"
      ],
      "execution_count": null,
      "outputs": [
        {
          "output_type": "stream",
          "text": [
            "/usr/local/lib/python3.7/dist-packages/seaborn/distributions.py:2557: FutureWarning: `distplot` is a deprecated function and will be removed in a future version. Please adapt your code to use either `displot` (a figure-level function with similar flexibility) or `histplot` (an axes-level function for histograms).\n",
            "  warnings.warn(msg, FutureWarning)\n"
          ],
          "name": "stderr"
        },
        {
          "output_type": "display_data",
          "data": {
            "image/png": "[encoded data removed]",
            "text/plain": [
              "<Figure size 576x360 with 1 Axes>"
            ]
          },
          "metadata": {
            "tags": []
          }
        },
        {
          "output_type": "display_data",
          "data": {
            "image/png": "[encoded data removed]",
            "text/plain": [
              "<Figure size 576x360 with 1 Axes>"
            ]
          },
          "metadata": {
            "tags": []
          }
        }
      ]
    },
    {
      "cell_type": "code",
      "metadata": {
        "colab": {
          "base_uri": "https://localhost:8080/"
        },
        "id": "Q05kLqJEFCJg",
        "outputId": "0a11125e-96a5-4397-ca2f-ed5a1fad5326"
      },
      "source": [
        "stats.normaltest(np.log(df['livingSpace']))"
      ],
      "execution_count": null,
      "outputs": [
        {
          "output_type": "execute_result",
          "data": {
            "text/plain": [
              "NormaltestResult(statistic=14701.213681654455, pvalue=0.0)"
            ]
          },
          "metadata": {
            "tags": []
          },
          "execution_count": 89
        }
      ]
    },
    {
      "cell_type": "code",
      "metadata": {
        "colab": {
          "base_uri": "https://localhost:8080/"
        },
        "id": "a5oclxgNGwYl",
        "outputId": "865f4501-2035-47eb-dacf-c11d32afc211"
      },
      "source": [
        "stats.normaltest(1/df['livingSpace']) "
      ],
      "execution_count": null,
      "outputs": [
        {
          "output_type": "execute_result",
          "data": {
            "text/plain": [
              "NormaltestResult(statistic=679108.3370138104, pvalue=0.0)"
            ]
          },
          "metadata": {
            "tags": []
          },
          "execution_count": 90
        }
      ]
    },
    {
      "cell_type": "code",
      "metadata": {
        "colab": {
          "base_uri": "https://localhost:8080/"
        },
        "id": "ka_V8RKpLJW7",
        "outputId": "a2024844-ef4e-418c-aef5-3e06a052ce78"
      },
      "source": [
        "stats.normaltest(df['livingSpace']**2) "
      ],
      "execution_count": null,
      "outputs": [
        {
          "output_type": "execute_result",
          "data": {
            "text/plain": [
              "NormaltestResult(statistic=300965.96721504687, pvalue=0.0)"
            ]
          },
          "metadata": {
            "tags": []
          },
          "execution_count": 91
        }
      ]
    },
    {
      "cell_type": "markdown",
      "metadata": {
        "id": "V5wWZStjNIS_"
      },
      "source": [
        "spearman rank correlation for living space with 3 feature"
      ]
    },
    {
      "cell_type": "code",
      "metadata": {
        "colab": {
          "base_uri": "https://localhost:8080/"
        },
        "id": "CBOm_jeKLU3z",
        "outputId": "a1827820-a0a4-4766-c5b0-58fe10f62c1b"
      },
      "source": [
        "stats.stats.spearmanr(df['livingSpace'],df['totalRent'])"
      ],
      "execution_count": null,
      "outputs": [
        {
          "output_type": "execute_result",
          "data": {
            "text/plain": [
              "SpearmanrResult(correlation=0.6679811426567324, pvalue=0.0)"
            ]
          },
          "metadata": {
            "tags": []
          },
          "execution_count": 92
        }
      ]
    },
    {
      "cell_type": "code",
      "metadata": {
        "id": "2KpmNoAlM98j",
        "colab": {
          "base_uri": "https://localhost:8080/"
        },
        "outputId": "e511669d-97af-43f8-f4c6-caa712507e7d"
      },
      "source": [
        "stats.stats.spearmanr(df['livingSpace'],df['baseRent'])"
      ],
      "execution_count": null,
      "outputs": [
        {
          "output_type": "execute_result",
          "data": {
            "text/plain": [
              "SpearmanrResult(correlation=0.712661518469898, pvalue=0.0)"
            ]
          },
          "metadata": {
            "tags": []
          },
          "execution_count": 93
        }
      ]
    },
    {
      "cell_type": "code",
      "metadata": {
        "id": "HfBtHuFrM-cS",
        "colab": {
          "base_uri": "https://localhost:8080/"
        },
        "outputId": "aa73a586-5847-444a-f513-e72778a4e49c"
      },
      "source": [
        "stats.stats.spearmanr(df['livingSpace'],df['noRooms'])"
      ],
      "execution_count": null,
      "outputs": [
        {
          "output_type": "execute_result",
          "data": {
            "text/plain": [
              "SpearmanrResult(correlation=0.7881986105498997, pvalue=0.0)"
            ]
          },
          "metadata": {
            "tags": []
          },
          "execution_count": 94
        }
      ]
    },
    {
      "cell_type": "markdown",
      "metadata": {
        "id": "08Cgd8R5S8Ua"
      },
      "source": [
        "Anova Test"
      ]
    },
    {
      "cell_type": "code",
      "metadata": {
        "id": "KbiOHrE4NzHy",
        "colab": {
          "base_uri": "https://localhost:8080/"
        },
        "outputId": "639ef55b-c7cf-43c0-af5a-668a9c6cc784"
      },
      "source": [
        "F, p = stats.f_oneway(df['livingSpace'], df['baseRent'], df['noRooms'])\n",
        "print(\"p-value for significance is: \", p)"
      ],
      "execution_count": null,
      "outputs": [
        {
          "output_type": "stream",
          "text": [
            "p-value for significance is:  0.0\n"
          ],
          "name": "stdout"
        }
      ]
    },
    {
      "cell_type": "code",
      "metadata": {
        "id": "d1-TF_SsOhbq",
        "colab": {
          "base_uri": "https://localhost:8080/"
        },
        "outputId": "03a7094f-7693-4bfd-c4f3-0056a84919ef"
      },
      "source": [
        "F, p = stats.f_oneway(df['livingSpace'], df['baseRent'])\n",
        "print(\"p-value for significance is: \", p)"
      ],
      "execution_count": null,
      "outputs": [
        {
          "output_type": "stream",
          "text": [
            "p-value for significance is:  0.0\n"
          ],
          "name": "stdout"
        }
      ]
    },
    {
      "cell_type": "markdown",
      "metadata": {
        "id": "XHHxiy0TTBdx"
      },
      "source": [
        "T Test"
      ]
    },
    {
      "cell_type": "code",
      "metadata": {
        "id": "yMJ-ozSASdNJ",
        "colab": {
          "base_uri": "https://localhost:8080/"
        },
        "outputId": "7a1833a3-36f9-4c6c-e851-348c0bccfafc"
      },
      "source": [
        "F, p = stats.ttest_rel(df['livingSpace'], df['baseRent'])\n",
        "print(\"p-value for significance is: \", p)"
      ],
      "execution_count": null,
      "outputs": [
        {
          "output_type": "stream",
          "text": [
            "p-value for significance is:  0.0\n"
          ],
          "name": "stdout"
        }
      ]
    },
    {
      "cell_type": "markdown",
      "metadata": {
        "id": "yrhbFouBUM3i"
      },
      "source": [
        "chi-squared test"
      ]
    },
    {
      "cell_type": "code",
      "metadata": {
        "id": "Tac--gxkTvpp",
        "colab": {
          "base_uri": "https://localhost:8080/"
        },
        "outputId": "92c8988c-4c08-4f2d-dcaa-39b6728db2a5"
      },
      "source": [
        "stats.chi2_contingency(df[['totalRent','serviceCharge']])"
      ],
      "execution_count": null,
      "outputs": [
        {
          "output_type": "execute_result",
          "data": {
            "text/plain": [
              "(5254306.221282395, 0.0, 230489, array([[ 918.59171241,  166.40828759],\n",
              "        [ 876.54097262,  158.79054893],\n",
              "        [1316.5070164 ,  238.4929836 ],\n",
              "        ...,\n",
              "        [ 973.62255232,  176.37744768],\n",
              "        [1007.48768458,  182.51231542],\n",
              "        [1029.78069607,  186.55082548]]))"
            ]
          },
          "metadata": {
            "tags": []
          },
          "execution_count": 98
        }
      ]
    },
    {
      "cell_type": "markdown",
      "metadata": {
        "id": "wK7zNX1qTUTq"
      },
      "source": [
        "#using PCA for reduction of feature"
      ]
    },
    {
      "cell_type": "markdown",
      "metadata": {
        "id": "k0H0HpCjUfHJ"
      },
      "source": [
        "splite target and feature"
      ]
    },
    {
      "cell_type": "code",
      "metadata": {
        "id": "CuwBfGOjV5SR"
      },
      "source": [
        "# pca = PCA(0.9)\n",
        "# x_pca = pca.fit_transform(x)\n",
        "# x_pca.shape"
      ],
      "execution_count": null,
      "outputs": []
    },
    {
      "cell_type": "markdown",
      "metadata": {
        "id": "ZxDldCr20I-z"
      },
      "source": [
        "#Implementation Regression Without package"
      ]
    },
    {
      "cell_type": "code",
      "metadata": {
        "id": "-ylennmMTZG5",
        "colab": {
          "base_uri": "https://localhost:8080/"
        },
        "outputId": "2d74afde-827b-4ced-a35c-98db936b221f"
      },
      "source": [
        "y=df['livingSpace'].values\n",
        "x=df.drop(columns= ['livingSpace']).values\n",
        "\n",
        "print(x.shape)\n",
        "print(y.shape)"
      ],
      "execution_count": null,
      "outputs": [
        {
          "output_type": "stream",
          "text": [
            "(230490, 27)\n",
            "(230490,)\n"
          ],
          "name": "stdout"
        }
      ]
    },
    {
      "cell_type": "code",
      "metadata": {
        "id": "HiYHNxPTVUhh",
        "colab": {
          "base_uri": "https://localhost:8080/"
        },
        "outputId": "e6979e49-923d-4a29-a522-7e70e24774a1"
      },
      "source": [
        "train_size = int(0.8 * x.shape[0])\n",
        "train_size"
      ],
      "execution_count": null,
      "outputs": [
        {
          "output_type": "execute_result",
          "data": {
            "text/plain": [
              "184392"
            ]
          },
          "metadata": {
            "tags": []
          },
          "execution_count": 101
        }
      ]
    },
    {
      "cell_type": "code",
      "metadata": {
        "id": "1jNg6NOAvxRN",
        "colab": {
          "base_uri": "https://localhost:8080/"
        },
        "outputId": "64cf49bb-4145-42a6-a48c-b47905de5378"
      },
      "source": [
        "x_train = x[:train_size]\n",
        "y_train = y[:train_size]\n",
        "\n",
        "print(x_train.shape)\n",
        "print(y_train.shape)\n",
        "\n",
        "x_test = x[train_size:]\n",
        "y_test = y[train_size:]\n",
        "\n",
        "print(x_test.shape)\n",
        "print(y_test.shape)\n",
        "\n",
        "x_train[:,0].shape\n",
        "\n",
        "# print(\"x\",x_test)\n",
        "# print(\"y\",y_test)"
      ],
      "execution_count": null,
      "outputs": [
        {
          "output_type": "stream",
          "text": [
            "(184392, 27)\n",
            "(184392,)\n",
            "(46098, 27)\n",
            "(46098,)\n"
          ],
          "name": "stdout"
        },
        {
          "output_type": "execute_result",
          "data": {
            "text/plain": [
              "(184392,)"
            ]
          },
          "metadata": {
            "tags": []
          },
          "execution_count": 102
        }
      ]
    },
    {
      "cell_type": "code",
      "metadata": {
        "id": "Dh9bh5_tR_3k",
        "colab": {
          "base_uri": "https://localhost:8080/"
        },
        "outputId": "6e3f0a89-1f28-457f-e374-82da460d6da0"
      },
      "source": [
        "df.isna().sum()"
      ],
      "execution_count": null,
      "outputs": [
        {
          "output_type": "execute_result",
          "data": {
            "text/plain": [
              "regio1                  0\n",
              "serviceCharge           0\n",
              "heatingType             0\n",
              "telekomTvOffer          0\n",
              "newlyConst              0\n",
              "balcony                 0\n",
              "pricetrend              0\n",
              "telekomUploadSpeed      0\n",
              "totalRent               0\n",
              "yearConstructed         0\n",
              "hasKitchen              0\n",
              "cellar                  0\n",
              "yearConstructedRange    0\n",
              "baseRent                0\n",
              "livingSpace             0\n",
              "condition               0\n",
              "interiorQual            0\n",
              "petsAllowed             0\n",
              "baseRentRange           0\n",
              "typeOfFlat              0\n",
              "geo_plz                 0\n",
              "noRooms                 0\n",
              "thermalChar             0\n",
              "floor                   0\n",
              "noRoomsRange            0\n",
              "garden                  0\n",
              "livingSpaceRange        0\n",
              "livingSpaceNorm         0\n",
              "dtype: int64"
            ]
          },
          "metadata": {
            "tags": []
          },
          "execution_count": 103
        }
      ]
    },
    {
      "cell_type": "markdown",
      "metadata": {
        "id": "oIlyuM7xVIZL"
      },
      "source": [
        "#Regression Without package"
      ]
    },
    {
      "cell_type": "code",
      "metadata": {
        "id": "Vu5Nvx3DwfqB",
        "colab": {
          "base_uri": "https://localhost:8080/"
        },
        "outputId": "da0ea382-883f-4108-9c25-1dff18631222"
      },
      "source": [
        "np.random.seed(42)\n",
        "b = np.random.randn(1)\n",
        "w = np.random.randn(27)\n",
        "n = x_train.shape[0]\n",
        "\n",
        "# print(\"b:  \",b)\n",
        "# print(\"w:  \",w)\n",
        "# print(\"n:  \",n)\n",
        "\n",
        "lr = 0.00000000001\n",
        "\n",
        "n_epochs = 800\n",
        "\n",
        "test_error =  y_test - np.sum((w * x_test) + b , axis = 1)\n",
        "\n",
        "test_mse = (test_error**2).mean()           \n",
        "# print('init MSE : ',test_mse)\n",
        "              \n",
        "for epoch in range(n_epochs):\n",
        "    error = y_train - np.sum((w * x_train) + b , axis = 1)\n",
        "    \n",
        "    if epoch % 100 == 0:    \n",
        "        print('epoch {} , MSE : {}'.format(epoch,(error**2).mean()))\n",
        "    \n",
        "    w_grad = [0] * x_train.shape[1]\n",
        "    b_grad = 0\n",
        "    \n",
        "    for i in range(x_train.shape[1]):\n",
        "        w_grad[i] = -1 * (x_train[:,i] * error).mean()\n",
        "        w[i] = w[i] - (lr * w_grad[i])\n",
        "        \n",
        "    b_grad = -1 * error.mean()\n",
        "    b = b - (lr*b_grad)\n",
        "              \n",
        "\n",
        "# test_error = y_test - np.sum((w * x_test) + b , axis = 1)\n",
        "# test_mse = (test_error**2).mean() \n",
        "# print('Final MSE : ',test_mse)"
      ],
      "execution_count": null,
      "outputs": [
        {
          "output_type": "stream",
          "text": [
            "epoch 0 , MSE : 4555670139.06267\n",
            "epoch 100 , MSE : 53306839.7375197\n",
            "epoch 200 , MSE : 1797634.0440363486\n",
            "epoch 300 , MSE : 1205097.987801807\n",
            "epoch 400 , MSE : 1195046.792935899\n",
            "epoch 500 , MSE : 1191669.925738583\n",
            "epoch 600 , MSE : 1188380.2210764152\n",
            "epoch 700 , MSE : 1185102.287046369\n"
          ],
          "name": "stdout"
        }
      ]
    },
    {
      "cell_type": "markdown",
      "metadata": {
        "id": "TXo7rGy1jHr7"
      },
      "source": [
        "#10-fild method"
      ]
    },
    {
      "cell_type": "code",
      "metadata": {
        "id": "BU0bHU8ZVGOB"
      },
      "source": [
        "def RMSLE10(model):\n",
        "    kf = KFold(10, shuffle=True, random_state=42).get_n_splits(x_train)\n",
        "    rmse= np.sqrt(-cross_val_score(model, x_train, y_train, scoring=\"neg_mean_squared_error\", cv = kf))\n",
        "    return rmse"
      ],
      "execution_count": null,
      "outputs": []
    },
    {
      "cell_type": "markdown",
      "metadata": {
        "id": "L8SQUYRLjLuL"
      },
      "source": [
        "#5-fild method"
      ]
    },
    {
      "cell_type": "code",
      "metadata": {
        "id": "S83PLjqeWbkS"
      },
      "source": [
        "def RMSLE5(model):\n",
        "    kf = KFold(5, shuffle=True, random_state=42).get_n_splits(x_train)\n",
        "    rmse= np.sqrt(-cross_val_score(model, x_train, y_train, scoring=\"neg_mean_squared_error\", cv = kf))\n",
        "    return rmse"
      ],
      "execution_count": null,
      "outputs": []
    },
    {
      "cell_type": "code",
      "metadata": {
        "id": "P_PnuZtp1wIU",
        "colab": {
          "base_uri": "https://localhost:8080/",
          "height": 204
        },
        "outputId": "b75c80c4-a7df-4aa8-fda2-752da0b6e269"
      },
      "source": [
        "np.random.seed(42)\n",
        "b = np.random.randn(1)\n",
        "w = np.random.randn(27)\n",
        "n = x_train.shape[0]\n",
        "\n",
        "y_pred = np.sum((w * x_test) + b , axis = 1)\n",
        "temp = pd.DataFrame({'test':y_test,'pred':y_pred})\n",
        "temp.head()\n",
        "\n",
        "# print(w)\n",
        "# print(y_test)"
      ],
      "execution_count": null,
      "outputs": [
        {
          "output_type": "execute_result",
          "data": {
            "text/html": [
              "<div>\n",
              "<style scoped>\n",
              "    .dataframe tbody tr th:only-of-type {\n",
              "        vertical-align: middle;\n",
              "    }\n",
              "\n",
              "    .dataframe tbody tr th {\n",
              "        vertical-align: top;\n",
              "    }\n",
              "\n",
              "    .dataframe thead th {\n",
              "        text-align: right;\n",
              "    }\n",
              "</style>\n",
              "<table border=\"1\" class=\"dataframe\">\n",
              "  <thead>\n",
              "    <tr style=\"text-align: right;\">\n",
              "      <th></th>\n",
              "      <th>test</th>\n",
              "      <th>pred</th>\n",
              "    </tr>\n",
              "  </thead>\n",
              "  <tbody>\n",
              "    <tr>\n",
              "      <th>0</th>\n",
              "      <td>125.45</td>\n",
              "      <td>92339.615662</td>\n",
              "    </tr>\n",
              "    <tr>\n",
              "      <th>1</th>\n",
              "      <td>74.16</td>\n",
              "      <td>86627.249383</td>\n",
              "    </tr>\n",
              "    <tr>\n",
              "      <th>2</th>\n",
              "      <td>128.00</td>\n",
              "      <td>80101.783417</td>\n",
              "    </tr>\n",
              "    <tr>\n",
              "      <th>3</th>\n",
              "      <td>76.00</td>\n",
              "      <td>104779.069983</td>\n",
              "    </tr>\n",
              "    <tr>\n",
              "      <th>4</th>\n",
              "      <td>52.80</td>\n",
              "      <td>64401.421054</td>\n",
              "    </tr>\n",
              "  </tbody>\n",
              "</table>\n",
              "</div>"
            ],
            "text/plain": [
              "     test           pred\n",
              "0  125.45   92339.615662\n",
              "1   74.16   86627.249383\n",
              "2  128.00   80101.783417\n",
              "3   76.00  104779.069983\n",
              "4   52.80   64401.421054"
            ]
          },
          "metadata": {
            "tags": []
          },
          "execution_count": 107
        }
      ]
    },
    {
      "cell_type": "markdown",
      "metadata": {
        "id": "shqxMjOzAC5Z"
      },
      "source": [
        "Accuracy With out Package regression"
      ]
    },
    {
      "cell_type": "code",
      "metadata": {
        "id": "t91TTXO44vPa",
        "colab": {
          "base_uri": "https://localhost:8080/"
        },
        "outputId": "b7e80b9d-f8a0-42f1-c97f-e688eb05856b"
      },
      "source": [
        "temp['upper_range'] = temp['test'] * 1.1\n",
        "temp['lower_range'] = temp['test'] * 0.9\n",
        "\n",
        "temp[(temp['upper_range'] >=temp['pred']) & (temp['pred'] >= temp['lower_range'])].shape[0] * 100/temp.shape[0]"
      ],
      "execution_count": null,
      "outputs": [
        {
          "output_type": "execute_result",
          "data": {
            "text/plain": [
              "0.021692915093930322"
            ]
          },
          "metadata": {
            "tags": []
          },
          "execution_count": 108
        }
      ]
    },
    {
      "cell_type": "markdown",
      "metadata": {
        "id": "tosD-5aAAL1Y"
      },
      "source": [
        "#Initial regression libs"
      ]
    },
    {
      "cell_type": "code",
      "metadata": {
        "id": "enHUCAezATkB"
      },
      "source": [
        "from sklearn.linear_model import LinearRegression , Ridge, Lasso\n",
        "from sklearn.metrics import mean_squared_error\n",
        "Linear = LinearRegression()"
      ],
      "execution_count": null,
      "outputs": []
    },
    {
      "cell_type": "markdown",
      "metadata": {
        "id": "HLNksESLdSyf"
      },
      "source": [
        "#Implementation with linear Regression package"
      ]
    },
    {
      "cell_type": "code",
      "metadata": {
        "id": "B3RIFdirAWHp",
        "colab": {
          "base_uri": "https://localhost:8080/"
        },
        "outputId": "4ba888cc-0031-4f7f-a9fe-d99029e96e6e"
      },
      "source": [
        "lr=Linear.fit(x_train,y_train)\n",
        "print(lr.coef_)\n",
        "print(lr.intercept_)\n",
        "\n",
        "# y_pred_lr = np.exp(lr.predict(x_test))\n",
        "# lr_score = lr.score(x_train, y_train)*100\n",
        "\n",
        "rmse5 = RMSLE5(lr).mean()\n",
        "rmse10 = RMSLE10(lr).mean()\n",
        "print(rmse5)\n",
        "print(rmse10)"
      ],
      "execution_count": null,
      "outputs": [
        {
          "output_type": "stream",
          "text": [
            "[ 2.68267966e-02  2.20728614e-02  3.99930771e-03 -3.15473470e-01\n",
            " -1.51991621e+00 -4.95965245e-01 -1.65943601e-01 -6.84796275e-03\n",
            "  7.22128083e-04 -3.15134529e-03  5.05422600e-01 -1.09121337e+00\n",
            " -7.31147628e-04  1.08258546e-02 -1.14416112e-02  3.04422414e-01\n",
            " -8.87986733e-02 -1.57516161e+00  3.76954182e-01 -5.19026221e-06\n",
            "  1.03504792e+01 -8.67869786e-04 -1.26944288e-01 -9.46607628e+00\n",
            "  2.33940624e-01  1.08928763e+01  2.90872625e+01]\n",
            "-82.78257982473187\n",
            "7.601871036233857\n",
            "7.56729863346641\n"
          ],
          "name": "stdout"
        }
      ]
    },
    {
      "cell_type": "markdown",
      "metadata": {
        "id": "nPdMuEyF9WgI"
      },
      "source": [
        "MSE With Package regression"
      ]
    },
    {
      "cell_type": "code",
      "metadata": {
        "id": "cRZX68f9AZCw",
        "colab": {
          "base_uri": "https://localhost:8080/"
        },
        "outputId": "eff4abc6-19cf-4232-81be-5c8ee725be80"
      },
      "source": [
        "y_pred = Linear.predict(x_test)\n",
        "mean_squared_error(y_pred,y_test)"
      ],
      "execution_count": null,
      "outputs": [
        {
          "output_type": "execute_result",
          "data": {
            "text/plain": [
              "51.24166438594569"
            ]
          },
          "metadata": {
            "tags": []
          },
          "execution_count": 111
        }
      ]
    },
    {
      "cell_type": "code",
      "metadata": {
        "id": "wNoSHJe-AeNw",
        "colab": {
          "base_uri": "https://localhost:8080/",
          "height": 204
        },
        "outputId": "4a8f0fad-1f3f-42fa-a98a-60f6d580dee8"
      },
      "source": [
        "temp = pd.DataFrame({'test':y_test,'pred':y_pred})\n",
        "temp.head()"
      ],
      "execution_count": null,
      "outputs": [
        {
          "output_type": "execute_result",
          "data": {
            "text/html": [
              "<div>\n",
              "<style scoped>\n",
              "    .dataframe tbody tr th:only-of-type {\n",
              "        vertical-align: middle;\n",
              "    }\n",
              "\n",
              "    .dataframe tbody tr th {\n",
              "        vertical-align: top;\n",
              "    }\n",
              "\n",
              "    .dataframe thead th {\n",
              "        text-align: right;\n",
              "    }\n",
              "</style>\n",
              "<table border=\"1\" class=\"dataframe\">\n",
              "  <thead>\n",
              "    <tr style=\"text-align: right;\">\n",
              "      <th></th>\n",
              "      <th>test</th>\n",
              "      <th>pred</th>\n",
              "    </tr>\n",
              "  </thead>\n",
              "  <tbody>\n",
              "    <tr>\n",
              "      <th>0</th>\n",
              "      <td>125.45</td>\n",
              "      <td>130.844662</td>\n",
              "    </tr>\n",
              "    <tr>\n",
              "      <th>1</th>\n",
              "      <td>74.16</td>\n",
              "      <td>72.157866</td>\n",
              "    </tr>\n",
              "    <tr>\n",
              "      <th>2</th>\n",
              "      <td>128.00</td>\n",
              "      <td>122.677047</td>\n",
              "    </tr>\n",
              "    <tr>\n",
              "      <th>3</th>\n",
              "      <td>76.00</td>\n",
              "      <td>73.651761</td>\n",
              "    </tr>\n",
              "    <tr>\n",
              "      <th>4</th>\n",
              "      <td>52.80</td>\n",
              "      <td>50.293050</td>\n",
              "    </tr>\n",
              "  </tbody>\n",
              "</table>\n",
              "</div>"
            ],
            "text/plain": [
              "     test        pred\n",
              "0  125.45  130.844662\n",
              "1   74.16   72.157866\n",
              "2  128.00  122.677047\n",
              "3   76.00   73.651761\n",
              "4   52.80   50.293050"
            ]
          },
          "metadata": {
            "tags": []
          },
          "execution_count": 112
        }
      ]
    },
    {
      "cell_type": "markdown",
      "metadata": {
        "id": "H_xcAlkzAmyA"
      },
      "source": [
        "Accuracy With Package regression"
      ]
    },
    {
      "cell_type": "code",
      "metadata": {
        "id": "YgcC5q5NAi2Z",
        "colab": {
          "base_uri": "https://localhost:8080/"
        },
        "outputId": "e8ebc7a4-bebe-47df-98b8-278e734df4c1"
      },
      "source": [
        "temp['upper_range'] = temp['test'] * 1.1\n",
        "temp['lower_range'] = temp['test'] * 0.9\n",
        "\n",
        "temp[(temp['upper_range'] >= temp['pred']) & (temp['pred'] >= temp['lower_range'])].shape[0] * 100/temp.shape[0]"
      ],
      "execution_count": null,
      "outputs": [
        {
          "output_type": "execute_result",
          "data": {
            "text/plain": [
              "81.52848279751834"
            ]
          },
          "metadata": {
            "tags": []
          },
          "execution_count": 113
        }
      ]
    },
    {
      "cell_type": "markdown",
      "metadata": {
        "id": "Q7Ea-uV_Y_ZY"
      },
      "source": [
        "#Implementation with Ridge Regression package"
      ]
    },
    {
      "cell_type": "code",
      "metadata": {
        "id": "8uaPZ7IYY_aM",
        "colab": {
          "base_uri": "https://localhost:8080/"
        },
        "outputId": "29c8724c-9a39-45d1-d4d8-f641210adeaa"
      },
      "source": [
        "alphas = [0.001, 0.01, 0.1, 1, 5, 10, 20, 50, 75, 100]\n",
        "for alpha in alphas:\n",
        "    rg = Ridge(alpha = alpha)\n",
        "    rg.fit(x_train, y_train)\n",
        "    rg_score = rg.score(x_train, y_train)\n",
        "    rmse5 = RMSLE5(rg).mean()\n",
        "    # rmse10 = RMSLE10(rg).mean()\n",
        "    print(\"For alpha = {} the Ridge model accuracy score = {:.2f} and  mean rmse5 = {:.3f}\"\n",
        "          .format(alpha, rg_score*100, rmse5))\n",
        "\n",
        "print(rmse5)\n",
        "\n",
        "\n",
        "for alpha in alphas:\n",
        "    rg = Ridge(alpha = alpha)\n",
        "    rg.fit(x_train, y_train)\n",
        "    rg_score = rg.score(x_train, y_train)\n",
        "    rmse10 = RMSLE10(rg).mean()\n",
        "    # rmse10 = RMSLE10(rg).mean()\n",
        "    print(\"For alpha = {} the Ridge model accuracy score = {:.2f} and  mean rmse10 = {:.3f}\"\n",
        "          .format(alpha, rg_score*100, rmse10))\n",
        "\n",
        "print(rmse10)"
      ],
      "execution_count": null,
      "outputs": [
        {
          "output_type": "stream",
          "text": [
            "For alpha = 0.001 the Ridge model accuracy score = 94.44 and  mean rmse5 = 7.602\n",
            "For alpha = 0.01 the Ridge model accuracy score = 94.44 and  mean rmse5 = 7.602\n",
            "For alpha = 0.1 the Ridge model accuracy score = 94.44 and  mean rmse5 = 7.602\n",
            "For alpha = 1 the Ridge model accuracy score = 94.44 and  mean rmse5 = 7.602\n",
            "For alpha = 5 the Ridge model accuracy score = 94.44 and  mean rmse5 = 7.602\n",
            "For alpha = 10 the Ridge model accuracy score = 94.44 and  mean rmse5 = 7.602\n",
            "For alpha = 20 the Ridge model accuracy score = 94.44 and  mean rmse5 = 7.602\n",
            "For alpha = 50 the Ridge model accuracy score = 94.44 and  mean rmse5 = 7.602\n",
            "For alpha = 75 the Ridge model accuracy score = 94.44 and  mean rmse5 = 7.603\n",
            "For alpha = 100 the Ridge model accuracy score = 94.44 and  mean rmse5 = 7.603\n",
            "7.603207508242678\n",
            "For alpha = 0.001 the Ridge model accuracy score = 94.44 and  mean rmse10 = 7.567\n",
            "For alpha = 0.01 the Ridge model accuracy score = 94.44 and  mean rmse10 = 7.567\n",
            "For alpha = 0.1 the Ridge model accuracy score = 94.44 and  mean rmse10 = 7.567\n",
            "For alpha = 1 the Ridge model accuracy score = 94.44 and  mean rmse10 = 7.567\n",
            "For alpha = 5 the Ridge model accuracy score = 94.44 and  mean rmse10 = 7.567\n",
            "For alpha = 10 the Ridge model accuracy score = 94.44 and  mean rmse10 = 7.567\n",
            "For alpha = 20 the Ridge model accuracy score = 94.44 and  mean rmse10 = 7.567\n",
            "For alpha = 50 the Ridge model accuracy score = 94.44 and  mean rmse10 = 7.568\n",
            "For alpha = 75 the Ridge model accuracy score = 94.44 and  mean rmse10 = 7.568\n",
            "For alpha = 100 the Ridge model accuracy score = 94.44 and  mean rmse10 = 7.568\n",
            "7.568319129503074\n"
          ],
          "name": "stdout"
        }
      ]
    },
    {
      "cell_type": "code",
      "metadata": {
        "id": "O5sjqTdcY_aO",
        "colab": {
          "base_uri": "https://localhost:8080/",
          "height": 204
        },
        "outputId": "f9f7d2c7-8c25-4feb-d617-17be317f82eb"
      },
      "source": [
        "temp = pd.DataFrame({'test':y_test,'pred':y_pred})\n",
        "temp.head()"
      ],
      "execution_count": null,
      "outputs": [
        {
          "output_type": "execute_result",
          "data": {
            "text/html": [
              "<div>\n",
              "<style scoped>\n",
              "    .dataframe tbody tr th:only-of-type {\n",
              "        vertical-align: middle;\n",
              "    }\n",
              "\n",
              "    .dataframe tbody tr th {\n",
              "        vertical-align: top;\n",
              "    }\n",
              "\n",
              "    .dataframe thead th {\n",
              "        text-align: right;\n",
              "    }\n",
              "</style>\n",
              "<table border=\"1\" class=\"dataframe\">\n",
              "  <thead>\n",
              "    <tr style=\"text-align: right;\">\n",
              "      <th></th>\n",
              "      <th>test</th>\n",
              "      <th>pred</th>\n",
              "    </tr>\n",
              "  </thead>\n",
              "  <tbody>\n",
              "    <tr>\n",
              "      <th>0</th>\n",
              "      <td>125.45</td>\n",
              "      <td>130.844662</td>\n",
              "    </tr>\n",
              "    <tr>\n",
              "      <th>1</th>\n",
              "      <td>74.16</td>\n",
              "      <td>72.157866</td>\n",
              "    </tr>\n",
              "    <tr>\n",
              "      <th>2</th>\n",
              "      <td>128.00</td>\n",
              "      <td>122.677047</td>\n",
              "    </tr>\n",
              "    <tr>\n",
              "      <th>3</th>\n",
              "      <td>76.00</td>\n",
              "      <td>73.651761</td>\n",
              "    </tr>\n",
              "    <tr>\n",
              "      <th>4</th>\n",
              "      <td>52.80</td>\n",
              "      <td>50.293050</td>\n",
              "    </tr>\n",
              "  </tbody>\n",
              "</table>\n",
              "</div>"
            ],
            "text/plain": [
              "     test        pred\n",
              "0  125.45  130.844662\n",
              "1   74.16   72.157866\n",
              "2  128.00  122.677047\n",
              "3   76.00   73.651761\n",
              "4   52.80   50.293050"
            ]
          },
          "metadata": {
            "tags": []
          },
          "execution_count": 115
        }
      ]
    },
    {
      "cell_type": "markdown",
      "metadata": {
        "id": "mNgvC64pY_aP"
      },
      "source": [
        "MSE With Ridge Package regression \\\\\n",
        "Accuracy With Ridge Package regression"
      ]
    },
    {
      "cell_type": "code",
      "metadata": {
        "id": "a1U0fKqXY_aP",
        "colab": {
          "base_uri": "https://localhost:8080/"
        },
        "outputId": "db8d949a-95a9-4a13-bfbc-3da0f301daea"
      },
      "source": [
        "alpha = 10\n",
        "rg = Ridge(alpha = alpha)\n",
        "rg.fit(x_train, y_train)\n",
        "y_pred_rg = np.exp(rg.predict(x_test))\n",
        "rg_score = rg.score(x_train, y_train)\n",
        "rmse5 = RMSLE5(rg).mean()\n",
        "rmse10 = RMSLE10(rg).mean()\n",
        "print(\"For alpha = {} the Ridge model accuracy score = {:.2f} and  mean rmse5 = {:.3f}\"\n",
        "          .format(alpha, rg_score*100, rmse5))\n",
        "print(\"For alpha = {} the Ridge model accuracy score = {:.2f} and  mean rmse10 = {:.3f}\"\n",
        "          .format(alpha, rg_score*100, rmse10))\n",
        "# print(y_pred_rg[:10])"
      ],
      "execution_count": null,
      "outputs": [
        {
          "output_type": "stream",
          "text": [
            "For alpha = 10 the Ridge model accuracy score = 94.44 and  mean rmse5 = 7.602\n",
            "For alpha = 10 the Ridge model accuracy score = 94.44 and  mean rmse10 = 7.567\n"
          ],
          "name": "stdout"
        }
      ]
    },
    {
      "cell_type": "markdown",
      "metadata": {
        "id": "GqVpp5yqajDi"
      },
      "source": [
        "#Implementation with lasso Regression package"
      ]
    },
    {
      "cell_type": "code",
      "metadata": {
        "id": "_Mx4mHk6ajEI",
        "colab": {
          "base_uri": "https://localhost:8080/"
        },
        "outputId": "d3841d5c-2a37-4e2f-f349-3f5cfc6a94a1"
      },
      "source": [
        "lasr = Lasso()\n",
        "lasr.fit(x_train, y_train)\n",
        "y_pred_lasr = np.exp(lasr.predict(x_test))\n",
        "lasr_score = lasr.score(x_train, y_train)\n",
        "print(\"Lasso Accuracy  score = {:.2f}\".format(lasr_score*100))\n",
        "RMSLE5(lasr)"
      ],
      "execution_count": null,
      "outputs": [
        {
          "output_type": "stream",
          "text": [
            "Lasso Accuracy  score = 92.19\n"
          ],
          "name": "stdout"
        },
        {
          "output_type": "execute_result",
          "data": {
            "text/plain": [
              "array([9.2730112 , 8.3657925 , 9.29276164, 8.62591619, 9.14773747])"
            ]
          },
          "metadata": {
            "tags": []
          },
          "execution_count": 117
        }
      ]
    },
    {
      "cell_type": "markdown",
      "metadata": {
        "id": "cVffp01PajEL"
      },
      "source": [
        "MSE With lasso Package regression \\\\\n",
        "Accuracy With lasso Package regression"
      ]
    },
    {
      "cell_type": "code",
      "metadata": {
        "id": "HBndYhQPd_CF",
        "colab": {
          "base_uri": "https://localhost:8080/"
        },
        "outputId": "32f6202e-7cec-4c9c-db2b-024baad10aa4"
      },
      "source": [
        "alpha = 0.001\n",
        "lasr = Lasso(alpha = alpha)\n",
        "lasr.fit(x_train, y_train)\n",
        "y_pred_lasr = np.exp(lasr.predict(x_test))\n",
        "lasr_score = lasr.score(x_train, y_train)\n",
        "print(\"Lasso Accuracy score = {:.2f} at alpha = {}\".format(lasr_score*100, alpha))\n",
        "print(\"RMSE5 = {} \".format(RMSLE5(lasr)))\n",
        "print(\"RMSE5 = {} \".format(RMSLE10(lasr)))"
      ],
      "execution_count": null,
      "outputs": [
        {
          "output_type": "stream",
          "text": [
            "Lasso Accuracy score = 94.44 at alpha = 0.001\n",
            "RMSE5 = [7.8186374  6.96915129 7.78720005 7.18957409 8.2449859 ] \n",
            "RMSE5 = [8.01011607 7.61579186 6.85750249 7.07311762 7.58724785 7.95608619\n",
            " 6.95317544 7.39799318 8.57258661 7.64961217] \n"
          ],
          "name": "stdout"
        }
      ]
    }
  ]
}